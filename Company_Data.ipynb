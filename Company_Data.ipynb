{
 "cells": [
  {
   "cell_type": "code",
   "execution_count": 2,
   "id": "36d03f63",
   "metadata": {},
   "outputs": [],
   "source": [
    "import pandas as pd"
   ]
  },
  {
   "cell_type": "code",
   "execution_count": 3,
   "id": "6c191366",
   "metadata": {},
   "outputs": [],
   "source": [
    "import numpy as np"
   ]
  },
  {
   "cell_type": "code",
   "execution_count": 4,
   "id": "91c77f91",
   "metadata": {},
   "outputs": [],
   "source": [
    "## Revannath Assigmnet for the Company data as decision tree"
   ]
  },
  {
   "cell_type": "code",
   "execution_count": 5,
   "id": "397173c6",
   "metadata": {},
   "outputs": [],
   "source": [
    "data = pd.read_csv('C:/Users/hp/Desktop/Revannath Data Sci/Assignments/14-Decision Tree/Company_Data.csv')"
   ]
  },
  {
   "cell_type": "code",
   "execution_count": 6,
   "id": "57fbfebf",
   "metadata": {},
   "outputs": [
    {
     "data": {
      "text/html": [
       "<div>\n",
       "<style scoped>\n",
       "    .dataframe tbody tr th:only-of-type {\n",
       "        vertical-align: middle;\n",
       "    }\n",
       "\n",
       "    .dataframe tbody tr th {\n",
       "        vertical-align: top;\n",
       "    }\n",
       "\n",
       "    .dataframe thead th {\n",
       "        text-align: right;\n",
       "    }\n",
       "</style>\n",
       "<table border=\"1\" class=\"dataframe\">\n",
       "  <thead>\n",
       "    <tr style=\"text-align: right;\">\n",
       "      <th></th>\n",
       "      <th>Sales</th>\n",
       "      <th>CompPrice</th>\n",
       "      <th>Income</th>\n",
       "      <th>Advertising</th>\n",
       "      <th>Population</th>\n",
       "      <th>Price</th>\n",
       "      <th>ShelveLoc</th>\n",
       "      <th>Age</th>\n",
       "      <th>Education</th>\n",
       "      <th>Urban</th>\n",
       "      <th>US</th>\n",
       "    </tr>\n",
       "  </thead>\n",
       "  <tbody>\n",
       "    <tr>\n",
       "      <th>0</th>\n",
       "      <td>9.50</td>\n",
       "      <td>138</td>\n",
       "      <td>73</td>\n",
       "      <td>11</td>\n",
       "      <td>276</td>\n",
       "      <td>120</td>\n",
       "      <td>Bad</td>\n",
       "      <td>42</td>\n",
       "      <td>17</td>\n",
       "      <td>Yes</td>\n",
       "      <td>Yes</td>\n",
       "    </tr>\n",
       "    <tr>\n",
       "      <th>1</th>\n",
       "      <td>11.22</td>\n",
       "      <td>111</td>\n",
       "      <td>48</td>\n",
       "      <td>16</td>\n",
       "      <td>260</td>\n",
       "      <td>83</td>\n",
       "      <td>Good</td>\n",
       "      <td>65</td>\n",
       "      <td>10</td>\n",
       "      <td>Yes</td>\n",
       "      <td>Yes</td>\n",
       "    </tr>\n",
       "    <tr>\n",
       "      <th>2</th>\n",
       "      <td>10.06</td>\n",
       "      <td>113</td>\n",
       "      <td>35</td>\n",
       "      <td>10</td>\n",
       "      <td>269</td>\n",
       "      <td>80</td>\n",
       "      <td>Medium</td>\n",
       "      <td>59</td>\n",
       "      <td>12</td>\n",
       "      <td>Yes</td>\n",
       "      <td>Yes</td>\n",
       "    </tr>\n",
       "    <tr>\n",
       "      <th>3</th>\n",
       "      <td>7.40</td>\n",
       "      <td>117</td>\n",
       "      <td>100</td>\n",
       "      <td>4</td>\n",
       "      <td>466</td>\n",
       "      <td>97</td>\n",
       "      <td>Medium</td>\n",
       "      <td>55</td>\n",
       "      <td>14</td>\n",
       "      <td>Yes</td>\n",
       "      <td>Yes</td>\n",
       "    </tr>\n",
       "    <tr>\n",
       "      <th>4</th>\n",
       "      <td>4.15</td>\n",
       "      <td>141</td>\n",
       "      <td>64</td>\n",
       "      <td>3</td>\n",
       "      <td>340</td>\n",
       "      <td>128</td>\n",
       "      <td>Bad</td>\n",
       "      <td>38</td>\n",
       "      <td>13</td>\n",
       "      <td>Yes</td>\n",
       "      <td>No</td>\n",
       "    </tr>\n",
       "  </tbody>\n",
       "</table>\n",
       "</div>"
      ],
      "text/plain": [
       "   Sales  CompPrice  Income  Advertising  Population  Price ShelveLoc  Age  \\\n",
       "0   9.50        138      73           11         276    120       Bad   42   \n",
       "1  11.22        111      48           16         260     83      Good   65   \n",
       "2  10.06        113      35           10         269     80    Medium   59   \n",
       "3   7.40        117     100            4         466     97    Medium   55   \n",
       "4   4.15        141      64            3         340    128       Bad   38   \n",
       "\n",
       "   Education Urban   US  \n",
       "0         17   Yes  Yes  \n",
       "1         10   Yes  Yes  \n",
       "2         12   Yes  Yes  \n",
       "3         14   Yes  Yes  \n",
       "4         13   Yes   No  "
      ]
     },
     "execution_count": 6,
     "metadata": {},
     "output_type": "execute_result"
    }
   ],
   "source": [
    "data.head()"
   ]
  },
  {
   "cell_type": "code",
   "execution_count": 7,
   "id": "9717faed",
   "metadata": {},
   "outputs": [
    {
     "data": {
      "text/html": [
       "<div>\n",
       "<style scoped>\n",
       "    .dataframe tbody tr th:only-of-type {\n",
       "        vertical-align: middle;\n",
       "    }\n",
       "\n",
       "    .dataframe tbody tr th {\n",
       "        vertical-align: top;\n",
       "    }\n",
       "\n",
       "    .dataframe thead th {\n",
       "        text-align: right;\n",
       "    }\n",
       "</style>\n",
       "<table border=\"1\" class=\"dataframe\">\n",
       "  <thead>\n",
       "    <tr style=\"text-align: right;\">\n",
       "      <th></th>\n",
       "      <th>Sales</th>\n",
       "      <th>CompPrice</th>\n",
       "      <th>Income</th>\n",
       "      <th>Advertising</th>\n",
       "      <th>Population</th>\n",
       "      <th>Price</th>\n",
       "      <th>Age</th>\n",
       "      <th>Education</th>\n",
       "    </tr>\n",
       "  </thead>\n",
       "  <tbody>\n",
       "    <tr>\n",
       "      <th>count</th>\n",
       "      <td>400.000000</td>\n",
       "      <td>400.000000</td>\n",
       "      <td>400.000000</td>\n",
       "      <td>400.000000</td>\n",
       "      <td>400.000000</td>\n",
       "      <td>400.000000</td>\n",
       "      <td>400.000000</td>\n",
       "      <td>400.000000</td>\n",
       "    </tr>\n",
       "    <tr>\n",
       "      <th>mean</th>\n",
       "      <td>7.496325</td>\n",
       "      <td>124.975000</td>\n",
       "      <td>68.657500</td>\n",
       "      <td>6.635000</td>\n",
       "      <td>264.840000</td>\n",
       "      <td>115.795000</td>\n",
       "      <td>53.322500</td>\n",
       "      <td>13.900000</td>\n",
       "    </tr>\n",
       "    <tr>\n",
       "      <th>std</th>\n",
       "      <td>2.824115</td>\n",
       "      <td>15.334512</td>\n",
       "      <td>27.986037</td>\n",
       "      <td>6.650364</td>\n",
       "      <td>147.376436</td>\n",
       "      <td>23.676664</td>\n",
       "      <td>16.200297</td>\n",
       "      <td>2.620528</td>\n",
       "    </tr>\n",
       "    <tr>\n",
       "      <th>min</th>\n",
       "      <td>0.000000</td>\n",
       "      <td>77.000000</td>\n",
       "      <td>21.000000</td>\n",
       "      <td>0.000000</td>\n",
       "      <td>10.000000</td>\n",
       "      <td>24.000000</td>\n",
       "      <td>25.000000</td>\n",
       "      <td>10.000000</td>\n",
       "    </tr>\n",
       "    <tr>\n",
       "      <th>25%</th>\n",
       "      <td>5.390000</td>\n",
       "      <td>115.000000</td>\n",
       "      <td>42.750000</td>\n",
       "      <td>0.000000</td>\n",
       "      <td>139.000000</td>\n",
       "      <td>100.000000</td>\n",
       "      <td>39.750000</td>\n",
       "      <td>12.000000</td>\n",
       "    </tr>\n",
       "    <tr>\n",
       "      <th>50%</th>\n",
       "      <td>7.490000</td>\n",
       "      <td>125.000000</td>\n",
       "      <td>69.000000</td>\n",
       "      <td>5.000000</td>\n",
       "      <td>272.000000</td>\n",
       "      <td>117.000000</td>\n",
       "      <td>54.500000</td>\n",
       "      <td>14.000000</td>\n",
       "    </tr>\n",
       "    <tr>\n",
       "      <th>75%</th>\n",
       "      <td>9.320000</td>\n",
       "      <td>135.000000</td>\n",
       "      <td>91.000000</td>\n",
       "      <td>12.000000</td>\n",
       "      <td>398.500000</td>\n",
       "      <td>131.000000</td>\n",
       "      <td>66.000000</td>\n",
       "      <td>16.000000</td>\n",
       "    </tr>\n",
       "    <tr>\n",
       "      <th>max</th>\n",
       "      <td>16.270000</td>\n",
       "      <td>175.000000</td>\n",
       "      <td>120.000000</td>\n",
       "      <td>29.000000</td>\n",
       "      <td>509.000000</td>\n",
       "      <td>191.000000</td>\n",
       "      <td>80.000000</td>\n",
       "      <td>18.000000</td>\n",
       "    </tr>\n",
       "  </tbody>\n",
       "</table>\n",
       "</div>"
      ],
      "text/plain": [
       "            Sales   CompPrice      Income  Advertising  Population  \\\n",
       "count  400.000000  400.000000  400.000000   400.000000  400.000000   \n",
       "mean     7.496325  124.975000   68.657500     6.635000  264.840000   \n",
       "std      2.824115   15.334512   27.986037     6.650364  147.376436   \n",
       "min      0.000000   77.000000   21.000000     0.000000   10.000000   \n",
       "25%      5.390000  115.000000   42.750000     0.000000  139.000000   \n",
       "50%      7.490000  125.000000   69.000000     5.000000  272.000000   \n",
       "75%      9.320000  135.000000   91.000000    12.000000  398.500000   \n",
       "max     16.270000  175.000000  120.000000    29.000000  509.000000   \n",
       "\n",
       "            Price         Age   Education  \n",
       "count  400.000000  400.000000  400.000000  \n",
       "mean   115.795000   53.322500   13.900000  \n",
       "std     23.676664   16.200297    2.620528  \n",
       "min     24.000000   25.000000   10.000000  \n",
       "25%    100.000000   39.750000   12.000000  \n",
       "50%    117.000000   54.500000   14.000000  \n",
       "75%    131.000000   66.000000   16.000000  \n",
       "max    191.000000   80.000000   18.000000  "
      ]
     },
     "execution_count": 7,
     "metadata": {},
     "output_type": "execute_result"
    }
   ],
   "source": [
    "data.describe()"
   ]
  },
  {
   "cell_type": "code",
   "execution_count": 8,
   "id": "26f1674b",
   "metadata": {},
   "outputs": [],
   "source": [
    "##import library for metaplotlib\n",
    "import matplotlib.pyplot as plt"
   ]
  },
  {
   "cell_type": "code",
   "execution_count": 9,
   "id": "733cc012",
   "metadata": {},
   "outputs": [
    {
     "data": {
      "text/html": [
       "<div>\n",
       "<style scoped>\n",
       "    .dataframe tbody tr th:only-of-type {\n",
       "        vertical-align: middle;\n",
       "    }\n",
       "\n",
       "    .dataframe tbody tr th {\n",
       "        vertical-align: top;\n",
       "    }\n",
       "\n",
       "    .dataframe thead th {\n",
       "        text-align: right;\n",
       "    }\n",
       "</style>\n",
       "<table border=\"1\" class=\"dataframe\">\n",
       "  <thead>\n",
       "    <tr style=\"text-align: right;\">\n",
       "      <th></th>\n",
       "      <th>Sales</th>\n",
       "      <th>CompPrice</th>\n",
       "      <th>Income</th>\n",
       "      <th>Advertising</th>\n",
       "      <th>Population</th>\n",
       "      <th>Price</th>\n",
       "      <th>ShelveLoc</th>\n",
       "      <th>Age</th>\n",
       "      <th>Education</th>\n",
       "      <th>Urban</th>\n",
       "      <th>US</th>\n",
       "    </tr>\n",
       "  </thead>\n",
       "  <tbody>\n",
       "  </tbody>\n",
       "</table>\n",
       "</div>"
      ],
      "text/plain": [
       "Empty DataFrame\n",
       "Columns: [Sales, CompPrice, Income, Advertising, Population, Price, ShelveLoc, Age, Education, Urban, US]\n",
       "Index: []"
      ]
     },
     "execution_count": 9,
     "metadata": {},
     "output_type": "execute_result"
    }
   ],
   "source": [
    "data[data.isnull().any(axis=1)]"
   ]
  },
  {
   "cell_type": "code",
   "execution_count": 10,
   "id": "b34366ec",
   "metadata": {},
   "outputs": [],
   "source": [
    "## here no null value in the given data"
   ]
  },
  {
   "cell_type": "code",
   "execution_count": 11,
   "id": "99ac5d6b",
   "metadata": {},
   "outputs": [
    {
     "name": "stdout",
     "output_type": "stream",
     "text": [
      "<class 'pandas.core.frame.DataFrame'>\n",
      "RangeIndex: 400 entries, 0 to 399\n",
      "Data columns (total 11 columns):\n",
      " #   Column       Non-Null Count  Dtype  \n",
      "---  ------       --------------  -----  \n",
      " 0   Sales        400 non-null    float64\n",
      " 1   CompPrice    400 non-null    int64  \n",
      " 2   Income       400 non-null    int64  \n",
      " 3   Advertising  400 non-null    int64  \n",
      " 4   Population   400 non-null    int64  \n",
      " 5   Price        400 non-null    int64  \n",
      " 6   ShelveLoc    400 non-null    object \n",
      " 7   Age          400 non-null    int64  \n",
      " 8   Education    400 non-null    int64  \n",
      " 9   Urban        400 non-null    object \n",
      " 10  US           400 non-null    object \n",
      "dtypes: float64(1), int64(7), object(3)\n",
      "memory usage: 34.5+ KB\n",
      "None\n"
     ]
    }
   ],
   "source": [
    "print(data.info())"
   ]
  },
  {
   "cell_type": "code",
   "execution_count": 12,
   "id": "f8d07aef",
   "metadata": {},
   "outputs": [
    {
     "data": {
      "text/plain": [
       "Index(['Sales', 'CompPrice', 'Income', 'Advertising', 'Population', 'Price',\n",
       "       'ShelveLoc', 'Age', 'Education', 'Urban', 'US'],\n",
       "      dtype='object')"
      ]
     },
     "execution_count": 12,
     "metadata": {},
     "output_type": "execute_result"
    }
   ],
   "source": [
    "data.columns"
   ]
  },
  {
   "cell_type": "code",
   "execution_count": 13,
   "id": "2013df7d",
   "metadata": {},
   "outputs": [],
   "source": [
    "colnames = list(data.columns)"
   ]
  },
  {
   "cell_type": "code",
   "execution_count": 14,
   "id": "04de969e",
   "metadata": {},
   "outputs": [],
   "source": [
    "predictors = colnames[1:]"
   ]
  },
  {
   "cell_type": "code",
   "execution_count": 15,
   "id": "edd74345",
   "metadata": {},
   "outputs": [],
   "source": [
    "target = colnames[0]"
   ]
  },
  {
   "cell_type": "code",
   "execution_count": 16,
   "id": "00196c8c",
   "metadata": {},
   "outputs": [],
   "source": [
    "import numpy as np"
   ]
  },
  {
   "cell_type": "code",
   "execution_count": 17,
   "id": "df0d2e8f",
   "metadata": {},
   "outputs": [],
   "source": [
    "import seaborn as sb"
   ]
  },
  {
   "cell_type": "code",
   "execution_count": 18,
   "id": "ec7eb77b",
   "metadata": {},
   "outputs": [],
   "source": [
    "#see the boxplot for the given data "
   ]
  },
  {
   "cell_type": "code",
   "execution_count": 19,
   "id": "3f137bf3",
   "metadata": {},
   "outputs": [
    {
     "data": {
      "text/plain": [
       "<AxesSubplot:>"
      ]
     },
     "execution_count": 19,
     "metadata": {},
     "output_type": "execute_result"
    },
    {
     "data": {
      "image/png": "[encoded data removed]",
      "text/plain": [
       "<Figure size 432x288 with 1 Axes>"
      ]
     },
     "metadata": {
      "needs_background": "light"
     },
     "output_type": "display_data"
    }
   ],
   "source": [
    "sb.boxplot(data = data)"
   ]
  },
  {
   "cell_type": "code",
   "execution_count": 20,
   "id": "ad6e8f7b",
   "metadata": {},
   "outputs": [],
   "source": [
    "#There are few plots with the outliers present in them so we will create a function  for finding out these outliers"
   ]
  },
  {
   "cell_type": "code",
   "execution_count": 21,
   "id": "3f3c8317",
   "metadata": {},
   "outputs": [],
   "source": [
    "outliers=[]"
   ]
  },
  {
   "cell_type": "code",
   "execution_count": 22,
   "id": "bbb52e44",
   "metadata": {},
   "outputs": [],
   "source": [
    "def detect_outlier(data_1):\n",
    "    outliers.clear()\n",
    "    threshold=3\n",
    "    mean_1 = np.mean(data_1)\n",
    "    std_1 =np.std(data_1)\n",
    "    \n",
    "    for y in data_1:\n",
    "        z_score= (y - mean_1)/std_1 \n",
    "        if np.abs(z_score) > threshold:\n",
    "            outliers.append(y)\n",
    "    return outliers"
   ]
  },
  {
   "cell_type": "code",
   "execution_count": 23,
   "id": "7d6a961a",
   "metadata": {},
   "outputs": [],
   "source": [
    "# Outliers present in the sales"
   ]
  },
  {
   "cell_type": "code",
   "execution_count": 24,
   "id": "1749a328",
   "metadata": {},
   "outputs": [],
   "source": [
    "outlier_sales = detect_outlier(data.Sales)"
   ]
  },
  {
   "cell_type": "code",
   "execution_count": 25,
   "id": "ab42a3f3",
   "metadata": {},
   "outputs": [
    {
     "name": "stdout",
     "output_type": "stream",
     "text": [
      "[16.27]\n"
     ]
    }
   ],
   "source": [
    "print(outlier_sales)"
   ]
  },
  {
   "cell_type": "code",
   "execution_count": 26,
   "id": "6e0bdb73",
   "metadata": {},
   "outputs": [
    {
     "data": {
      "text/plain": [
       "1"
      ]
     },
     "execution_count": 26,
     "metadata": {},
     "output_type": "execute_result"
    }
   ],
   "source": [
    "len(outlier_sales)"
   ]
  },
  {
   "cell_type": "code",
   "execution_count": 27,
   "id": "8b802e8e",
   "metadata": {},
   "outputs": [],
   "source": [
    "## Outliers present in the compprice"
   ]
  },
  {
   "cell_type": "code",
   "execution_count": 28,
   "id": "0a9b28d9",
   "metadata": {},
   "outputs": [],
   "source": [
    "outlier_compprice = detect_outlier(data.CompPrice)"
   ]
  },
  {
   "cell_type": "code",
   "execution_count": 29,
   "id": "605ca52a",
   "metadata": {},
   "outputs": [
    {
     "name": "stdout",
     "output_type": "stream",
     "text": [
      "[77, 175]\n"
     ]
    }
   ],
   "source": [
    "print(outlier_compprice)"
   ]
  },
  {
   "cell_type": "code",
   "execution_count": 30,
   "id": "69f3c029",
   "metadata": {},
   "outputs": [
    {
     "data": {
      "text/plain": [
       "2"
      ]
     },
     "execution_count": 30,
     "metadata": {},
     "output_type": "execute_result"
    }
   ],
   "source": [
    "len(outlier_compprice)"
   ]
  },
  {
   "cell_type": "code",
   "execution_count": 31,
   "id": "a5a3eb51",
   "metadata": {},
   "outputs": [],
   "source": [
    "## Outliers present in the price"
   ]
  },
  {
   "cell_type": "code",
   "execution_count": 32,
   "id": "30ad6169",
   "metadata": {},
   "outputs": [],
   "source": [
    "outlier_price = detect_outlier(data.Price)"
   ]
  },
  {
   "cell_type": "code",
   "execution_count": 33,
   "id": "fcfe1ac6",
   "metadata": {},
   "outputs": [
    {
     "name": "stdout",
     "output_type": "stream",
     "text": [
      "[24, 191]\n"
     ]
    }
   ],
   "source": [
    "print(outlier_price)"
   ]
  },
  {
   "cell_type": "code",
   "execution_count": 34,
   "id": "f712f890",
   "metadata": {},
   "outputs": [
    {
     "data": {
      "text/plain": [
       "2"
      ]
     },
     "execution_count": 34,
     "metadata": {},
     "output_type": "execute_result"
    }
   ],
   "source": [
    "len(outlier_price)"
   ]
  },
  {
   "cell_type": "code",
   "execution_count": 35,
   "id": "e9a4f28d",
   "metadata": {},
   "outputs": [],
   "source": [
    "#lets create the function which will take an index number as input and gives out "
   ]
  },
  {
   "cell_type": "code",
   "execution_count": 36,
   "id": "e1900cf7",
   "metadata": {},
   "outputs": [],
   "source": [
    "#the countplot for that particular column"
   ]
  },
  {
   "cell_type": "code",
   "execution_count": 37,
   "id": "5a285247",
   "metadata": {},
   "outputs": [],
   "source": [
    "def count_plot(x):\n",
    "    plot = sb.countplot(x = data.columns[x], data = data, palette = 'hls')\n",
    "    return plot"
   ]
  },
  {
   "cell_type": "code",
   "execution_count": 38,
   "id": "ff4a715e",
   "metadata": {},
   "outputs": [],
   "source": [
    "#let us see the plot of all the columns in the data"
   ]
  },
  {
   "cell_type": "code",
   "execution_count": 39,
   "id": "5fcd6cb1",
   "metadata": {},
   "outputs": [
    {
     "data": {
      "text/plain": [
       "<AxesSubplot:xlabel='Sales', ylabel='count'>"
      ]
     },
     "execution_count": 39,
     "metadata": {},
     "output_type": "execute_result"
    },
    {
     "data": {
      "image/png": "[encoded data removed]",
      "text/plain": [
       "<Figure size 432x288 with 1 Axes>"
      ]
     },
     "metadata": {
      "needs_background": "light"
     },
     "output_type": "display_data"
    }
   ],
   "source": [
    "count_plot(0)"
   ]
  },
  {
   "cell_type": "code",
   "execution_count": 40,
   "id": "45e562af",
   "metadata": {},
   "outputs": [
    {
     "data": {
      "text/plain": [
       "<AxesSubplot:xlabel='CompPrice', ylabel='count'>"
      ]
     },
     "execution_count": 40,
     "metadata": {},
     "output_type": "execute_result"
    },
    {
     "data": {
      "image/png": "[encoded data removed]",
      "text/plain": [
       "<Figure size 432x288 with 1 Axes>"
      ]
     },
     "metadata": {
      "needs_background": "light"
     },
     "output_type": "display_data"
    }
   ],
   "source": [
    "count_plot(1)"
   ]
  },
  {
   "cell_type": "code",
   "execution_count": 41,
   "id": "45a108de",
   "metadata": {},
   "outputs": [
    {
     "data": {
      "text/plain": [
       "<AxesSubplot:xlabel='Income', ylabel='count'>"
      ]
     },
     "execution_count": 41,
     "metadata": {},
     "output_type": "execute_result"
    },
    {
     "data": {
      "image/png": "[encoded data removed]",
      "text/plain": [
       "<Figure size 432x288 with 1 Axes>"
      ]
     },
     "metadata": {
      "needs_background": "light"
     },
     "output_type": "display_data"
    }
   ],
   "source": [
    "count_plot(2)"
   ]
  },
  {
   "cell_type": "code",
   "execution_count": 42,
   "id": "fc576c66",
   "metadata": {},
   "outputs": [
    {
     "data": {
      "text/plain": [
       "<AxesSubplot:xlabel='Advertising', ylabel='count'>"
      ]
     },
     "execution_count": 42,
     "metadata": {},
     "output_type": "execute_result"
    },
    {
     "data": {
      "image/png": "[encoded data removed]",
      "text/plain": [
       "<Figure size 432x288 with 1 Axes>"
      ]
     },
     "metadata": {
      "needs_background": "light"
     },
     "output_type": "display_data"
    }
   ],
   "source": [
    "count_plot(3)"
   ]
  },
  {
   "cell_type": "code",
   "execution_count": 43,
   "id": "7e11a135",
   "metadata": {},
   "outputs": [
    {
     "data": {
      "text/plain": [
       "<AxesSubplot:xlabel='Population', ylabel='count'>"
      ]
     },
     "execution_count": 43,
     "metadata": {},
     "output_type": "execute_result"
    },
    {
     "data": {
      "image/png": "[encoded data removed]",
      "text/plain": [
       "<Figure size 432x288 with 1 Axes>"
      ]
     },
     "metadata": {
      "needs_background": "light"
     },
     "output_type": "display_data"
    }
   ],
   "source": [
    "count_plot(4)"
   ]
  },
  {
   "cell_type": "code",
   "execution_count": 44,
   "id": "83d702d6",
   "metadata": {},
   "outputs": [
    {
     "data": {
      "text/plain": [
       "<AxesSubplot:xlabel='Price', ylabel='count'>"
      ]
     },
     "execution_count": 44,
     "metadata": {},
     "output_type": "execute_result"
    },
    {
     "data": {
      "image/png": "[encoded data removed]",
      "text/plain": [
       "<Figure size 432x288 with 1 Axes>"
      ]
     },
     "metadata": {
      "needs_background": "light"
     },
     "output_type": "display_data"
    }
   ],
   "source": [
    "count_plot(5)"
   ]
  },
  {
   "cell_type": "code",
   "execution_count": 45,
   "id": "473319dc",
   "metadata": {},
   "outputs": [
    {
     "data": {
      "text/plain": [
       "<AxesSubplot:xlabel='ShelveLoc', ylabel='count'>"
      ]
     },
     "execution_count": 45,
     "metadata": {},
     "output_type": "execute_result"
    },
    {
     "data": {
      "image/png": "[encoded data removed]",
      "text/plain": [
       "<Figure size 432x288 with 1 Axes>"
      ]
     },
     "metadata": {
      "needs_background": "light"
     },
     "output_type": "display_data"
    }
   ],
   "source": [
    "count_plot(6)"
   ]
  },
  {
   "cell_type": "code",
   "execution_count": 46,
   "id": "dc9a6774",
   "metadata": {},
   "outputs": [
    {
     "data": {
      "text/plain": [
       "<AxesSubplot:xlabel='Age', ylabel='count'>"
      ]
     },
     "execution_count": 46,
     "metadata": {},
     "output_type": "execute_result"
    },
    {
     "data": {
      "image/png": "[encoded data removed]",
      "text/plain": [
       "<Figure size 432x288 with 1 Axes>"
      ]
     },
     "metadata": {
      "needs_background": "light"
     },
     "output_type": "display_data"
    }
   ],
   "source": [
    "count_plot(7)"
   ]
  },
  {
   "cell_type": "code",
   "execution_count": 47,
   "id": "d89eac8d",
   "metadata": {},
   "outputs": [
    {
     "data": {
      "text/plain": [
       "<AxesSubplot:xlabel='Education', ylabel='count'>"
      ]
     },
     "execution_count": 47,
     "metadata": {},
     "output_type": "execute_result"
    },
    {
     "data": {
      "image/png": "[encoded data removed]",
      "text/plain": [
       "<Figure size 432x288 with 1 Axes>"
      ]
     },
     "metadata": {
      "needs_background": "light"
     },
     "output_type": "display_data"
    }
   ],
   "source": [
    "count_plot(8)"
   ]
  },
  {
   "cell_type": "code",
   "execution_count": 48,
   "id": "ae9ac71b",
   "metadata": {},
   "outputs": [
    {
     "data": {
      "text/plain": [
       "<AxesSubplot:xlabel='Urban', ylabel='count'>"
      ]
     },
     "execution_count": 48,
     "metadata": {},
     "output_type": "execute_result"
    },
    {
     "data": {
      "image/png": "[encoded data removed]",
      "text/plain": [
       "<Figure size 432x288 with 1 Axes>"
      ]
     },
     "metadata": {
      "needs_background": "light"
     },
     "output_type": "display_data"
    }
   ],
   "source": [
    "count_plot(9)"
   ]
  },
  {
   "cell_type": "code",
   "execution_count": 49,
   "id": "933f6f0b",
   "metadata": {},
   "outputs": [
    {
     "data": {
      "text/plain": [
       "<AxesSubplot:xlabel='US', ylabel='count'>"
      ]
     },
     "execution_count": 49,
     "metadata": {},
     "output_type": "execute_result"
    },
    {
     "data": {
      "image/png": "[encoded data removed]",
      "text/plain": [
       "<Figure size 432x288 with 1 Axes>"
      ]
     },
     "metadata": {
      "needs_background": "light"
     },
     "output_type": "display_data"
    }
   ],
   "source": [
    "count_plot(10)"
   ]
  },
  {
   "cell_type": "code",
   "execution_count": 50,
   "id": "263a5b5f",
   "metadata": {},
   "outputs": [],
   "source": [
    "#Lets see how a plot against the sales look like"
   ]
  },
  {
   "cell_type": "code",
   "execution_count": 51,
   "id": "c1dc99ab",
   "metadata": {},
   "outputs": [
    {
     "data": {
      "text/plain": [
       "<AxesSubplot:xlabel='Sales'>"
      ]
     },
     "execution_count": 51,
     "metadata": {},
     "output_type": "execute_result"
    },
    {
     "data": {
      "image/png": "[encoded data removed]",
      "text/plain": [
       "<Figure size 432x288 with 1 Axes>"
      ]
     },
     "metadata": {
      "needs_background": "light"
     },
     "output_type": "display_data"
    }
   ],
   "source": [
    "pd.crosstab(data.Sales,data.CompPrice).plot(kind = \"bar\")"
   ]
  },
  {
   "cell_type": "code",
   "execution_count": 52,
   "id": "896ed937",
   "metadata": {},
   "outputs": [
    {
     "data": {
      "text/plain": [
       "<AxesSubplot:xlabel='Sales'>"
      ]
     },
     "execution_count": 52,
     "metadata": {},
     "output_type": "execute_result"
    },
    {
     "data": {
      "image/png": "[encoded data removed]",
      "text/plain": [
       "<Figure size 432x288 with 1 Axes>"
      ]
     },
     "metadata": {
      "needs_background": "light"
     },
     "output_type": "display_data"
    }
   ],
   "source": [
    "pd.crosstab(data.Sales,data.Advertising).plot(kind = \"bar\")"
   ]
  },
  {
   "cell_type": "code",
   "execution_count": 53,
   "id": "a8d7c366",
   "metadata": {},
   "outputs": [
    {
     "data": {
      "text/plain": [
       "<AxesSubplot:xlabel='Sales'>"
      ]
     },
     "execution_count": 53,
     "metadata": {},
     "output_type": "execute_result"
    },
    {
     "data": {
      "image/png": "[encoded data removed]",
      "text/plain": [
       "<Figure size 432x288 with 1 Axes>"
      ]
     },
     "metadata": {
      "needs_background": "light"
     },
     "output_type": "display_data"
    }
   ],
   "source": [
    "pd.crosstab(data.Sales,data.Price).plot(kind = \"bar\")"
   ]
  },
  {
   "cell_type": "code",
   "execution_count": 54,
   "id": "60e7e761",
   "metadata": {},
   "outputs": [],
   "source": [
    "##Will create new DF with the encoded data since, \n",
    "##decision tree classifier can't handle the categorical string data\n",
    "##first will create dictionary for the values which needs to be replaced."
   ]
  },
  {
   "cell_type": "code",
   "execution_count": 55,
   "id": "91407858",
   "metadata": {},
   "outputs": [
    {
     "data": {
      "text/plain": [
       "Sales          float64\n",
       "CompPrice        int64\n",
       "Income           int64\n",
       "Advertising      int64\n",
       "Population       int64\n",
       "Price            int64\n",
       "ShelveLoc       object\n",
       "Age              int64\n",
       "Education        int64\n",
       "Urban           object\n",
       "US              object\n",
       "dtype: object"
      ]
     },
     "execution_count": 55,
     "metadata": {},
     "output_type": "execute_result"
    }
   ],
   "source": [
    "data.dtypes## check for Data types again"
   ]
  },
  {
   "cell_type": "code",
   "execution_count": 56,
   "id": "1a504d49",
   "metadata": {},
   "outputs": [
    {
     "data": {
      "text/plain": [
       "Medium    219\n",
       "Bad        96\n",
       "Good       85\n",
       "Name: ShelveLoc, dtype: int64"
      ]
     },
     "execution_count": 56,
     "metadata": {},
     "output_type": "execute_result"
    }
   ],
   "source": [
    "data[\"ShelveLoc\"].value_counts()"
   ]
  },
  {
   "cell_type": "code",
   "execution_count": 57,
   "id": "8893a0a6",
   "metadata": {},
   "outputs": [
    {
     "data": {
      "text/plain": [
       "Yes    282\n",
       "No     118\n",
       "Name: Urban, dtype: int64"
      ]
     },
     "execution_count": 57,
     "metadata": {},
     "output_type": "execute_result"
    }
   ],
   "source": [
    "data[\"Urban\"].value_counts()"
   ]
  },
  {
   "cell_type": "code",
   "execution_count": 58,
   "id": "3e4715b0",
   "metadata": {},
   "outputs": [
    {
     "data": {
      "text/plain": [
       "Yes    258\n",
       "No     142\n",
       "Name: US, dtype: int64"
      ]
     },
     "execution_count": 58,
     "metadata": {},
     "output_type": "execute_result"
    }
   ],
   "source": [
    "data[\"US\"].value_counts()"
   ]
  },
  {
   "cell_type": "code",
   "execution_count": 59,
   "id": "896864fc",
   "metadata": {},
   "outputs": [],
   "source": [
    "val_replace = {\"ShelveLoc\": {\"Medium\":2, \"Bad\":3, \"Good\":1}, \"Urban\": {\"Yes\":1, \"No\":0}, \"US\": {\"Yes\":1, \"No\":0}}"
   ]
  },
  {
   "cell_type": "code",
   "execution_count": 60,
   "id": "07e59f36",
   "metadata": {},
   "outputs": [],
   "source": [
    "##Replace the vale"
   ]
  },
  {
   "cell_type": "code",
   "execution_count": 61,
   "id": "c7a9bae9",
   "metadata": {},
   "outputs": [],
   "source": [
    "x = data.replace(val_replace).copy()"
   ]
  },
  {
   "cell_type": "code",
   "execution_count": 62,
   "id": "a161383f",
   "metadata": {},
   "outputs": [],
   "source": [
    "#x[\"Sales\"].astype(int) ##x.dtypes"
   ]
  },
  {
   "cell_type": "code",
   "execution_count": 63,
   "id": "bab1d1e2",
   "metadata": {},
   "outputs": [],
   "source": [
    "## will type cast the sales column values into the int because the classifier doesn't accepts floating values which it considers as countinuous values"
   ]
  },
  {
   "cell_type": "code",
   "execution_count": 64,
   "id": "f89617e2",
   "metadata": {},
   "outputs": [],
   "source": [
    "model_data = x.copy()"
   ]
  },
  {
   "cell_type": "code",
   "execution_count": 65,
   "id": "1123bbe1",
   "metadata": {},
   "outputs": [
    {
     "data": {
      "text/plain": [
       "Sales          float64\n",
       "CompPrice        int64\n",
       "Income           int64\n",
       "Advertising      int64\n",
       "Population       int64\n",
       "Price            int64\n",
       "ShelveLoc        int64\n",
       "Age              int64\n",
       "Education        int64\n",
       "Urban            int64\n",
       "US               int64\n",
       "dtype: object"
      ]
     },
     "execution_count": 65,
     "metadata": {},
     "output_type": "execute_result"
    }
   ],
   "source": [
    "model_data.dtypes"
   ]
  },
  {
   "cell_type": "code",
   "execution_count": 66,
   "id": "6b032566",
   "metadata": {},
   "outputs": [],
   "source": [
    "## Let's split the data into train and test data so we can have different datas for model building and model testing."
   ]
  },
  {
   "cell_type": "code",
   "execution_count": 67,
   "id": "bf3439e8",
   "metadata": {},
   "outputs": [],
   "source": [
    "from sklearn.model_selection import train_test_split"
   ]
  },
  {
   "cell_type": "code",
   "execution_count": 68,
   "id": "eb5dfa7c",
   "metadata": {},
   "outputs": [],
   "source": [
    "train,test = train_test_split(model_data,test_size = 0.2)"
   ]
  },
  {
   "cell_type": "code",
   "execution_count": 69,
   "id": "e028e0a3",
   "metadata": {},
   "outputs": [],
   "source": [
    "from sklearn.tree import DecisionTreeClassifier"
   ]
  },
  {
   "cell_type": "code",
   "execution_count": 70,
   "id": "33786a81",
   "metadata": {},
   "outputs": [
    {
     "name": "stdout",
     "output_type": "stream",
     "text": [
      "Help on class DecisionTreeClassifier in module sklearn.tree._classes:\n",
      "\n",
      "class DecisionTreeClassifier(sklearn.base.ClassifierMixin, BaseDecisionTree)\n",
      " |  DecisionTreeClassifier(*, criterion='gini', splitter='best', max_depth=None, min_samples_split=2, min_samples_leaf=1, min_weight_fraction_leaf=0.0, max_features=None, random_state=None, max_leaf_nodes=None, min_impurity_decrease=0.0, min_impurity_split=None, class_weight=None, ccp_alpha=0.0)\n",
      " |  \n",
      " |  A decision tree classifier.\n",
      " |  \n",
      " |  Read more in the :ref:`User Guide <tree>`.\n",
      " |  \n",
      " |  Parameters\n",
      " |  ----------\n",
      " |  criterion : {\"gini\", \"entropy\"}, default=\"gini\"\n",
      " |      The function to measure the quality of a split. Supported criteria are\n",
      " |      \"gini\" for the Gini impurity and \"entropy\" for the information gain.\n",
      " |  \n",
      " |  splitter : {\"best\", \"random\"}, default=\"best\"\n",
      " |      The strategy used to choose the split at each node. Supported\n",
      " |      strategies are \"best\" to choose the best split and \"random\" to choose\n",
      " |      the best random split.\n",
      " |  \n",
      " |  max_depth : int, default=None\n",
      " |      The maximum depth of the tree. If None, then nodes are expanded until\n",
      " |      all leaves are pure or until all leaves contain less than\n",
      " |      min_samples_split samples.\n",
      " |  \n",
      " |  min_samples_split : int or float, default=2\n",
      " |      The minimum number of samples required to split an internal node:\n",
      " |  \n",
      " |      - If int, then consider `min_samples_split` as the minimum number.\n",
      " |      - If float, then `min_samples_split` is a fraction and\n",
      " |        `ceil(min_samples_split * n_samples)` are the minimum\n",
      " |        number of samples for each split.\n",
      " |  \n",
      " |      .. versionchanged:: 0.18\n",
      " |         Added float values for fractions.\n",
      " |  \n",
      " |  min_samples_leaf : int or float, default=1\n",
      " |      The minimum number of samples required to be at a leaf node.\n",
      " |      A split point at any depth will only be considered if it leaves at\n",
      " |      least ``min_samples_leaf`` training samples in each of the left and\n",
      " |      right branches.  This may have the effect of smoothing the model,\n",
      " |      especially in regression.\n",
      " |  \n",
      " |      - If int, then consider `min_samples_leaf` as the minimum number.\n",
      " |      - If float, then `min_samples_leaf` is a fraction and\n",
      " |        `ceil(min_samples_leaf * n_samples)` are the minimum\n",
      " |        number of samples for each node.\n",
      " |  \n",
      " |      .. versionchanged:: 0.18\n",
      " |         Added float values for fractions.\n",
      " |  \n",
      " |  min_weight_fraction_leaf : float, default=0.0\n",
      " |      The minimum weighted fraction of the sum total of weights (of all\n",
      " |      the input samples) required to be at a leaf node. Samples have\n",
      " |      equal weight when sample_weight is not provided.\n",
      " |  \n",
      " |  max_features : int, float or {\"auto\", \"sqrt\", \"log2\"}, default=None\n",
      " |      The number of features to consider when looking for the best split:\n",
      " |  \n",
      " |          - If int, then consider `max_features` features at each split.\n",
      " |          - If float, then `max_features` is a fraction and\n",
      " |            `int(max_features * n_features)` features are considered at each\n",
      " |            split.\n",
      " |          - If \"auto\", then `max_features=sqrt(n_features)`.\n",
      " |          - If \"sqrt\", then `max_features=sqrt(n_features)`.\n",
      " |          - If \"log2\", then `max_features=log2(n_features)`.\n",
      " |          - If None, then `max_features=n_features`.\n",
      " |  \n",
      " |      Note: the search for a split does not stop until at least one\n",
      " |      valid partition of the node samples is found, even if it requires to\n",
      " |      effectively inspect more than ``max_features`` features.\n",
      " |  \n",
      " |  random_state : int, RandomState instance or None, default=None\n",
      " |      Controls the randomness of the estimator. The features are always\n",
      " |      randomly permuted at each split, even if ``splitter`` is set to\n",
      " |      ``\"best\"``. When ``max_features < n_features``, the algorithm will\n",
      " |      select ``max_features`` at random at each split before finding the best\n",
      " |      split among them. But the best found split may vary across different\n",
      " |      runs, even if ``max_features=n_features``. That is the case, if the\n",
      " |      improvement of the criterion is identical for several splits and one\n",
      " |      split has to be selected at random. To obtain a deterministic behaviour\n",
      " |      during fitting, ``random_state`` has to be fixed to an integer.\n",
      " |      See :term:`Glossary <random_state>` for details.\n",
      " |  \n",
      " |  max_leaf_nodes : int, default=None\n",
      " |      Grow a tree with ``max_leaf_nodes`` in best-first fashion.\n",
      " |      Best nodes are defined as relative reduction in impurity.\n",
      " |      If None then unlimited number of leaf nodes.\n",
      " |  \n",
      " |  min_impurity_decrease : float, default=0.0\n",
      " |      A node will be split if this split induces a decrease of the impurity\n",
      " |      greater than or equal to this value.\n",
      " |  \n",
      " |      The weighted impurity decrease equation is the following::\n",
      " |  \n",
      " |          N_t / N * (impurity - N_t_R / N_t * right_impurity\n",
      " |                              - N_t_L / N_t * left_impurity)\n",
      " |  \n",
      " |      where ``N`` is the total number of samples, ``N_t`` is the number of\n",
      " |      samples at the current node, ``N_t_L`` is the number of samples in the\n",
      " |      left child, and ``N_t_R`` is the number of samples in the right child.\n",
      " |  \n",
      " |      ``N``, ``N_t``, ``N_t_R`` and ``N_t_L`` all refer to the weighted sum,\n",
      " |      if ``sample_weight`` is passed.\n",
      " |  \n",
      " |      .. versionadded:: 0.19\n",
      " |  \n",
      " |  min_impurity_split : float, default=0\n",
      " |      Threshold for early stopping in tree growth. A node will split\n",
      " |      if its impurity is above the threshold, otherwise it is a leaf.\n",
      " |  \n",
      " |      .. deprecated:: 0.19\n",
      " |         ``min_impurity_split`` has been deprecated in favor of\n",
      " |         ``min_impurity_decrease`` in 0.19. The default value of\n",
      " |         ``min_impurity_split`` has changed from 1e-7 to 0 in 0.23 and it\n",
      " |         will be removed in 1.0 (renaming of 0.25).\n",
      " |         Use ``min_impurity_decrease`` instead.\n",
      " |  \n",
      " |  class_weight : dict, list of dict or \"balanced\", default=None\n",
      " |      Weights associated with classes in the form ``{class_label: weight}``.\n",
      " |      If None, all classes are supposed to have weight one. For\n",
      " |      multi-output problems, a list of dicts can be provided in the same\n",
      " |      order as the columns of y.\n",
      " |  \n",
      " |      Note that for multioutput (including multilabel) weights should be\n",
      " |      defined for each class of every column in its own dict. For example,\n",
      " |      for four-class multilabel classification weights should be\n",
      " |      [{0: 1, 1: 1}, {0: 1, 1: 5}, {0: 1, 1: 1}, {0: 1, 1: 1}] instead of\n",
      " |      [{1:1}, {2:5}, {3:1}, {4:1}].\n",
      " |  \n",
      " |      The \"balanced\" mode uses the values of y to automatically adjust\n",
      " |      weights inversely proportional to class frequencies in the input data\n",
      " |      as ``n_samples / (n_classes * np.bincount(y))``\n",
      " |  \n",
      " |      For multi-output, the weights of each column of y will be multiplied.\n",
      " |  \n",
      " |      Note that these weights will be multiplied with sample_weight (passed\n",
      " |      through the fit method) if sample_weight is specified.\n",
      " |  \n",
      " |  ccp_alpha : non-negative float, default=0.0\n",
      " |      Complexity parameter used for Minimal Cost-Complexity Pruning. The\n",
      " |      subtree with the largest cost complexity that is smaller than\n",
      " |      ``ccp_alpha`` will be chosen. By default, no pruning is performed. See\n",
      " |      :ref:`minimal_cost_complexity_pruning` for details.\n",
      " |  \n",
      " |      .. versionadded:: 0.22\n",
      " |  \n",
      " |  Attributes\n",
      " |  ----------\n",
      " |  classes_ : ndarray of shape (n_classes,) or list of ndarray\n",
      " |      The classes labels (single output problem),\n",
      " |      or a list of arrays of class labels (multi-output problem).\n",
      " |  \n",
      " |  feature_importances_ : ndarray of shape (n_features,)\n",
      " |      The impurity-based feature importances.\n",
      " |      The higher, the more important the feature.\n",
      " |      The importance of a feature is computed as the (normalized)\n",
      " |      total reduction of the criterion brought by that feature.  It is also\n",
      " |      known as the Gini importance [4]_.\n",
      " |  \n",
      " |      Warning: impurity-based feature importances can be misleading for\n",
      " |      high cardinality features (many unique values). See\n",
      " |      :func:`sklearn.inspection.permutation_importance` as an alternative.\n",
      " |  \n",
      " |  max_features_ : int\n",
      " |      The inferred value of max_features.\n",
      " |  \n",
      " |  n_classes_ : int or list of int\n",
      " |      The number of classes (for single output problems),\n",
      " |      or a list containing the number of classes for each\n",
      " |      output (for multi-output problems).\n",
      " |  \n",
      " |  n_features_ : int\n",
      " |      The number of features when ``fit`` is performed.\n",
      " |  \n",
      " |  n_outputs_ : int\n",
      " |      The number of outputs when ``fit`` is performed.\n",
      " |  \n",
      " |  tree_ : Tree instance\n",
      " |      The underlying Tree object. Please refer to\n",
      " |      ``help(sklearn.tree._tree.Tree)`` for attributes of Tree object and\n",
      " |      :ref:`sphx_glr_auto_examples_tree_plot_unveil_tree_structure.py`\n",
      " |      for basic usage of these attributes.\n",
      " |  \n",
      " |  See Also\n",
      " |  --------\n",
      " |  DecisionTreeRegressor : A decision tree regressor.\n",
      " |  \n",
      " |  Notes\n",
      " |  -----\n",
      " |  The default values for the parameters controlling the size of the trees\n",
      " |  (e.g. ``max_depth``, ``min_samples_leaf``, etc.) lead to fully grown and\n",
      " |  unpruned trees which can potentially be very large on some data sets. To\n",
      " |  reduce memory consumption, the complexity and size of the trees should be\n",
      " |  controlled by setting those parameter values.\n",
      " |  \n",
      " |  The :meth:`predict` method operates using the :func:`numpy.argmax`\n",
      " |  function on the outputs of :meth:`predict_proba`. This means that in\n",
      " |  case the highest predicted probabilities are tied, the classifier will\n",
      " |  predict the tied class with the lowest index in :term:`classes_`.\n",
      " |  \n",
      " |  References\n",
      " |  ----------\n",
      " |  \n",
      " |  .. [1] https://en.wikipedia.org/wiki/Decision_tree_learning\n",
      " |  \n",
      " |  .. [2] L. Breiman, J. Friedman, R. Olshen, and C. Stone, \"Classification\n",
      " |         and Regression Trees\", Wadsworth, Belmont, CA, 1984.\n",
      " |  \n",
      " |  .. [3] T. Hastie, R. Tibshirani and J. Friedman. \"Elements of Statistical\n",
      " |         Learning\", Springer, 2009.\n",
      " |  \n",
      " |  .. [4] L. Breiman, and A. Cutler, \"Random Forests\",\n",
      " |         https://www.stat.berkeley.edu/~breiman/RandomForests/cc_home.htm\n",
      " |  \n",
      " |  Examples\n",
      " |  --------\n",
      " |  >>> from sklearn.datasets import load_iris\n",
      " |  >>> from sklearn.model_selection import cross_val_score\n",
      " |  >>> from sklearn.tree import DecisionTreeClassifier\n",
      " |  >>> clf = DecisionTreeClassifier(random_state=0)\n",
      " |  >>> iris = load_iris()\n",
      " |  >>> cross_val_score(clf, iris.data, iris.target, cv=10)\n",
      " |  ...                             # doctest: +SKIP\n",
      " |  ...\n",
      " |  array([ 1.     ,  0.93...,  0.86...,  0.93...,  0.93...,\n",
      " |          0.93...,  0.93...,  1.     ,  0.93...,  1.      ])\n",
      " |  \n",
      " |  Method resolution order:\n",
      " |      DecisionTreeClassifier\n",
      " |      sklearn.base.ClassifierMixin\n",
      " |      BaseDecisionTree\n",
      " |      sklearn.base.MultiOutputMixin\n",
      " |      sklearn.base.BaseEstimator\n",
      " |      builtins.object\n",
      " |  \n",
      " |  Methods defined here:\n",
      " |  \n",
      " |  __init__(self, *, criterion='gini', splitter='best', max_depth=None, min_samples_split=2, min_samples_leaf=1, min_weight_fraction_leaf=0.0, max_features=None, random_state=None, max_leaf_nodes=None, min_impurity_decrease=0.0, min_impurity_split=None, class_weight=None, ccp_alpha=0.0)\n",
      " |      Initialize self.  See help(type(self)) for accurate signature.\n",
      " |  \n",
      " |  fit(self, X, y, sample_weight=None, check_input=True, X_idx_sorted='deprecated')\n",
      " |      Build a decision tree classifier from the training set (X, y).\n",
      " |      \n",
      " |      Parameters\n",
      " |      ----------\n",
      " |      X : {array-like, sparse matrix} of shape (n_samples, n_features)\n",
      " |          The training input samples. Internally, it will be converted to\n",
      " |          ``dtype=np.float32`` and if a sparse matrix is provided\n",
      " |          to a sparse ``csc_matrix``.\n",
      " |      \n",
      " |      y : array-like of shape (n_samples,) or (n_samples, n_outputs)\n",
      " |          The target values (class labels) as integers or strings.\n",
      " |      \n",
      " |      sample_weight : array-like of shape (n_samples,), default=None\n",
      " |          Sample weights. If None, then samples are equally weighted. Splits\n",
      " |          that would create child nodes with net zero or negative weight are\n",
      " |          ignored while searching for a split in each node. Splits are also\n",
      " |          ignored if they would result in any single class carrying a\n",
      " |          negative weight in either child node.\n",
      " |      \n",
      " |      check_input : bool, default=True\n",
      " |          Allow to bypass several input checking.\n",
      " |          Don't use this parameter unless you know what you do.\n",
      " |      \n",
      " |      X_idx_sorted : deprecated, default=\"deprecated\"\n",
      " |          This parameter is deprecated and has no effect.\n",
      " |          It will be removed in 1.1 (renaming of 0.26).\n",
      " |      \n",
      " |          .. deprecated :: 0.24\n",
      " |      \n",
      " |      Returns\n",
      " |      -------\n",
      " |      self : DecisionTreeClassifier\n",
      " |          Fitted estimator.\n",
      " |  \n",
      " |  predict_log_proba(self, X)\n",
      " |      Predict class log-probabilities of the input samples X.\n",
      " |      \n",
      " |      Parameters\n",
      " |      ----------\n",
      " |      X : {array-like, sparse matrix} of shape (n_samples, n_features)\n",
      " |          The input samples. Internally, it will be converted to\n",
      " |          ``dtype=np.float32`` and if a sparse matrix is provided\n",
      " |          to a sparse ``csr_matrix``.\n",
      " |      \n",
      " |      Returns\n",
      " |      -------\n",
      " |      proba : ndarray of shape (n_samples, n_classes) or list of n_outputs             such arrays if n_outputs > 1\n",
      " |          The class log-probabilities of the input samples. The order of the\n",
      " |          classes corresponds to that in the attribute :term:`classes_`.\n",
      " |  \n",
      " |  predict_proba(self, X, check_input=True)\n",
      " |      Predict class probabilities of the input samples X.\n",
      " |      \n",
      " |      The predicted class probability is the fraction of samples of the same\n",
      " |      class in a leaf.\n",
      " |      \n",
      " |      Parameters\n",
      " |      ----------\n",
      " |      X : {array-like, sparse matrix} of shape (n_samples, n_features)\n",
      " |          The input samples. Internally, it will be converted to\n",
      " |          ``dtype=np.float32`` and if a sparse matrix is provided\n",
      " |          to a sparse ``csr_matrix``.\n",
      " |      \n",
      " |      check_input : bool, default=True\n",
      " |          Allow to bypass several input checking.\n",
      " |          Don't use this parameter unless you know what you do.\n",
      " |      \n",
      " |      Returns\n",
      " |      -------\n",
      " |      proba : ndarray of shape (n_samples, n_classes) or list of n_outputs             such arrays if n_outputs > 1\n",
      " |          The class probabilities of the input samples. The order of the\n",
      " |          classes corresponds to that in the attribute :term:`classes_`.\n",
      " |  \n",
      " |  ----------------------------------------------------------------------\n",
      " |  Data and other attributes defined here:\n",
      " |  \n",
      " |  __abstractmethods__ = frozenset()\n",
      " |  \n",
      " |  ----------------------------------------------------------------------\n",
      " |  Methods inherited from sklearn.base.ClassifierMixin:\n",
      " |  \n",
      " |  score(self, X, y, sample_weight=None)\n",
      " |      Return the mean accuracy on the given test data and labels.\n",
      " |      \n",
      " |      In multi-label classification, this is the subset accuracy\n",
      " |      which is a harsh metric since you require for each sample that\n",
      " |      each label set be correctly predicted.\n",
      " |      \n",
      " |      Parameters\n",
      " |      ----------\n",
      " |      X : array-like of shape (n_samples, n_features)\n",
      " |          Test samples.\n",
      " |      \n",
      " |      y : array-like of shape (n_samples,) or (n_samples, n_outputs)\n",
      " |          True labels for `X`.\n",
      " |      \n",
      " |      sample_weight : array-like of shape (n_samples,), default=None\n",
      " |          Sample weights.\n",
      " |      \n",
      " |      Returns\n",
      " |      -------\n",
      " |      score : float\n",
      " |          Mean accuracy of ``self.predict(X)`` wrt. `y`.\n",
      " |  \n",
      " |  ----------------------------------------------------------------------\n",
      " |  Data descriptors inherited from sklearn.base.ClassifierMixin:\n",
      " |  \n",
      " |  __dict__\n",
      " |      dictionary for instance variables (if defined)\n",
      " |  \n",
      " |  __weakref__\n",
      " |      list of weak references to the object (if defined)\n",
      " |  \n",
      " |  ----------------------------------------------------------------------\n",
      " |  Methods inherited from BaseDecisionTree:\n",
      " |  \n",
      " |  apply(self, X, check_input=True)\n",
      " |      Return the index of the leaf that each sample is predicted as.\n",
      " |      \n",
      " |      .. versionadded:: 0.17\n",
      " |      \n",
      " |      Parameters\n",
      " |      ----------\n",
      " |      X : {array-like, sparse matrix} of shape (n_samples, n_features)\n",
      " |          The input samples. Internally, it will be converted to\n",
      " |          ``dtype=np.float32`` and if a sparse matrix is provided\n",
      " |          to a sparse ``csr_matrix``.\n",
      " |      \n",
      " |      check_input : bool, default=True\n",
      " |          Allow to bypass several input checking.\n",
      " |          Don't use this parameter unless you know what you do.\n",
      " |      \n",
      " |      Returns\n",
      " |      -------\n",
      " |      X_leaves : array-like of shape (n_samples,)\n",
      " |          For each datapoint x in X, return the index of the leaf x\n",
      " |          ends up in. Leaves are numbered within\n",
      " |          ``[0; self.tree_.node_count)``, possibly with gaps in the\n",
      " |          numbering.\n",
      " |  \n",
      " |  cost_complexity_pruning_path(self, X, y, sample_weight=None)\n",
      " |      Compute the pruning path during Minimal Cost-Complexity Pruning.\n",
      " |      \n",
      " |      See :ref:`minimal_cost_complexity_pruning` for details on the pruning\n",
      " |      process.\n",
      " |      \n",
      " |      Parameters\n",
      " |      ----------\n",
      " |      X : {array-like, sparse matrix} of shape (n_samples, n_features)\n",
      " |          The training input samples. Internally, it will be converted to\n",
      " |          ``dtype=np.float32`` and if a sparse matrix is provided\n",
      " |          to a sparse ``csc_matrix``.\n",
      " |      \n",
      " |      y : array-like of shape (n_samples,) or (n_samples, n_outputs)\n",
      " |          The target values (class labels) as integers or strings.\n",
      " |      \n",
      " |      sample_weight : array-like of shape (n_samples,), default=None\n",
      " |          Sample weights. If None, then samples are equally weighted. Splits\n",
      " |          that would create child nodes with net zero or negative weight are\n",
      " |          ignored while searching for a split in each node. Splits are also\n",
      " |          ignored if they would result in any single class carrying a\n",
      " |          negative weight in either child node.\n",
      " |      \n",
      " |      Returns\n",
      " |      -------\n",
      " |      ccp_path : :class:`~sklearn.utils.Bunch`\n",
      " |          Dictionary-like object, with the following attributes.\n",
      " |      \n",
      " |          ccp_alphas : ndarray\n",
      " |              Effective alphas of subtree during pruning.\n",
      " |      \n",
      " |          impurities : ndarray\n",
      " |              Sum of the impurities of the subtree leaves for the\n",
      " |              corresponding alpha value in ``ccp_alphas``.\n",
      " |  \n",
      " |  decision_path(self, X, check_input=True)\n",
      " |      Return the decision path in the tree.\n",
      " |      \n",
      " |      .. versionadded:: 0.18\n",
      " |      \n",
      " |      Parameters\n",
      " |      ----------\n",
      " |      X : {array-like, sparse matrix} of shape (n_samples, n_features)\n",
      " |          The input samples. Internally, it will be converted to\n",
      " |          ``dtype=np.float32`` and if a sparse matrix is provided\n",
      " |          to a sparse ``csr_matrix``.\n",
      " |      \n",
      " |      check_input : bool, default=True\n",
      " |          Allow to bypass several input checking.\n",
      " |          Don't use this parameter unless you know what you do.\n",
      " |      \n",
      " |      Returns\n",
      " |      -------\n",
      " |      indicator : sparse matrix of shape (n_samples, n_nodes)\n",
      " |          Return a node indicator CSR matrix where non zero elements\n",
      " |          indicates that the samples goes through the nodes.\n",
      " |  \n",
      " |  get_depth(self)\n",
      " |      Return the depth of the decision tree.\n",
      " |      \n",
      " |      The depth of a tree is the maximum distance between the root\n",
      " |      and any leaf.\n",
      " |      \n",
      " |      Returns\n",
      " |      -------\n",
      " |      self.tree_.max_depth : int\n",
      " |          The maximum depth of the tree.\n",
      " |  \n",
      " |  get_n_leaves(self)\n",
      " |      Return the number of leaves of the decision tree.\n",
      " |      \n",
      " |      Returns\n",
      " |      -------\n",
      " |      self.tree_.n_leaves : int\n",
      " |          Number of leaves.\n",
      " |  \n",
      " |  predict(self, X, check_input=True)\n",
      " |      Predict class or regression value for X.\n",
      " |      \n",
      " |      For a classification model, the predicted class for each sample in X is\n",
      " |      returned. For a regression model, the predicted value based on X is\n",
      " |      returned.\n",
      " |      \n",
      " |      Parameters\n",
      " |      ----------\n",
      " |      X : {array-like, sparse matrix} of shape (n_samples, n_features)\n",
      " |          The input samples. Internally, it will be converted to\n",
      " |          ``dtype=np.float32`` and if a sparse matrix is provided\n",
      " |          to a sparse ``csr_matrix``.\n",
      " |      \n",
      " |      check_input : bool, default=True\n",
      " |          Allow to bypass several input checking.\n",
      " |          Don't use this parameter unless you know what you do.\n",
      " |      \n",
      " |      Returns\n",
      " |      -------\n",
      " |      y : array-like of shape (n_samples,) or (n_samples, n_outputs)\n",
      " |          The predicted classes, or the predict values.\n",
      " |  \n",
      " |  ----------------------------------------------------------------------\n",
      " |  Readonly properties inherited from BaseDecisionTree:\n",
      " |  \n",
      " |  feature_importances_\n",
      " |      Return the feature importances.\n",
      " |      \n",
      " |      The importance of a feature is computed as the (normalized) total\n",
      " |      reduction of the criterion brought by that feature.\n",
      " |      It is also known as the Gini importance.\n",
      " |      \n",
      " |      Warning: impurity-based feature importances can be misleading for\n",
      " |      high cardinality features (many unique values). See\n",
      " |      :func:`sklearn.inspection.permutation_importance` as an alternative.\n",
      " |      \n",
      " |      Returns\n",
      " |      -------\n",
      " |      feature_importances_ : ndarray of shape (n_features,)\n",
      " |          Normalized total reduction of criteria by feature\n",
      " |          (Gini importance).\n",
      " |  \n",
      " |  ----------------------------------------------------------------------\n",
      " |  Methods inherited from sklearn.base.BaseEstimator:\n",
      " |  \n",
      " |  __getstate__(self)\n",
      " |  \n",
      " |  __repr__(self, N_CHAR_MAX=700)\n",
      " |      Return repr(self).\n",
      " |  \n",
      " |  __setstate__(self, state)\n",
      " |  \n",
      " |  get_params(self, deep=True)\n",
      " |      Get parameters for this estimator.\n",
      " |      \n",
      " |      Parameters\n",
      " |      ----------\n",
      " |      deep : bool, default=True\n",
      " |          If True, will return the parameters for this estimator and\n",
      " |          contained subobjects that are estimators.\n",
      " |      \n",
      " |      Returns\n",
      " |      -------\n",
      " |      params : dict\n",
      " |          Parameter names mapped to their values.\n",
      " |  \n",
      " |  set_params(self, **params)\n",
      " |      Set the parameters of this estimator.\n",
      " |      \n",
      " |      The method works on simple estimators as well as on nested objects\n",
      " |      (such as :class:`~sklearn.pipeline.Pipeline`). The latter have\n",
      " |      parameters of the form ``<component>__<parameter>`` so that it's\n",
      " |      possible to update each component of a nested object.\n",
      " |      \n",
      " |      Parameters\n",
      " |      ----------\n",
      " |      **params : dict\n",
      " |          Estimator parameters.\n",
      " |      \n",
      " |      Returns\n",
      " |      -------\n",
      " |      self : estimator instance\n",
      " |          Estimator instance.\n",
      "\n"
     ]
    }
   ],
   "source": [
    "help(DecisionTreeClassifier)"
   ]
  },
  {
   "cell_type": "code",
   "execution_count": 71,
   "id": "3616ec5a",
   "metadata": {},
   "outputs": [],
   "source": [
    "model = DecisionTreeClassifier(criterion = 'entropy')"
   ]
  },
  {
   "cell_type": "code",
   "execution_count": 72,
   "id": "3ba460ac",
   "metadata": {},
   "outputs": [],
   "source": [
    "#fitting the model with data"
   ]
  },
  {
   "cell_type": "code",
   "execution_count": 73,
   "id": "9efedecd",
   "metadata": {},
   "outputs": [
    {
     "data": {
      "text/plain": [
       "DecisionTreeClassifier(criterion='entropy')"
      ]
     },
     "execution_count": 73,
     "metadata": {},
     "output_type": "execute_result"
    }
   ],
   "source": [
    "model.fit(train[predictors],train[target].astype(int))"
   ]
  },
  {
   "cell_type": "code",
   "execution_count": 74,
   "id": "091e6f87",
   "metadata": {},
   "outputs": [],
   "source": [
    "fitted_model = model.fit(train[predictors],train[target].astype(int))"
   ]
  },
  {
   "cell_type": "code",
   "execution_count": 75,
   "id": "d86f9031",
   "metadata": {},
   "outputs": [],
   "source": [
    "###using casting type to traget the float and int.and predict the data"
   ]
  },
  {
   "cell_type": "code",
   "execution_count": 76,
   "id": "40d97010",
   "metadata": {},
   "outputs": [
    {
     "data": {
      "text/plain": [
       "array([ 3,  3,  4,  6,  9,  9,  9,  6,  4,  2,  5, 11,  8,  4, 11, 10,  8,\n",
       "        8,  8,  5, 10,  5,  8, 13,  8,  5,  5, 10,  5,  5, 10,  6,  6,  6,\n",
       "        8,  9,  3,  6,  6,  6,  8,  7, 11,  8,  9,  4,  8, 11,  4,  7, 12,\n",
       "        7,  9,  4,  7,  8,  4,  7,  9, 14,  5,  5,  7,  5,  3,  4, 11,  4,\n",
       "        5,  6,  6,  6, 11, 11,  7,  7, 11,  4, 10,  2])"
      ]
     },
     "execution_count": 76,
     "metadata": {},
     "output_type": "execute_result"
    }
   ],
   "source": [
    "model.predict(test[predictors])"
   ]
  },
  {
   "cell_type": "code",
   "execution_count": 77,
   "id": "66a750f2",
   "metadata": {},
   "outputs": [],
   "source": [
    "pred = pd.Series(model.predict(test[predictors]))"
   ]
  },
  {
   "cell_type": "code",
   "execution_count": 78,
   "id": "d641fd1e",
   "metadata": {},
   "outputs": [],
   "source": [
    "##let the plot the decision tree model for the above data "
   ]
  },
  {
   "cell_type": "code",
   "execution_count": 79,
   "id": "e9ed7f0a",
   "metadata": {},
   "outputs": [],
   "source": [
    "from sklearn import tree"
   ]
  },
  {
   "cell_type": "code",
   "execution_count": 80,
   "id": "2b39ae6e",
   "metadata": {},
   "outputs": [
    {
     "data": {
      "text/plain": [
       "[Text(115.60209578804347, 210.645, 'X[5] <= 1.5\\nentropy = 3.456\\nsamples = 320\\nvalue = [4, 1, 9, 16, 36, 42, 41, 41, 40, 32, 28, 16, 9\\n3, 1, 1]'),\n",
       " Text(43.897010869565214, 197.055, 'X[1] <= 101.0\\nentropy = 3.126\\nsamples = 65\\nvalue = [0, 0, 0, 1, 1, 0, 6, 8, 7, 11, 12, 11, 4, 2\\n1, 1]'),\n",
       " Text(23.0175, 183.465, 'X[4] <= 99.5\\nentropy = 2.892\\nsamples = 54\\nvalue = [0, 0, 0, 0, 1, 0, 6, 8, 4, 8, 12, 11, 2, 1\\n0, 1]'),\n",
       " Text(9.461739130434783, 169.875, 'X[4] <= 92.5\\nentropy = 2.288\\nsamples = 13\\nvalue = [0, 0, 0, 0, 0, 0, 0, 0, 0, 1, 3, 5, 2, 1\\n0, 1]'),\n",
       " Text(5.822608695652174, 156.285, 'X[4] <= 73.0\\nentropy = 1.685\\nsamples = 10\\nvalue = [0, 0, 0, 0, 0, 0, 0, 0, 0, 0, 3, 5, 1, 0\\n0, 1]'),\n",
       " Text(2.911304347826087, 142.695, 'X[7] <= 11.0\\nentropy = 1.0\\nsamples = 2\\nvalue = [0, 0, 0, 0, 0, 0, 0, 0, 0, 0, 0, 0, 1, 0\\n0, 1]'),\n",
       " Text(1.4556521739130435, 129.10500000000002, 'entropy = 0.0\\nsamples = 1\\nvalue = [0, 0, 0, 0, 0, 0, 0, 0, 0, 0, 0, 0, 0, 0\\n0, 1]'),\n",
       " Text(4.36695652173913, 129.10500000000002, 'entropy = 0.0\\nsamples = 1\\nvalue = [0, 0, 0, 0, 0, 0, 0, 0, 0, 0, 0, 0, 1, 0\\n0, 0]'),\n",
       " Text(8.73391304347826, 142.695, 'X[8] <= 0.5\\nentropy = 0.954\\nsamples = 8\\nvalue = [0, 0, 0, 0, 0, 0, 0, 0, 0, 0, 3, 5, 0, 0\\n0, 0]'),\n",
       " Text(7.278260869565218, 129.10500000000002, 'entropy = 0.0\\nsamples = 2\\nvalue = [0, 0, 0, 0, 0, 0, 0, 0, 0, 0, 2, 0, 0, 0\\n0, 0]'),\n",
       " Text(10.189565217391305, 129.10500000000002, 'X[3] <= 51.5\\nentropy = 0.65\\nsamples = 6\\nvalue = [0, 0, 0, 0, 0, 0, 0, 0, 0, 0, 1, 5, 0, 0\\n0, 0]'),\n",
       " Text(8.73391304347826, 115.515, 'entropy = 0.0\\nsamples = 1\\nvalue = [0, 0, 0, 0, 0, 0, 0, 0, 0, 0, 1, 0, 0, 0\\n0, 0]'),\n",
       " Text(11.645217391304348, 115.515, 'entropy = 0.0\\nsamples = 5\\nvalue = [0, 0, 0, 0, 0, 0, 0, 0, 0, 0, 0, 5, 0, 0\\n0, 0]'),\n",
       " Text(13.10086956521739, 156.285, 'X[3] <= 98.5\\nentropy = 1.585\\nsamples = 3\\nvalue = [0, 0, 0, 0, 0, 0, 0, 0, 0, 1, 0, 0, 1, 1\\n0, 0]'),\n",
       " Text(11.645217391304348, 142.695, 'entropy = 0.0\\nsamples = 1\\nvalue = [0, 0, 0, 0, 0, 0, 0, 0, 0, 0, 0, 0, 0, 1\\n0, 0]'),\n",
       " Text(14.556521739130435, 142.695, 'X[7] <= 11.5\\nentropy = 1.0\\nsamples = 2\\nvalue = [0, 0, 0, 0, 0, 0, 0, 0, 0, 1, 0, 0, 1, 0\\n0, 0]'),\n",
       " Text(13.10086956521739, 129.10500000000002, 'entropy = 0.0\\nsamples = 1\\nvalue = [0, 0, 0, 0, 0, 0, 0, 0, 0, 0, 0, 0, 1, 0\\n0, 0]'),\n",
       " Text(16.01217391304348, 129.10500000000002, 'entropy = 0.0\\nsamples = 1\\nvalue = [0, 0, 0, 0, 0, 0, 0, 0, 0, 1, 0, 0, 0, 0\\n0, 0]'),\n",
       " Text(36.57326086956522, 169.875, 'X[9] <= 0.5\\nentropy = 2.645\\nsamples = 41\\nvalue = [0, 0, 0, 0, 1, 0, 6, 8, 4, 7, 9, 6, 0, 0\\n0, 0]'),\n",
       " Text(25.473913043478262, 156.285, 'X[6] <= 74.5\\nentropy = 2.064\\nsamples = 14\\nvalue = [0, 0, 0, 0, 1, 0, 1, 7, 1, 1, 3, 0, 0, 0\\n0, 0]'),\n",
       " Text(21.83478260869565, 142.695, 'X[6] <= 38.0\\nentropy = 1.551\\nsamples = 12\\nvalue = [0, 0, 0, 0, 0, 0, 0, 7, 1, 1, 3, 0, 0, 0\\n0, 0]'),\n",
       " Text(18.923478260869565, 129.10500000000002, 'X[8] <= 0.5\\nentropy = 0.918\\nsamples = 3\\nvalue = [0, 0, 0, 0, 0, 0, 0, 0, 0, 1, 2, 0, 0, 0\\n0, 0]'),\n",
       " Text(17.46782608695652, 115.515, 'entropy = 0.0\\nsamples = 1\\nvalue = [0, 0, 0, 0, 0, 0, 0, 0, 0, 1, 0, 0, 0, 0\\n0, 0]'),\n",
       " Text(20.37913043478261, 115.515, 'entropy = 0.0\\nsamples = 2\\nvalue = [0, 0, 0, 0, 0, 0, 0, 0, 0, 0, 2, 0, 0, 0\\n0, 0]'),\n",
       " Text(24.74608695652174, 129.10500000000002, 'X[4] <= 105.0\\nentropy = 0.986\\nsamples = 9\\nvalue = [0, 0, 0, 0, 0, 0, 0, 7, 1, 0, 1, 0, 0, 0\\n0, 0]'),\n",
       " Text(23.290434782608695, 115.515, 'entropy = 0.0\\nsamples = 1\\nvalue = [0, 0, 0, 0, 0, 0, 0, 0, 1, 0, 0, 0, 0, 0\\n0, 0]'),\n",
       " Text(26.20173913043478, 115.515, 'X[0] <= 147.0\\nentropy = 0.544\\nsamples = 8\\nvalue = [0, 0, 0, 0, 0, 0, 0, 7, 0, 0, 1, 0, 0, 0\\n0, 0]'),\n",
       " Text(24.74608695652174, 101.925, 'entropy = 0.0\\nsamples = 6\\nvalue = [0, 0, 0, 0, 0, 0, 0, 6, 0, 0, 0, 0, 0, 0\\n0, 0]'),\n",
       " Text(27.657391304347826, 101.925, 'X[0] <= 149.0\\nentropy = 1.0\\nsamples = 2\\nvalue = [0, 0, 0, 0, 0, 0, 0, 1, 0, 0, 1, 0, 0, 0\\n0, 0]'),\n",
       " Text(26.20173913043478, 88.33500000000001, 'entropy = 0.0\\nsamples = 1\\nvalue = [0, 0, 0, 0, 0, 0, 0, 0, 0, 0, 1, 0, 0, 0\\n0, 0]'),\n",
       " Text(29.11304347826087, 88.33500000000001, 'entropy = 0.0\\nsamples = 1\\nvalue = [0, 0, 0, 0, 0, 0, 0, 1, 0, 0, 0, 0, 0, 0\\n0, 0]'),\n",
       " Text(29.11304347826087, 142.695, 'X[3] <= 375.5\\nentropy = 1.0\\nsamples = 2\\nvalue = [0, 0, 0, 0, 1, 0, 1, 0, 0, 0, 0, 0, 0, 0\\n0, 0]'),\n",
       " Text(27.657391304347826, 129.10500000000002, 'entropy = 0.0\\nsamples = 1\\nvalue = [0, 0, 0, 0, 1, 0, 0, 0, 0, 0, 0, 0, 0, 0\\n0, 0]'),\n",
       " Text(30.56869565217391, 129.10500000000002, 'entropy = 0.0\\nsamples = 1\\nvalue = [0, 0, 0, 0, 0, 0, 1, 0, 0, 0, 0, 0, 0, 0\\n0, 0]'),\n",
       " Text(47.67260869565217, 156.285, 'X[3] <= 324.5\\nentropy = 2.425\\nsamples = 27\\nvalue = [0, 0, 0, 0, 0, 0, 5, 1, 3, 6, 6, 6, 0, 0\\n0, 0]'),\n",
       " Text(41.48608695652174, 142.695, 'X[4] <= 134.5\\nentropy = 2.18\\nsamples = 16\\nvalue = [0, 0, 0, 0, 0, 0, 5, 0, 3, 4, 1, 3, 0, 0\\n0, 0]'),\n",
       " Text(37.84695652173913, 129.10500000000002, 'X[1] <= 82.0\\nentropy = 2.171\\nsamples = 10\\nvalue = [0, 0, 0, 0, 0, 0, 1, 0, 3, 2, 1, 3, 0, 0\\n0, 0]'),\n",
       " Text(34.93565217391304, 115.515, 'X[2] <= 12.0\\nentropy = 1.561\\nsamples = 8\\nvalue = [0, 0, 0, 0, 0, 0, 0, 0, 3, 2, 0, 3, 0, 0\\n0, 0]'),\n",
       " Text(33.48, 101.925, 'X[7] <= 14.0\\nentropy = 1.459\\nsamples = 6\\nvalue = [0, 0, 0, 0, 0, 0, 0, 0, 1, 2, 0, 3, 0, 0\\n0, 0]'),\n",
       " Text(32.02434782608696, 88.33500000000001, 'entropy = 0.0\\nsamples = 1\\nvalue = [0, 0, 0, 0, 0, 0, 0, 0, 1, 0, 0, 0, 0, 0\\n0, 0]'),\n",
       " Text(34.93565217391304, 88.33500000000001, 'X[1] <= 64.5\\nentropy = 0.971\\nsamples = 5\\nvalue = [0, 0, 0, 0, 0, 0, 0, 0, 0, 2, 0, 3, 0, 0\\n0, 0]'),\n",
       " Text(33.48, 74.745, 'X[7] <= 15.5\\nentropy = 0.918\\nsamples = 3\\nvalue = [0, 0, 0, 0, 0, 0, 0, 0, 0, 2, 0, 1, 0, 0\\n0, 0]'),\n",
       " Text(32.02434782608696, 61.155, 'entropy = 0.0\\nsamples = 1\\nvalue = [0, 0, 0, 0, 0, 0, 0, 0, 0, 0, 0, 1, 0, 0\\n0, 0]'),\n",
       " Text(34.93565217391304, 61.155, 'entropy = 0.0\\nsamples = 2\\nvalue = [0, 0, 0, 0, 0, 0, 0, 0, 0, 2, 0, 0, 0, 0\\n0, 0]'),\n",
       " Text(36.391304347826086, 74.745, 'entropy = 0.0\\nsamples = 2\\nvalue = [0, 0, 0, 0, 0, 0, 0, 0, 0, 0, 0, 2, 0, 0\\n0, 0]'),\n",
       " Text(36.391304347826086, 101.925, 'entropy = 0.0\\nsamples = 2\\nvalue = [0, 0, 0, 0, 0, 0, 0, 0, 2, 0, 0, 0, 0, 0\\n0, 0]'),\n",
       " Text(40.75826086956522, 115.515, 'X[0] <= 119.0\\nentropy = 1.0\\nsamples = 2\\nvalue = [0, 0, 0, 0, 0, 0, 1, 0, 0, 0, 1, 0, 0, 0\\n0, 0]'),\n",
       " Text(39.302608695652175, 101.925, 'entropy = 0.0\\nsamples = 1\\nvalue = [0, 0, 0, 0, 0, 0, 1, 0, 0, 0, 0, 0, 0, 0\\n0, 0]'),\n",
       " Text(42.21391304347826, 101.925, 'entropy = 0.0\\nsamples = 1\\nvalue = [0, 0, 0, 0, 0, 0, 0, 0, 0, 0, 1, 0, 0, 0\\n0, 0]'),\n",
       " Text(45.125217391304346, 129.10500000000002, 'X[1] <= 46.0\\nentropy = 0.918\\nsamples = 6\\nvalue = [0, 0, 0, 0, 0, 0, 4, 0, 0, 2, 0, 0, 0, 0\\n0, 0]'),\n",
       " Text(43.6695652173913, 115.515, 'entropy = 0.0\\nsamples = 4\\nvalue = [0, 0, 0, 0, 0, 0, 4, 0, 0, 0, 0, 0, 0, 0\\n0, 0]'),\n",
       " Text(46.58086956521739, 115.515, 'entropy = 0.0\\nsamples = 2\\nvalue = [0, 0, 0, 0, 0, 0, 0, 0, 0, 2, 0, 0, 0, 0\\n0, 0]'),\n",
       " Text(53.85913043478261, 142.695, 'X[1] <= 80.0\\nentropy = 1.79\\nsamples = 11\\nvalue = [0, 0, 0, 0, 0, 0, 0, 1, 0, 2, 5, 3, 0, 0\\n0, 0]'),\n",
       " Text(50.947826086956525, 129.10500000000002, 'X[3] <= 346.0\\nentropy = 1.149\\nsamples = 7\\nvalue = [0, 0, 0, 0, 0, 0, 0, 1, 0, 1, 5, 0, 0, 0\\n0, 0]'),\n",
       " Text(49.49217391304348, 115.515, 'entropy = 0.0\\nsamples = 1\\nvalue = [0, 0, 0, 0, 0, 0, 0, 1, 0, 0, 0, 0, 0, 0\\n0, 0]'),\n",
       " Text(52.40347826086956, 115.515, 'X[4] <= 131.5\\nentropy = 0.65\\nsamples = 6\\nvalue = [0, 0, 0, 0, 0, 0, 0, 0, 0, 1, 5, 0, 0, 0\\n0, 0]'),\n",
       " Text(50.947826086956525, 101.925, 'entropy = 0.0\\nsamples = 5\\nvalue = [0, 0, 0, 0, 0, 0, 0, 0, 0, 0, 5, 0, 0, 0\\n0, 0]'),\n",
       " Text(53.85913043478261, 101.925, 'entropy = 0.0\\nsamples = 1\\nvalue = [0, 0, 0, 0, 0, 0, 0, 0, 0, 1, 0, 0, 0, 0\\n0, 0]'),\n",
       " Text(56.770434782608696, 129.10500000000002, 'X[8] <= 0.5\\nentropy = 0.811\\nsamples = 4\\nvalue = [0, 0, 0, 0, 0, 0, 0, 0, 0, 1, 0, 3, 0, 0\\n0, 0]'),\n",
       " Text(55.31478260869565, 115.515, 'entropy = 0.0\\nsamples = 1\\nvalue = [0, 0, 0, 0, 0, 0, 0, 0, 0, 1, 0, 0, 0, 0\\n0, 0]'),\n",
       " Text(58.22608695652174, 115.515, 'entropy = 0.0\\nsamples = 3\\nvalue = [0, 0, 0, 0, 0, 0, 0, 0, 0, 0, 0, 3, 0, 0\\n0, 0]'),\n",
       " Text(64.77652173913043, 183.465, 'X[2] <= 12.0\\nentropy = 2.413\\nsamples = 11\\nvalue = [0, 0, 0, 1, 0, 0, 0, 0, 3, 3, 0, 0, 2, 1\\n1, 0]'),\n",
       " Text(61.13739130434782, 169.875, 'X[4] <= 155.5\\nentropy = 1.792\\nsamples = 6\\nvalue = [0, 0, 0, 1, 0, 0, 0, 0, 3, 1, 0, 0, 0, 0\\n1, 0]'),\n",
       " Text(58.22608695652174, 156.285, 'X[4] <= 86.5\\nentropy = 0.811\\nsamples = 4\\nvalue = [0, 0, 0, 0, 0, 0, 0, 0, 3, 0, 0, 0, 0, 0\\n1, 0]'),\n",
       " Text(56.770434782608696, 142.695, 'entropy = 0.0\\nsamples = 1\\nvalue = [0, 0, 0, 0, 0, 0, 0, 0, 0, 0, 0, 0, 0, 0\\n1, 0]'),\n",
       " Text(59.681739130434785, 142.695, 'entropy = 0.0\\nsamples = 3\\nvalue = [0, 0, 0, 0, 0, 0, 0, 0, 3, 0, 0, 0, 0, 0\\n0, 0]'),\n",
       " Text(64.04869565217392, 156.285, 'X[4] <= 160.0\\nentropy = 1.0\\nsamples = 2\\nvalue = [0, 0, 0, 1, 0, 0, 0, 0, 0, 1, 0, 0, 0, 0\\n0, 0]'),\n",
       " Text(62.59304347826087, 142.695, 'entropy = 0.0\\nsamples = 1\\nvalue = [0, 0, 0, 0, 0, 0, 0, 0, 0, 1, 0, 0, 0, 0\\n0, 0]'),\n",
       " Text(65.50434782608696, 142.695, 'entropy = 0.0\\nsamples = 1\\nvalue = [0, 0, 0, 1, 0, 0, 0, 0, 0, 0, 0, 0, 0, 0\\n0, 0]'),\n",
       " Text(68.41565217391305, 169.875, 'X[0] <= 120.0\\nentropy = 1.522\\nsamples = 5\\nvalue = [0, 0, 0, 0, 0, 0, 0, 0, 0, 2, 0, 0, 2, 1\\n0, 0]'),\n",
       " Text(66.96, 156.285, 'entropy = 0.0\\nsamples = 2\\nvalue = [0, 0, 0, 0, 0, 0, 0, 0, 0, 2, 0, 0, 0, 0\\n0, 0]'),\n",
       " Text(69.87130434782608, 156.285, 'X[7] <= 15.5\\nentropy = 0.918\\nsamples = 3\\nvalue = [0, 0, 0, 0, 0, 0, 0, 0, 0, 0, 0, 0, 2, 1\\n0, 0]'),\n",
       " Text(68.41565217391305, 142.695, 'entropy = 0.0\\nsamples = 2\\nvalue = [0, 0, 0, 0, 0, 0, 0, 0, 0, 0, 0, 0, 2, 0\\n0, 0]'),\n",
       " Text(71.32695652173913, 142.695, 'entropy = 0.0\\nsamples = 1\\nvalue = [0, 0, 0, 0, 0, 0, 0, 0, 0, 0, 0, 0, 0, 1\\n0, 0]'),\n",
       " Text(187.30718070652173, 197.055, 'X[4] <= 105.5\\nentropy = 3.316\\nsamples = 255\\nvalue = [4, 1, 9, 15, 35, 42, 35, 33, 33, 21, 16, 5, 5\\n1, 0, 0]'),\n",
       " Text(105.48929347826086, 183.465, 'X[4] <= 74.5\\nentropy = 3.209\\nsamples = 84\\nvalue = [0, 0, 1, 4, 2, 8, 7, 17, 16, 9, 9, 5, 5, 1\\n0, 0]'),\n",
       " Text(80.78869565217391, 169.875, 'X[9] <= 0.5\\nentropy = 2.412\\nsamples = 13\\nvalue = [0, 0, 0, 0, 0, 0, 0, 2, 0, 4, 3, 1, 2, 1\\n0, 0]'),\n",
       " Text(77.1495652173913, 156.285, 'X[1] <= 75.0\\nentropy = 1.75\\nsamples = 8\\nvalue = [0, 0, 0, 0, 0, 0, 0, 2, 0, 4, 1, 1, 0, 0\\n0, 0]'),\n",
       " Text(74.23826086956522, 142.695, 'X[7] <= 17.0\\nentropy = 1.5\\nsamples = 4\\nvalue = [0, 0, 0, 0, 0, 0, 0, 2, 0, 1, 1, 0, 0, 0\\n0, 0]'),\n",
       " Text(72.78260869565217, 129.10500000000002, 'entropy = 0.0\\nsamples = 2\\nvalue = [0, 0, 0, 0, 0, 0, 0, 2, 0, 0, 0, 0, 0, 0\\n0, 0]'),\n",
       " Text(75.69391304347826, 129.10500000000002, 'X[4] <= 47.0\\nentropy = 1.0\\nsamples = 2\\nvalue = [0, 0, 0, 0, 0, 0, 0, 0, 0, 1, 1, 0, 0, 0\\n0, 0]'),\n",
       " Text(74.23826086956522, 115.515, 'entropy = 0.0\\nsamples = 1\\nvalue = [0, 0, 0, 0, 0, 0, 0, 0, 0, 0, 1, 0, 0, 0\\n0, 0]'),\n",
       " Text(77.1495652173913, 115.515, 'entropy = 0.0\\nsamples = 1\\nvalue = [0, 0, 0, 0, 0, 0, 0, 0, 0, 1, 0, 0, 0, 0\\n0, 0]'),\n",
       " Text(80.06086956521739, 142.695, 'X[6] <= 35.0\\nentropy = 0.811\\nsamples = 4\\nvalue = [0, 0, 0, 0, 0, 0, 0, 0, 0, 3, 0, 1, 0, 0\\n0, 0]'),\n",
       " Text(78.60521739130435, 129.10500000000002, 'entropy = 0.0\\nsamples = 1\\nvalue = [0, 0, 0, 0, 0, 0, 0, 0, 0, 0, 0, 1, 0, 0\\n0, 0]'),\n",
       " Text(81.51652173913044, 129.10500000000002, 'entropy = 0.0\\nsamples = 3\\nvalue = [0, 0, 0, 0, 0, 0, 0, 0, 0, 3, 0, 0, 0, 0\\n0, 0]'),\n",
       " Text(84.42782608695651, 156.285, 'X[2] <= 6.5\\nentropy = 1.522\\nsamples = 5\\nvalue = [0, 0, 0, 0, 0, 0, 0, 0, 0, 0, 2, 0, 2, 1\\n0, 0]'),\n",
       " Text(82.97217391304348, 142.695, 'entropy = 0.0\\nsamples = 1\\nvalue = [0, 0, 0, 0, 0, 0, 0, 0, 0, 0, 0, 0, 0, 1\\n0, 0]'),\n",
       " Text(85.88347826086957, 142.695, 'X[3] <= 181.0\\nentropy = 1.0\\nsamples = 4\\nvalue = [0, 0, 0, 0, 0, 0, 0, 0, 0, 0, 2, 0, 2, 0\\n0, 0]'),\n",
       " Text(84.42782608695651, 129.10500000000002, 'entropy = 0.0\\nsamples = 1\\nvalue = [0, 0, 0, 0, 0, 0, 0, 0, 0, 0, 0, 0, 1, 0\\n0, 0]'),\n",
       " Text(87.3391304347826, 129.10500000000002, 'X[0] <= 97.5\\nentropy = 0.918\\nsamples = 3\\nvalue = [0, 0, 0, 0, 0, 0, 0, 0, 0, 0, 2, 0, 1, 0\\n0, 0]'),\n",
       " Text(85.88347826086957, 115.515, 'entropy = 0.0\\nsamples = 1\\nvalue = [0, 0, 0, 0, 0, 0, 0, 0, 0, 0, 0, 0, 1, 0\\n0, 0]'),\n",
       " Text(88.79478260869566, 115.515, 'entropy = 0.0\\nsamples = 2\\nvalue = [0, 0, 0, 0, 0, 0, 0, 0, 0, 0, 2, 0, 0, 0\\n0, 0]'),\n",
       " Text(130.18989130434784, 169.875, 'X[6] <= 63.5\\nentropy = 3.106\\nsamples = 71\\nvalue = [0, 0, 1, 4, 2, 8, 7, 15, 16, 5, 6, 4, 3, 0\\n0, 0]'),\n",
       " Text(110.08369565217392, 156.285, 'X[2] <= 6.0\\nentropy = 3.009\\nsamples = 47\\nvalue = [0, 0, 1, 0, 1, 4, 3, 8, 12, 5, 6, 4, 3, 0\\n0, 0]'),\n",
       " Text(100.80391304347826, 142.695, 'X[7] <= 16.5\\nentropy = 2.421\\nsamples = 20\\nvalue = [0, 0, 1, 0, 0, 2, 3, 5, 7, 0, 1, 0, 1, 0\\n0, 0]'),\n",
       " Text(95.34521739130435, 129.10500000000002, 'X[4] <= 100.0\\nentropy = 2.346\\nsamples = 13\\nvalue = [0, 0, 1, 0, 0, 2, 2, 5, 2, 0, 0, 0, 1, 0\\n0, 0]'),\n",
       " Text(91.70608695652174, 115.515, 'X[0] <= 107.0\\nentropy = 1.961\\nsamples = 10\\nvalue = [0, 0, 1, 0, 0, 0, 1, 5, 2, 0, 0, 0, 1, 0\\n0, 0]'),\n",
       " Text(88.79478260869566, 101.925, 'X[5] <= 2.5\\nentropy = 1.0\\nsamples = 2\\nvalue = [0, 0, 1, 0, 0, 0, 1, 0, 0, 0, 0, 0, 0, 0\\n0, 0]'),\n",
       " Text(87.3391304347826, 88.33500000000001, 'entropy = 0.0\\nsamples = 1\\nvalue = [0, 0, 0, 0, 0, 0, 1, 0, 0, 0, 0, 0, 0, 0\\n0, 0]'),\n",
       " Text(90.25043478260869, 88.33500000000001, 'entropy = 0.0\\nsamples = 1\\nvalue = [0, 0, 1, 0, 0, 0, 0, 0, 0, 0, 0, 0, 0, 0\\n0, 0]'),\n",
       " Text(94.61739130434782, 101.925, 'X[7] <= 13.0\\nentropy = 1.299\\nsamples = 8\\nvalue = [0, 0, 0, 0, 0, 0, 0, 5, 2, 0, 0, 0, 1, 0\\n0, 0]'),\n",
       " Text(93.16173913043478, 88.33500000000001, 'X[5] <= 2.5\\nentropy = 1.5\\nsamples = 4\\nvalue = [0, 0, 0, 0, 0, 0, 0, 1, 2, 0, 0, 0, 1, 0\\n0, 0]'),\n",
       " Text(91.70608695652174, 74.745, 'X[6] <= 50.0\\nentropy = 1.0\\nsamples = 2\\nvalue = [0, 0, 0, 0, 0, 0, 0, 1, 0, 0, 0, 0, 1, 0\\n0, 0]'),\n",
       " Text(90.25043478260869, 61.155, 'entropy = 0.0\\nsamples = 1\\nvalue = [0, 0, 0, 0, 0, 0, 0, 0, 0, 0, 0, 0, 1, 0\\n0, 0]'),\n",
       " Text(93.16173913043478, 61.155, 'entropy = 0.0\\nsamples = 1\\nvalue = [0, 0, 0, 0, 0, 0, 0, 1, 0, 0, 0, 0, 0, 0\\n0, 0]'),\n",
       " Text(94.61739130434782, 74.745, 'entropy = 0.0\\nsamples = 2\\nvalue = [0, 0, 0, 0, 0, 0, 0, 0, 2, 0, 0, 0, 0, 0\\n0, 0]'),\n",
       " Text(96.07304347826087, 88.33500000000001, 'entropy = 0.0\\nsamples = 4\\nvalue = [0, 0, 0, 0, 0, 0, 0, 4, 0, 0, 0, 0, 0, 0\\n0, 0]'),\n",
       " Text(98.98434782608696, 115.515, 'X[1] <= 54.5\\nentropy = 0.918\\nsamples = 3\\nvalue = [0, 0, 0, 0, 0, 2, 1, 0, 0, 0, 0, 0, 0, 0\\n0, 0]'),\n",
       " Text(97.52869565217391, 101.925, 'entropy = 0.0\\nsamples = 2\\nvalue = [0, 0, 0, 0, 0, 2, 0, 0, 0, 0, 0, 0, 0, 0\\n0, 0]'),\n",
       " Text(100.44, 101.925, 'entropy = 0.0\\nsamples = 1\\nvalue = [0, 0, 0, 0, 0, 0, 1, 0, 0, 0, 0, 0, 0, 0\\n0, 0]'),\n",
       " Text(106.26260869565218, 129.10500000000002, 'X[5] <= 2.5\\nentropy = 1.149\\nsamples = 7\\nvalue = [0, 0, 0, 0, 0, 0, 1, 0, 5, 0, 1, 0, 0, 0\\n0, 0]'),\n",
       " Text(104.80695652173912, 115.515, 'X[9] <= 0.5\\nentropy = 0.65\\nsamples = 6\\nvalue = [0, 0, 0, 0, 0, 0, 0, 0, 5, 0, 1, 0, 0, 0\\n0, 0]'),\n",
       " Text(103.35130434782609, 101.925, 'entropy = 0.0\\nsamples = 5\\nvalue = [0, 0, 0, 0, 0, 0, 0, 0, 5, 0, 0, 0, 0, 0\\n0, 0]'),\n",
       " Text(106.26260869565218, 101.925, 'entropy = 0.0\\nsamples = 1\\nvalue = [0, 0, 0, 0, 0, 0, 0, 0, 0, 0, 1, 0, 0, 0\\n0, 0]'),\n",
       " Text(107.71826086956521, 115.515, 'entropy = 0.0\\nsamples = 1\\nvalue = [0, 0, 0, 0, 0, 0, 1, 0, 0, 0, 0, 0, 0, 0\\n0, 0]'),\n",
       " Text(119.36347826086957, 142.695, 'X[7] <= 11.5\\nentropy = 2.844\\nsamples = 27\\nvalue = [0, 0, 0, 0, 1, 2, 0, 3, 5, 5, 5, 4, 2, 0\\n0, 0]'),\n",
       " Text(112.08521739130434, 129.10500000000002, 'X[8] <= 0.5\\nentropy = 1.811\\nsamples = 8\\nvalue = [0, 0, 0, 0, 1, 0, 0, 1, 0, 3, 0, 3, 0, 0\\n0, 0]'),\n",
       " Text(110.6295652173913, 115.515, 'entropy = 0.0\\nsamples = 3\\nvalue = [0, 0, 0, 0, 0, 0, 0, 0, 0, 3, 0, 0, 0, 0\\n0, 0]'),\n",
       " Text(113.54086956521739, 115.515, 'X[2] <= 9.0\\nentropy = 1.371\\nsamples = 5\\nvalue = [0, 0, 0, 0, 1, 0, 0, 1, 0, 0, 0, 3, 0, 0\\n0, 0]'),\n",
       " Text(112.08521739130434, 101.925, 'X[7] <= 10.5\\nentropy = 1.0\\nsamples = 2\\nvalue = [0, 0, 0, 0, 1, 0, 0, 1, 0, 0, 0, 0, 0, 0\\n0, 0]'),\n",
       " Text(110.6295652173913, 88.33500000000001, 'entropy = 0.0\\nsamples = 1\\nvalue = [0, 0, 0, 0, 0, 0, 0, 1, 0, 0, 0, 0, 0, 0\\n0, 0]'),\n",
       " Text(113.54086956521739, 88.33500000000001, 'entropy = 0.0\\nsamples = 1\\nvalue = [0, 0, 0, 0, 1, 0, 0, 0, 0, 0, 0, 0, 0, 0\\n0, 0]'),\n",
       " Text(114.99652173913043, 101.925, 'entropy = 0.0\\nsamples = 3\\nvalue = [0, 0, 0, 0, 0, 0, 0, 0, 0, 0, 0, 3, 0, 0\\n0, 0]'),\n",
       " Text(126.64173913043479, 129.10500000000002, 'X[0] <= 106.5\\nentropy = 2.605\\nsamples = 19\\nvalue = [0, 0, 0, 0, 0, 2, 0, 2, 5, 2, 5, 1, 2, 0\\n0, 0]'),\n",
       " Text(120.81913043478261, 115.515, 'X[6] <= 46.0\\nentropy = 1.95\\nsamples = 7\\nvalue = [0, 0, 0, 0, 0, 2, 0, 2, 2, 0, 1, 0, 0, 0\\n0, 0]'),\n",
       " Text(117.90782608695652, 101.925, 'X[2] <= 13.0\\nentropy = 1.5\\nsamples = 4\\nvalue = [0, 0, 0, 0, 0, 0, 0, 2, 1, 0, 1, 0, 0, 0\\n0, 0]'),\n",
       " Text(116.45217391304348, 88.33500000000001, 'entropy = 0.0\\nsamples = 2\\nvalue = [0, 0, 0, 0, 0, 0, 0, 2, 0, 0, 0, 0, 0, 0\\n0, 0]'),\n",
       " Text(119.36347826086957, 88.33500000000001, 'X[2] <= 18.5\\nentropy = 1.0\\nsamples = 2\\nvalue = [0, 0, 0, 0, 0, 0, 0, 0, 1, 0, 1, 0, 0, 0\\n0, 0]'),\n",
       " Text(117.90782608695652, 74.745, 'entropy = 0.0\\nsamples = 1\\nvalue = [0, 0, 0, 0, 0, 0, 0, 0, 0, 0, 1, 0, 0, 0\\n0, 0]'),\n",
       " Text(120.81913043478261, 74.745, 'entropy = 0.0\\nsamples = 1\\nvalue = [0, 0, 0, 0, 0, 0, 0, 0, 1, 0, 0, 0, 0, 0\\n0, 0]'),\n",
       " Text(123.7304347826087, 101.925, 'X[3] <= 425.5\\nentropy = 0.918\\nsamples = 3\\nvalue = [0, 0, 0, 0, 0, 2, 0, 0, 1, 0, 0, 0, 0, 0\\n0, 0]'),\n",
       " Text(122.27478260869565, 88.33500000000001, 'entropy = 0.0\\nsamples = 2\\nvalue = [0, 0, 0, 0, 0, 2, 0, 0, 0, 0, 0, 0, 0, 0\\n0, 0]'),\n",
       " Text(125.18608695652173, 88.33500000000001, 'entropy = 0.0\\nsamples = 1\\nvalue = [0, 0, 0, 0, 0, 0, 0, 0, 1, 0, 0, 0, 0, 0\\n0, 0]'),\n",
       " Text(132.46434782608696, 115.515, 'X[3] <= 303.5\\nentropy = 2.189\\nsamples = 12\\nvalue = [0, 0, 0, 0, 0, 0, 0, 0, 3, 2, 4, 1, 2, 0\\n0, 0]'),\n",
       " Text(129.55304347826086, 101.925, 'X[2] <= 9.0\\nentropy = 1.459\\nsamples = 6\\nvalue = [0, 0, 0, 0, 0, 0, 0, 0, 3, 0, 2, 1, 0, 0\\n0, 0]'),\n",
       " Text(128.09739130434784, 88.33500000000001, 'entropy = 0.0\\nsamples = 2\\nvalue = [0, 0, 0, 0, 0, 0, 0, 0, 0, 0, 2, 0, 0, 0\\n0, 0]'),\n",
       " Text(131.0086956521739, 88.33500000000001, 'X[0] <= 130.5\\nentropy = 0.811\\nsamples = 4\\nvalue = [0, 0, 0, 0, 0, 0, 0, 0, 3, 0, 0, 1, 0, 0\\n0, 0]'),\n",
       " Text(129.55304347826086, 74.745, 'entropy = 0.0\\nsamples = 3\\nvalue = [0, 0, 0, 0, 0, 0, 0, 0, 3, 0, 0, 0, 0, 0\\n0, 0]'),\n",
       " Text(132.46434782608696, 74.745, 'entropy = 0.0\\nsamples = 1\\nvalue = [0, 0, 0, 0, 0, 0, 0, 0, 0, 0, 0, 1, 0, 0\\n0, 0]'),\n",
       " Text(135.37565217391304, 101.925, 'X[6] <= 32.0\\nentropy = 1.585\\nsamples = 6\\nvalue = [0, 0, 0, 0, 0, 0, 0, 0, 0, 2, 2, 0, 2, 0\\n0, 0]'),\n",
       " Text(133.92, 88.33500000000001, 'entropy = 0.0\\nsamples = 2\\nvalue = [0, 0, 0, 0, 0, 0, 0, 0, 0, 0, 0, 0, 2, 0\\n0, 0]'),\n",
       " Text(136.8313043478261, 88.33500000000001, 'X[1] <= 86.0\\nentropy = 1.0\\nsamples = 4\\nvalue = [0, 0, 0, 0, 0, 0, 0, 0, 0, 2, 2, 0, 0, 0\\n0, 0]'),\n",
       " Text(135.37565217391304, 74.745, 'entropy = 0.0\\nsamples = 2\\nvalue = [0, 0, 0, 0, 0, 0, 0, 0, 0, 2, 0, 0, 0, 0\\n0, 0]'),\n",
       " Text(138.28695652173914, 74.745, 'entropy = 0.0\\nsamples = 2\\nvalue = [0, 0, 0, 0, 0, 0, 0, 0, 0, 0, 2, 0, 0, 0\\n0, 0]'),\n",
       " Text(150.29608695652175, 156.285, 'X[5] <= 2.5\\nentropy = 2.433\\nsamples = 24\\nvalue = [0, 0, 0, 4, 1, 4, 4, 7, 4, 0, 0, 0, 0, 0\\n0, 0]'),\n",
       " Text(141.19826086956522, 142.695, 'X[1] <= 45.0\\nentropy = 1.988\\nsamples = 13\\nvalue = [0, 0, 0, 0, 1, 1, 3, 6, 2, 0, 0, 0, 0, 0\\n0, 0]'),\n",
       " Text(138.28695652173914, 129.10500000000002, 'X[1] <= 29.5\\nentropy = 1.522\\nsamples = 5\\nvalue = [0, 0, 0, 0, 0, 1, 2, 0, 2, 0, 0, 0, 0, 0\\n0, 0]'),\n",
       " Text(136.8313043478261, 115.515, 'entropy = 0.0\\nsamples = 1\\nvalue = [0, 0, 0, 0, 0, 1, 0, 0, 0, 0, 0, 0, 0, 0\\n0, 0]'),\n",
       " Text(139.74260869565217, 115.515, 'X[3] <= 178.5\\nentropy = 1.0\\nsamples = 4\\nvalue = [0, 0, 0, 0, 0, 0, 2, 0, 2, 0, 0, 0, 0, 0\\n0, 0]'),\n",
       " Text(138.28695652173914, 101.925, 'entropy = 0.0\\nsamples = 1\\nvalue = [0, 0, 0, 0, 0, 0, 1, 0, 0, 0, 0, 0, 0, 0\\n0, 0]'),\n",
       " Text(141.19826086956522, 101.925, 'X[7] <= 15.5\\nentropy = 0.918\\nsamples = 3\\nvalue = [0, 0, 0, 0, 0, 0, 1, 0, 2, 0, 0, 0, 0, 0\\n0, 0]'),\n",
       " Text(139.74260869565217, 88.33500000000001, 'entropy = 0.0\\nsamples = 2\\nvalue = [0, 0, 0, 0, 0, 0, 0, 0, 2, 0, 0, 0, 0, 0\\n0, 0]'),\n",
       " Text(142.65391304347827, 88.33500000000001, 'entropy = 0.0\\nsamples = 1\\nvalue = [0, 0, 0, 0, 0, 0, 1, 0, 0, 0, 0, 0, 0, 0\\n0, 0]'),\n",
       " Text(144.1095652173913, 129.10500000000002, 'X[0] <= 91.5\\nentropy = 1.061\\nsamples = 8\\nvalue = [0, 0, 0, 0, 1, 0, 1, 6, 0, 0, 0, 0, 0, 0\\n0, 0]'),\n",
       " Text(142.65391304347827, 115.515, 'entropy = 0.0\\nsamples = 1\\nvalue = [0, 0, 0, 0, 1, 0, 0, 0, 0, 0, 0, 0, 0, 0\\n0, 0]'),\n",
       " Text(145.56521739130434, 115.515, 'X[3] <= 419.0\\nentropy = 0.592\\nsamples = 7\\nvalue = [0, 0, 0, 0, 0, 0, 1, 6, 0, 0, 0, 0, 0, 0\\n0, 0]'),\n",
       " Text(144.1095652173913, 101.925, 'entropy = 0.0\\nsamples = 5\\nvalue = [0, 0, 0, 0, 0, 0, 0, 5, 0, 0, 0, 0, 0, 0\\n0, 0]'),\n",
       " Text(147.0208695652174, 101.925, 'X[7] <= 13.0\\nentropy = 1.0\\nsamples = 2\\nvalue = [0, 0, 0, 0, 0, 0, 1, 1, 0, 0, 0, 0, 0, 0\\n0, 0]'),\n",
       " Text(145.56521739130434, 88.33500000000001, 'entropy = 0.0\\nsamples = 1\\nvalue = [0, 0, 0, 0, 0, 0, 0, 1, 0, 0, 0, 0, 0, 0\\n0, 0]'),\n",
       " Text(148.47652173913045, 88.33500000000001, 'entropy = 0.0\\nsamples = 1\\nvalue = [0, 0, 0, 0, 0, 0, 1, 0, 0, 0, 0, 0, 0, 0\\n0, 0]'),\n",
       " Text(159.39391304347825, 142.695, 'X[4] <= 93.0\\nentropy = 2.118\\nsamples = 11\\nvalue = [0, 0, 0, 4, 0, 3, 1, 1, 2, 0, 0, 0, 0, 0\\n0, 0]'),\n",
       " Text(154.2991304347826, 129.10500000000002, 'X[2] <= 9.5\\nentropy = 1.922\\nsamples = 5\\nvalue = [0, 0, 0, 1, 0, 0, 1, 1, 2, 0, 0, 0, 0, 0\\n0, 0]'),\n",
       " Text(151.38782608695652, 115.515, 'X[3] <= 224.5\\nentropy = 1.0\\nsamples = 2\\nvalue = [0, 0, 0, 1, 0, 0, 0, 1, 0, 0, 0, 0, 0, 0\\n0, 0]'),\n",
       " Text(149.93217391304347, 101.925, 'entropy = 0.0\\nsamples = 1\\nvalue = [0, 0, 0, 0, 0, 0, 0, 1, 0, 0, 0, 0, 0, 0\\n0, 0]'),\n",
       " Text(152.84347826086957, 101.925, 'entropy = 0.0\\nsamples = 1\\nvalue = [0, 0, 0, 1, 0, 0, 0, 0, 0, 0, 0, 0, 0, 0\\n0, 0]'),\n",
       " Text(157.2104347826087, 115.515, 'X[2] <= 18.0\\nentropy = 0.918\\nsamples = 3\\nvalue = [0, 0, 0, 0, 0, 0, 1, 0, 2, 0, 0, 0, 0, 0\\n0, 0]'),\n",
       " Text(155.75478260869565, 101.925, 'entropy = 0.0\\nsamples = 2\\nvalue = [0, 0, 0, 0, 0, 0, 0, 0, 2, 0, 0, 0, 0, 0\\n0, 0]'),\n",
       " Text(158.66608695652172, 101.925, 'entropy = 0.0\\nsamples = 1\\nvalue = [0, 0, 0, 0, 0, 0, 1, 0, 0, 0, 0, 0, 0, 0\\n0, 0]'),\n",
       " Text(164.4886956521739, 129.10500000000002, 'X[1] <= 87.0\\nentropy = 1.0\\nsamples = 6\\nvalue = [0, 0, 0, 3, 0, 3, 0, 0, 0, 0, 0, 0, 0, 0\\n0, 0]'),\n",
       " Text(163.03304347826088, 115.515, 'X[0] <= 120.5\\nentropy = 0.811\\nsamples = 4\\nvalue = [0, 0, 0, 3, 0, 1, 0, 0, 0, 0, 0, 0, 0, 0\\n0, 0]'),\n",
       " Text(161.57739130434783, 101.925, 'entropy = 0.0\\nsamples = 3\\nvalue = [0, 0, 0, 3, 0, 0, 0, 0, 0, 0, 0, 0, 0, 0\\n0, 0]'),\n",
       " Text(164.4886956521739, 101.925, 'entropy = 0.0\\nsamples = 1\\nvalue = [0, 0, 0, 0, 0, 1, 0, 0, 0, 0, 0, 0, 0, 0\\n0, 0]'),\n",
       " Text(165.94434782608695, 115.515, 'entropy = 0.0\\nsamples = 2\\nvalue = [0, 0, 0, 0, 0, 2, 0, 0, 0, 0, 0, 0, 0, 0\\n0, 0]'),\n",
       " Text(269.12506793478263, 183.465, 'X[5] <= 2.5\\nentropy = 3.089\\nsamples = 171\\nvalue = [4, 1, 8, 11, 33, 34, 28, 16, 17, 12, 7, 0, 0\\n0, 0, 0]'),\n",
       " Text(222.8739945652174, 169.875, 'X[0] <= 124.5\\nentropy = 2.986\\nsamples = 120\\nvalue = [1, 0, 3, 5, 19, 21, 24, 13, 17, 11, 6, 0, 0\\n0, 0, 0]'),\n",
       " Text(192.2370652173913, 156.285, 'X[4] <= 123.5\\nentropy = 2.718\\nsamples = 44\\nvalue = [1, 0, 2, 4, 13, 8, 9, 4, 1, 2, 0, 0, 0, 0\\n0, 0]'),\n",
       " Text(178.13543478260868, 142.695, 'X[3] <= 472.5\\nentropy = 2.208\\nsamples = 26\\nvalue = [0, 0, 0, 0, 7, 7, 6, 4, 0, 2, 0, 0, 0, 0\\n0, 0]'),\n",
       " Text(176.67978260869566, 129.10500000000002, 'X[9] <= 0.5\\nentropy = 2.212\\nsamples = 23\\nvalue = [0, 0, 0, 0, 4, 7, 6, 4, 0, 2, 0, 0, 0, 0\\n0, 0]'),\n",
       " Text(170.31130434782608, 115.515, 'X[6] <= 45.0\\nentropy = 1.379\\nsamples = 7\\nvalue = [0, 0, 0, 0, 0, 4, 1, 2, 0, 0, 0, 0, 0, 0\\n0, 0]'),\n",
       " Text(167.4, 101.925, 'X[3] <= 395.0\\nentropy = 0.918\\nsamples = 3\\nvalue = [0, 0, 0, 0, 0, 1, 0, 2, 0, 0, 0, 0, 0, 0\\n0, 0]'),\n",
       " Text(165.94434782608695, 88.33500000000001, 'entropy = 0.0\\nsamples = 2\\nvalue = [0, 0, 0, 0, 0, 0, 0, 2, 0, 0, 0, 0, 0, 0\\n0, 0]'),\n",
       " Text(168.85565217391303, 88.33500000000001, 'entropy = 0.0\\nsamples = 1\\nvalue = [0, 0, 0, 0, 0, 1, 0, 0, 0, 0, 0, 0, 0, 0\\n0, 0]'),\n",
       " Text(173.22260869565218, 101.925, 'X[7] <= 14.0\\nentropy = 0.811\\nsamples = 4\\nvalue = [0, 0, 0, 0, 0, 3, 1, 0, 0, 0, 0, 0, 0, 0\\n0, 0]'),\n",
       " Text(171.76695652173913, 88.33500000000001, 'entropy = 0.0\\nsamples = 2\\nvalue = [0, 0, 0, 0, 0, 2, 0, 0, 0, 0, 0, 0, 0, 0\\n0, 0]'),\n",
       " Text(174.6782608695652, 88.33500000000001, 'X[1] <= 111.5\\nentropy = 1.0\\nsamples = 2\\nvalue = [0, 0, 0, 0, 0, 1, 1, 0, 0, 0, 0, 0, 0, 0\\n0, 0]'),\n",
       " Text(173.22260869565218, 74.745, 'entropy = 0.0\\nsamples = 1\\nvalue = [0, 0, 0, 0, 0, 0, 1, 0, 0, 0, 0, 0, 0, 0\\n0, 0]'),\n",
       " Text(176.13391304347826, 74.745, 'entropy = 0.0\\nsamples = 1\\nvalue = [0, 0, 0, 0, 0, 1, 0, 0, 0, 0, 0, 0, 0, 0\\n0, 0]'),\n",
       " Text(183.0482608695652, 115.515, 'X[0] <= 111.0\\nentropy = 2.227\\nsamples = 16\\nvalue = [0, 0, 0, 0, 4, 3, 5, 2, 0, 2, 0, 0, 0, 0\\n0, 0]'),\n",
       " Text(179.04521739130433, 101.925, 'X[2] <= 11.5\\nentropy = 1.0\\nsamples = 4\\nvalue = [0, 0, 0, 0, 0, 2, 2, 0, 0, 0, 0, 0, 0, 0\\n0, 0]'),\n",
       " Text(177.5895652173913, 88.33500000000001, 'entropy = 0.0\\nsamples = 2\\nvalue = [0, 0, 0, 0, 0, 2, 0, 0, 0, 0, 0, 0, 0, 0\\n0, 0]'),\n",
       " Text(180.50086956521739, 88.33500000000001, 'entropy = 0.0\\nsamples = 2\\nvalue = [0, 0, 0, 0, 0, 0, 2, 0, 0, 0, 0, 0, 0, 0\\n0, 0]'),\n",
       " Text(187.0513043478261, 101.925, 'X[1] <= 26.5\\nentropy = 2.189\\nsamples = 12\\nvalue = [0, 0, 0, 0, 4, 1, 3, 2, 0, 2, 0, 0, 0, 0\\n0, 0]'),\n",
       " Text(183.4121739130435, 88.33500000000001, 'X[1] <= 24.5\\nentropy = 1.0\\nsamples = 2\\nvalue = [0, 0, 0, 0, 0, 1, 0, 1, 0, 0, 0, 0, 0, 0\\n0, 0]'),\n",
       " Text(181.95652173913044, 74.745, 'entropy = 0.0\\nsamples = 1\\nvalue = [0, 0, 0, 0, 0, 1, 0, 0, 0, 0, 0, 0, 0, 0\\n0, 0]'),\n",
       " Text(184.8678260869565, 74.745, 'entropy = 0.0\\nsamples = 1\\nvalue = [0, 0, 0, 0, 0, 0, 0, 1, 0, 0, 0, 0, 0, 0\\n0, 0]'),\n",
       " Text(190.6904347826087, 88.33500000000001, 'X[1] <= 116.5\\nentropy = 1.846\\nsamples = 10\\nvalue = [0, 0, 0, 0, 4, 0, 3, 1, 0, 2, 0, 0, 0, 0\\n0, 0]'),\n",
       " Text(187.77913043478262, 74.745, 'X[3] <= 31.0\\nentropy = 1.406\\nsamples = 8\\nvalue = [0, 0, 0, 0, 4, 0, 3, 0, 0, 1, 0, 0, 0, 0\\n0, 0]'),\n",
       " Text(186.32347826086956, 61.155, 'entropy = 0.0\\nsamples = 1\\nvalue = [0, 0, 0, 0, 0, 0, 0, 0, 0, 1, 0, 0, 0, 0\\n0, 0]'),\n",
       " Text(189.23478260869564, 61.155, 'X[0] <= 116.0\\nentropy = 0.985\\nsamples = 7\\nvalue = [0, 0, 0, 0, 4, 0, 3, 0, 0, 0, 0, 0, 0, 0\\n0, 0]'),\n",
       " Text(187.77913043478262, 47.565, 'entropy = 0.0\\nsamples = 2\\nvalue = [0, 0, 0, 0, 2, 0, 0, 0, 0, 0, 0, 0, 0, 0\\n0, 0]'),\n",
       " Text(190.6904347826087, 47.565, 'X[0] <= 120.5\\nentropy = 0.971\\nsamples = 5\\nvalue = [0, 0, 0, 0, 2, 0, 3, 0, 0, 0, 0, 0, 0, 0\\n0, 0]'),\n",
       " Text(189.23478260869564, 33.974999999999994, 'entropy = 0.0\\nsamples = 3\\nvalue = [0, 0, 0, 0, 0, 0, 3, 0, 0, 0, 0, 0, 0, 0\\n0, 0]'),\n",
       " Text(192.14608695652174, 33.974999999999994, 'entropy = 0.0\\nsamples = 2\\nvalue = [0, 0, 0, 0, 2, 0, 0, 0, 0, 0, 0, 0, 0, 0\\n0, 0]'),\n",
       " Text(193.6017391304348, 74.745, 'X[8] <= 0.5\\nentropy = 1.0\\nsamples = 2\\nvalue = [0, 0, 0, 0, 0, 0, 0, 1, 0, 1, 0, 0, 0, 0\\n0, 0]'),\n",
       " Text(192.14608695652174, 61.155, 'entropy = 0.0\\nsamples = 1\\nvalue = [0, 0, 0, 0, 0, 0, 0, 1, 0, 0, 0, 0, 0, 0\\n0, 0]'),\n",
       " Text(195.05739130434782, 61.155, 'entropy = 0.0\\nsamples = 1\\nvalue = [0, 0, 0, 0, 0, 0, 0, 0, 0, 1, 0, 0, 0, 0\\n0, 0]'),\n",
       " Text(179.59108695652174, 129.10500000000002, 'entropy = 0.0\\nsamples = 3\\nvalue = [0, 0, 0, 0, 3, 0, 0, 0, 0, 0, 0, 0, 0, 0\\n0, 0]'),\n",
       " Text(206.33869565217393, 142.695, 'X[7] <= 15.0\\nentropy = 2.489\\nsamples = 18\\nvalue = [1, 0, 2, 4, 6, 1, 3, 0, 1, 0, 0, 0, 0, 0\\n0, 0]'),\n",
       " Text(200.15217391304347, 129.10500000000002, 'X[1] <= 43.5\\nentropy = 2.02\\nsamples = 14\\nvalue = [0, 0, 0, 3, 6, 1, 3, 0, 1, 0, 0, 0, 0, 0\\n0, 0]'),\n",
       " Text(196.51304347826087, 115.515, 'X[6] <= 44.0\\nentropy = 1.371\\nsamples = 5\\nvalue = [0, 0, 0, 0, 3, 1, 0, 0, 1, 0, 0, 0, 0, 0\\n0, 0]'),\n",
       " Text(195.05739130434782, 101.925, 'X[7] <= 12.5\\nentropy = 1.0\\nsamples = 2\\nvalue = [0, 0, 0, 0, 0, 1, 0, 0, 1, 0, 0, 0, 0, 0\\n0, 0]'),\n",
       " Text(193.6017391304348, 88.33500000000001, 'entropy = 0.0\\nsamples = 1\\nvalue = [0, 0, 0, 0, 0, 1, 0, 0, 0, 0, 0, 0, 0, 0\\n0, 0]'),\n",
       " Text(196.51304347826087, 88.33500000000001, 'entropy = 0.0\\nsamples = 1\\nvalue = [0, 0, 0, 0, 0, 0, 0, 0, 1, 0, 0, 0, 0, 0\\n0, 0]'),\n",
       " Text(197.96869565217392, 101.925, 'entropy = 0.0\\nsamples = 3\\nvalue = [0, 0, 0, 0, 3, 0, 0, 0, 0, 0, 0, 0, 0, 0\\n0, 0]'),\n",
       " Text(203.7913043478261, 115.515, 'X[6] <= 52.5\\nentropy = 1.585\\nsamples = 9\\nvalue = [0, 0, 0, 3, 3, 0, 3, 0, 0, 0, 0, 0, 0, 0\\n0, 0]'),\n",
       " Text(200.88, 101.925, 'X[4] <= 143.5\\nentropy = 0.811\\nsamples = 4\\nvalue = [0, 0, 0, 1, 3, 0, 0, 0, 0, 0, 0, 0, 0, 0\\n0, 0]'),\n",
       " Text(199.42434782608694, 88.33500000000001, 'entropy = 0.0\\nsamples = 3\\nvalue = [0, 0, 0, 0, 3, 0, 0, 0, 0, 0, 0, 0, 0, 0\\n0, 0]'),\n",
       " Text(202.33565217391305, 88.33500000000001, 'entropy = 0.0\\nsamples = 1\\nvalue = [0, 0, 0, 1, 0, 0, 0, 0, 0, 0, 0, 0, 0, 0\\n0, 0]'),\n",
       " Text(206.70260869565217, 101.925, 'X[3] <= 243.0\\nentropy = 0.971\\nsamples = 5\\nvalue = [0, 0, 0, 2, 0, 0, 3, 0, 0, 0, 0, 0, 0, 0\\n0, 0]'),\n",
       " Text(205.24695652173912, 88.33500000000001, 'entropy = 0.0\\nsamples = 2\\nvalue = [0, 0, 0, 0, 0, 0, 2, 0, 0, 0, 0, 0, 0, 0\\n0, 0]'),\n",
       " Text(208.15826086956523, 88.33500000000001, 'X[0] <= 117.0\\nentropy = 0.918\\nsamples = 3\\nvalue = [0, 0, 0, 2, 0, 0, 1, 0, 0, 0, 0, 0, 0, 0\\n0, 0]'),\n",
       " Text(206.70260869565217, 74.745, 'entropy = 0.0\\nsamples = 2\\nvalue = [0, 0, 0, 2, 0, 0, 0, 0, 0, 0, 0, 0, 0, 0\\n0, 0]'),\n",
       " Text(209.61391304347825, 74.745, 'entropy = 0.0\\nsamples = 1\\nvalue = [0, 0, 0, 0, 0, 0, 1, 0, 0, 0, 0, 0, 0, 0\\n0, 0]'),\n",
       " Text(212.52521739130435, 129.10500000000002, 'X[1] <= 44.5\\nentropy = 1.5\\nsamples = 4\\nvalue = [1, 0, 2, 1, 0, 0, 0, 0, 0, 0, 0, 0, 0, 0\\n0, 0]'),\n",
       " Text(211.0695652173913, 115.515, 'X[4] <= 137.5\\nentropy = 1.0\\nsamples = 2\\nvalue = [1, 0, 0, 1, 0, 0, 0, 0, 0, 0, 0, 0, 0, 0\\n0, 0]'),\n",
       " Text(209.61391304347825, 101.925, 'entropy = 0.0\\nsamples = 1\\nvalue = [0, 0, 0, 1, 0, 0, 0, 0, 0, 0, 0, 0, 0, 0\\n0, 0]'),\n",
       " Text(212.52521739130435, 101.925, 'entropy = 0.0\\nsamples = 1\\nvalue = [1, 0, 0, 0, 0, 0, 0, 0, 0, 0, 0, 0, 0, 0\\n0, 0]'),\n",
       " Text(213.9808695652174, 115.515, 'entropy = 0.0\\nsamples = 2\\nvalue = [0, 0, 2, 0, 0, 0, 0, 0, 0, 0, 0, 0, 0, 0\\n0, 0]'),\n",
       " Text(253.51092391304348, 156.285, 'X[4] <= 131.5\\nentropy = 2.843\\nsamples = 76\\nvalue = [0, 0, 1, 1, 6, 13, 15, 9, 16, 9, 6, 0, 0, 0\\n0, 0]'),\n",
       " Text(238.09010869565216, 142.695, 'X[6] <= 72.0\\nentropy = 2.578\\nsamples = 47\\nvalue = [0, 0, 0, 0, 2, 2, 11, 9, 11, 7, 5, 0, 0, 0\\n0, 0]'),\n",
       " Text(230.175, 129.10500000000002, 'X[1] <= 97.0\\nentropy = 2.404\\nsamples = 37\\nvalue = [0, 0, 0, 0, 1, 0, 7, 7, 10, 7, 5, 0, 0, 0\\n0, 0]'),\n",
       " Text(224.53434782608696, 115.515, 'X[7] <= 16.5\\nentropy = 2.29\\nsamples = 29\\nvalue = [0, 0, 0, 0, 1, 0, 7, 6, 7, 7, 1, 0, 0, 0\\n0, 0]'),\n",
       " Text(219.07565217391303, 101.925, 'X[1] <= 85.0\\nentropy = 1.97\\nsamples = 22\\nvalue = [0, 0, 0, 0, 0, 0, 4, 6, 5, 7, 0, 0, 0, 0\\n0, 0]'),\n",
       " Text(217.62, 88.33500000000001, 'X[8] <= 0.5\\nentropy = 1.931\\nsamples = 19\\nvalue = [0, 0, 0, 0, 0, 0, 4, 3, 5, 7, 0, 0, 0, 0\\n0, 0]'),\n",
       " Text(212.52521739130435, 74.745, 'X[0] <= 128.5\\nentropy = 1.371\\nsamples = 5\\nvalue = [0, 0, 0, 0, 0, 0, 3, 1, 1, 0, 0, 0, 0, 0\\n0, 0]'),\n",
       " Text(211.0695652173913, 61.155, 'entropy = 0.0\\nsamples = 1\\nvalue = [0, 0, 0, 0, 0, 0, 0, 1, 0, 0, 0, 0, 0, 0\\n0, 0]'),\n",
       " Text(213.9808695652174, 61.155, 'X[6] <= 34.0\\nentropy = 0.811\\nsamples = 4\\nvalue = [0, 0, 0, 0, 0, 0, 3, 0, 1, 0, 0, 0, 0, 0\\n0, 0]'),\n",
       " Text(212.52521739130435, 47.565, 'entropy = 0.0\\nsamples = 1\\nvalue = [0, 0, 0, 0, 0, 0, 0, 0, 1, 0, 0, 0, 0, 0\\n0, 0]'),\n",
       " Text(215.43652173913043, 47.565, 'entropy = 0.0\\nsamples = 3\\nvalue = [0, 0, 0, 0, 0, 0, 3, 0, 0, 0, 0, 0, 0, 0\\n0, 0]'),\n",
       " Text(222.71478260869566, 74.745, 'X[6] <= 40.0\\nentropy = 1.689\\nsamples = 14\\nvalue = [0, 0, 0, 0, 0, 0, 1, 2, 4, 7, 0, 0, 0, 0\\n0, 0]'),\n",
       " Text(219.80347826086955, 61.155, 'X[4] <= 122.5\\nentropy = 0.918\\nsamples = 3\\nvalue = [0, 0, 0, 0, 0, 0, 0, 2, 0, 1, 0, 0, 0, 0\\n0, 0]'),\n",
       " Text(218.34782608695653, 47.565, 'entropy = 0.0\\nsamples = 1\\nvalue = [0, 0, 0, 0, 0, 0, 0, 0, 0, 1, 0, 0, 0, 0\\n0, 0]'),\n",
       " Text(221.2591304347826, 47.565, 'entropy = 0.0\\nsamples = 2\\nvalue = [0, 0, 0, 0, 0, 0, 0, 2, 0, 0, 0, 0, 0, 0\\n0, 0]'),\n",
       " Text(225.62608695652173, 61.155, 'X[0] <= 125.5\\nentropy = 1.322\\nsamples = 11\\nvalue = [0, 0, 0, 0, 0, 0, 1, 0, 4, 6, 0, 0, 0, 0\\n0, 0]'),\n",
       " Text(224.17043478260868, 47.565, 'entropy = 0.0\\nsamples = 1\\nvalue = [0, 0, 0, 0, 0, 0, 1, 0, 0, 0, 0, 0, 0, 0\\n0, 0]'),\n",
       " Text(227.08173913043478, 47.565, 'X[6] <= 42.5\\nentropy = 0.971\\nsamples = 10\\nvalue = [0, 0, 0, 0, 0, 0, 0, 0, 4, 6, 0, 0, 0, 0\\n0, 0]'),\n",
       " Text(225.62608695652173, 33.974999999999994, 'entropy = 0.0\\nsamples = 2\\nvalue = [0, 0, 0, 0, 0, 0, 0, 0, 2, 0, 0, 0, 0, 0\\n0, 0]'),\n",
       " Text(228.53739130434784, 33.974999999999994, 'X[6] <= 61.5\\nentropy = 0.811\\nsamples = 8\\nvalue = [0, 0, 0, 0, 0, 0, 0, 0, 2, 6, 0, 0, 0, 0\\n0, 0]'),\n",
       " Text(227.08173913043478, 20.38499999999999, 'entropy = 0.0\\nsamples = 5\\nvalue = [0, 0, 0, 0, 0, 0, 0, 0, 0, 5, 0, 0, 0, 0\\n0, 0]'),\n",
       " Text(229.99304347826086, 20.38499999999999, 'X[0] <= 135.0\\nentropy = 0.918\\nsamples = 3\\nvalue = [0, 0, 0, 0, 0, 0, 0, 0, 2, 1, 0, 0, 0, 0\\n0, 0]'),\n",
       " Text(228.53739130434784, 6.7949999999999875, 'entropy = 0.0\\nsamples = 2\\nvalue = [0, 0, 0, 0, 0, 0, 0, 0, 2, 0, 0, 0, 0, 0\\n0, 0]'),\n",
       " Text(231.4486956521739, 6.7949999999999875, 'entropy = 0.0\\nsamples = 1\\nvalue = [0, 0, 0, 0, 0, 0, 0, 0, 0, 1, 0, 0, 0, 0\\n0, 0]'),\n",
       " Text(220.53130434782608, 88.33500000000001, 'entropy = 0.0\\nsamples = 3\\nvalue = [0, 0, 0, 0, 0, 0, 0, 3, 0, 0, 0, 0, 0, 0\\n0, 0]'),\n",
       " Text(229.99304347826086, 101.925, 'X[0] <= 135.5\\nentropy = 1.842\\nsamples = 7\\nvalue = [0, 0, 0, 0, 1, 0, 3, 0, 2, 0, 1, 0, 0, 0\\n0, 0]'),\n",
       " Text(227.08173913043478, 88.33500000000001, 'X[7] <= 17.5\\nentropy = 0.811\\nsamples = 4\\nvalue = [0, 0, 0, 0, 1, 0, 3, 0, 0, 0, 0, 0, 0, 0\\n0, 0]'),\n",
       " Text(225.62608695652173, 74.745, 'entropy = 0.0\\nsamples = 1\\nvalue = [0, 0, 0, 0, 1, 0, 0, 0, 0, 0, 0, 0, 0, 0\\n0, 0]'),\n",
       " Text(228.53739130434784, 74.745, 'entropy = 0.0\\nsamples = 3\\nvalue = [0, 0, 0, 0, 0, 0, 3, 0, 0, 0, 0, 0, 0, 0\\n0, 0]'),\n",
       " Text(232.90434782608696, 88.33500000000001, 'X[3] <= 301.5\\nentropy = 0.918\\nsamples = 3\\nvalue = [0, 0, 0, 0, 0, 0, 0, 0, 2, 0, 1, 0, 0, 0\\n0, 0]'),\n",
       " Text(231.4486956521739, 74.745, 'entropy = 0.0\\nsamples = 2\\nvalue = [0, 0, 0, 0, 0, 0, 0, 0, 2, 0, 0, 0, 0, 0\\n0, 0]'),\n",
       " Text(234.35999999999999, 74.745, 'entropy = 0.0\\nsamples = 1\\nvalue = [0, 0, 0, 0, 0, 0, 0, 0, 0, 0, 1, 0, 0, 0\\n0, 0]'),\n",
       " Text(235.81565217391304, 115.515, 'X[9] <= 0.5\\nentropy = 1.406\\nsamples = 8\\nvalue = [0, 0, 0, 0, 0, 0, 0, 1, 3, 0, 4, 0, 0, 0\\n0, 0]'),\n",
       " Text(234.35999999999999, 101.925, 'entropy = 0.0\\nsamples = 3\\nvalue = [0, 0, 0, 0, 0, 0, 0, 0, 3, 0, 0, 0, 0, 0\\n0, 0]'),\n",
       " Text(237.2713043478261, 101.925, 'X[8] <= 0.5\\nentropy = 0.722\\nsamples = 5\\nvalue = [0, 0, 0, 0, 0, 0, 0, 1, 0, 0, 4, 0, 0, 0\\n0, 0]'),\n",
       " Text(235.81565217391304, 88.33500000000001, 'entropy = 0.0\\nsamples = 1\\nvalue = [0, 0, 0, 0, 0, 0, 0, 1, 0, 0, 0, 0, 0, 0\\n0, 0]'),\n",
       " Text(238.72695652173914, 88.33500000000001, 'entropy = 0.0\\nsamples = 4\\nvalue = [0, 0, 0, 0, 0, 0, 0, 0, 0, 0, 4, 0, 0, 0\\n0, 0]'),\n",
       " Text(246.00521739130434, 129.10500000000002, 'X[4] <= 117.5\\nentropy = 2.122\\nsamples = 10\\nvalue = [0, 0, 0, 0, 1, 2, 4, 2, 1, 0, 0, 0, 0, 0\\n0, 0]'),\n",
       " Text(241.63826086956522, 115.515, 'X[9] <= 0.5\\nentropy = 1.5\\nsamples = 4\\nvalue = [0, 0, 0, 0, 0, 2, 0, 1, 1, 0, 0, 0, 0, 0\\n0, 0]'),\n",
       " Text(240.18260869565216, 101.925, 'entropy = 0.0\\nsamples = 2\\nvalue = [0, 0, 0, 0, 0, 2, 0, 0, 0, 0, 0, 0, 0, 0\\n0, 0]'),\n",
       " Text(243.09391304347827, 101.925, 'X[1] <= 43.5\\nentropy = 1.0\\nsamples = 2\\nvalue = [0, 0, 0, 0, 0, 0, 0, 1, 1, 0, 0, 0, 0, 0\\n0, 0]'),\n",
       " Text(241.63826086956522, 88.33500000000001, 'entropy = 0.0\\nsamples = 1\\nvalue = [0, 0, 0, 0, 0, 0, 0, 1, 0, 0, 0, 0, 0, 0\\n0, 0]'),\n",
       " Text(244.5495652173913, 88.33500000000001, 'entropy = 0.0\\nsamples = 1\\nvalue = [0, 0, 0, 0, 0, 0, 0, 0, 1, 0, 0, 0, 0, 0\\n0, 0]'),\n",
       " Text(250.37217391304347, 115.515, 'X[1] <= 111.5\\nentropy = 1.252\\nsamples = 6\\nvalue = [0, 0, 0, 0, 1, 0, 4, 1, 0, 0, 0, 0, 0, 0\\n0, 0]'),\n",
       " Text(248.91652173913045, 101.925, 'X[1] <= 57.5\\nentropy = 0.722\\nsamples = 5\\nvalue = [0, 0, 0, 0, 0, 0, 4, 1, 0, 0, 0, 0, 0, 0\\n0, 0]'),\n",
       " Text(247.4608695652174, 88.33500000000001, 'X[2] <= 2.0\\nentropy = 1.0\\nsamples = 2\\nvalue = [0, 0, 0, 0, 0, 0, 1, 1, 0, 0, 0, 0, 0, 0\\n0, 0]'),\n",
       " Text(246.00521739130434, 74.745, 'entropy = 0.0\\nsamples = 1\\nvalue = [0, 0, 0, 0, 0, 0, 1, 0, 0, 0, 0, 0, 0, 0\\n0, 0]'),\n",
       " Text(248.91652173913045, 74.745, 'entropy = 0.0\\nsamples = 1\\nvalue = [0, 0, 0, 0, 0, 0, 0, 1, 0, 0, 0, 0, 0, 0\\n0, 0]'),\n",
       " Text(250.37217391304347, 88.33500000000001, 'entropy = 0.0\\nsamples = 3\\nvalue = [0, 0, 0, 0, 0, 0, 3, 0, 0, 0, 0, 0, 0, 0\\n0, 0]'),\n",
       " Text(251.82782608695652, 101.925, 'entropy = 0.0\\nsamples = 1\\nvalue = [0, 0, 0, 0, 1, 0, 0, 0, 0, 0, 0, 0, 0, 0\\n0, 0]'),\n",
       " Text(268.9317391304348, 142.695, 'X[6] <= 63.0\\nentropy = 2.525\\nsamples = 29\\nvalue = [0, 0, 1, 1, 4, 11, 4, 0, 5, 2, 1, 0, 0, 0\\n0, 0]'),\n",
       " Text(261.2895652173913, 129.10500000000002, 'X[0] <= 142.0\\nentropy = 1.844\\nsamples = 20\\nvalue = [0, 0, 0, 0, 0, 11, 3, 0, 3, 2, 1, 0, 0, 0\\n0, 0]'),\n",
       " Text(256.1947826086957, 115.515, 'X[6] <= 33.0\\nentropy = 0.922\\nsamples = 10\\nvalue = [0, 0, 0, 0, 0, 8, 1, 0, 0, 0, 1, 0, 0, 0\\n0, 0]'),\n",
       " Text(254.7391304347826, 101.925, 'entropy = 0.0\\nsamples = 1\\nvalue = [0, 0, 0, 0, 0, 0, 0, 0, 0, 0, 1, 0, 0, 0\\n0, 0]'),\n",
       " Text(257.65043478260867, 101.925, 'X[1] <= 112.5\\nentropy = 0.503\\nsamples = 9\\nvalue = [0, 0, 0, 0, 0, 8, 1, 0, 0, 0, 0, 0, 0, 0\\n0, 0]'),\n",
       " Text(256.1947826086957, 88.33500000000001, 'entropy = 0.0\\nsamples = 8\\nvalue = [0, 0, 0, 0, 0, 8, 0, 0, 0, 0, 0, 0, 0, 0\\n0, 0]'),\n",
       " Text(259.1060869565217, 88.33500000000001, 'entropy = 0.0\\nsamples = 1\\nvalue = [0, 0, 0, 0, 0, 0, 1, 0, 0, 0, 0, 0, 0, 0\\n0, 0]'),\n",
       " Text(266.384347826087, 115.515, 'X[6] <= 45.5\\nentropy = 1.971\\nsamples = 10\\nvalue = [0, 0, 0, 0, 0, 3, 2, 0, 3, 2, 0, 0, 0, 0\\n0, 0]'),\n",
       " Text(263.4730434782609, 101.925, 'X[0] <= 149.5\\nentropy = 0.971\\nsamples = 5\\nvalue = [0, 0, 0, 0, 0, 2, 0, 0, 3, 0, 0, 0, 0, 0\\n0, 0]'),\n",
       " Text(262.0173913043478, 88.33500000000001, 'entropy = 0.0\\nsamples = 3\\nvalue = [0, 0, 0, 0, 0, 0, 0, 0, 3, 0, 0, 0, 0, 0\\n0, 0]'),\n",
       " Text(264.92869565217393, 88.33500000000001, 'entropy = 0.0\\nsamples = 2\\nvalue = [0, 0, 0, 0, 0, 2, 0, 0, 0, 0, 0, 0, 0, 0\\n0, 0]'),\n",
       " Text(269.295652173913, 101.925, 'X[6] <= 55.0\\nentropy = 1.522\\nsamples = 5\\nvalue = [0, 0, 0, 0, 0, 1, 2, 0, 0, 2, 0, 0, 0, 0\\n0, 0]'),\n",
       " Text(267.84, 88.33500000000001, 'entropy = 0.0\\nsamples = 2\\nvalue = [0, 0, 0, 0, 0, 0, 0, 0, 0, 2, 0, 0, 0, 0\\n0, 0]'),\n",
       " Text(270.7513043478261, 88.33500000000001, 'X[4] <= 150.0\\nentropy = 0.918\\nsamples = 3\\nvalue = [0, 0, 0, 0, 0, 1, 2, 0, 0, 0, 0, 0, 0, 0\\n0, 0]'),\n",
       " Text(269.295652173913, 74.745, 'entropy = 0.0\\nsamples = 1\\nvalue = [0, 0, 0, 0, 0, 1, 0, 0, 0, 0, 0, 0, 0, 0\\n0, 0]'),\n",
       " Text(272.20695652173913, 74.745, 'entropy = 0.0\\nsamples = 2\\nvalue = [0, 0, 0, 0, 0, 0, 2, 0, 0, 0, 0, 0, 0, 0\\n0, 0]'),\n",
       " Text(276.5739130434783, 129.10500000000002, 'X[3] <= 326.5\\nentropy = 2.059\\nsamples = 9\\nvalue = [0, 0, 1, 1, 4, 0, 1, 0, 2, 0, 0, 0, 0, 0\\n0, 0]'),\n",
       " Text(273.6626086956522, 115.515, 'X[4] <= 140.0\\nentropy = 1.252\\nsamples = 6\\nvalue = [0, 0, 1, 0, 4, 0, 1, 0, 0, 0, 0, 0, 0, 0\\n0, 0]'),\n",
       " Text(272.20695652173913, 101.925, 'entropy = 0.0\\nsamples = 1\\nvalue = [0, 0, 0, 0, 0, 0, 1, 0, 0, 0, 0, 0, 0, 0\\n0, 0]'),\n",
       " Text(275.11826086956523, 101.925, 'X[1] <= 30.5\\nentropy = 0.722\\nsamples = 5\\nvalue = [0, 0, 1, 0, 4, 0, 0, 0, 0, 0, 0, 0, 0, 0\\n0, 0]'),\n",
       " Text(273.6626086956522, 88.33500000000001, 'entropy = 0.0\\nsamples = 1\\nvalue = [0, 0, 1, 0, 0, 0, 0, 0, 0, 0, 0, 0, 0, 0\\n0, 0]'),\n",
       " Text(276.5739130434783, 88.33500000000001, 'entropy = 0.0\\nsamples = 4\\nvalue = [0, 0, 0, 0, 4, 0, 0, 0, 0, 0, 0, 0, 0, 0\\n0, 0]'),\n",
       " Text(279.48521739130433, 115.515, 'X[3] <= 388.0\\nentropy = 0.918\\nsamples = 3\\nvalue = [0, 0, 0, 1, 0, 0, 0, 0, 2, 0, 0, 0, 0, 0\\n0, 0]'),\n",
       " Text(278.0295652173913, 101.925, 'entropy = 0.0\\nsamples = 1\\nvalue = [0, 0, 0, 1, 0, 0, 0, 0, 0, 0, 0, 0, 0, 0\\n0, 0]'),\n",
       " Text(280.9408695652174, 101.925, 'entropy = 0.0\\nsamples = 2\\nvalue = [0, 0, 0, 0, 0, 0, 0, 0, 2, 0, 0, 0, 0, 0\\n0, 0]'),\n",
       " Text(315.3761413043478, 169.875, 'X[0] <= 143.0\\nentropy = 2.809\\nsamples = 51\\nvalue = [3, 1, 5, 6, 14, 13, 4, 3, 0, 1, 1, 0, 0, 0\\n0, 0]'),\n",
       " Text(301.7748913043478, 156.285, 'X[3] <= 138.5\\nentropy = 2.462\\nsamples = 43\\nvalue = [2, 1, 5, 6, 14, 12, 2, 0, 0, 1, 0, 0, 0, 0\\n0, 0]'),\n",
       " Text(289.67478260869564, 142.695, 'X[4] <= 120.5\\nentropy = 1.689\\nsamples = 14\\nvalue = [2, 0, 4, 0, 1, 7, 0, 0, 0, 0, 0, 0, 0, 0\\n0, 0]'),\n",
       " Text(286.7634782608696, 129.10500000000002, 'X[1] <= 94.0\\nentropy = 1.061\\nsamples = 8\\nvalue = [1, 0, 0, 0, 1, 6, 0, 0, 0, 0, 0, 0, 0, 0\\n0, 0]'),\n",
       " Text(285.30782608695654, 115.515, 'X[0] <= 104.0\\nentropy = 0.592\\nsamples = 7\\nvalue = [1, 0, 0, 0, 0, 6, 0, 0, 0, 0, 0, 0, 0, 0\\n0, 0]'),\n",
       " Text(283.8521739130435, 101.925, 'entropy = 0.0\\nsamples = 1\\nvalue = [1, 0, 0, 0, 0, 0, 0, 0, 0, 0, 0, 0, 0, 0\\n0, 0]'),\n",
       " Text(286.7634782608696, 101.925, 'entropy = 0.0\\nsamples = 6\\nvalue = [0, 0, 0, 0, 0, 6, 0, 0, 0, 0, 0, 0, 0, 0\\n0, 0]'),\n",
       " Text(288.2191304347826, 115.515, 'entropy = 0.0\\nsamples = 1\\nvalue = [0, 0, 0, 0, 1, 0, 0, 0, 0, 0, 0, 0, 0, 0\\n0, 0]'),\n",
       " Text(292.58608695652174, 129.10500000000002, 'X[2] <= 5.0\\nentropy = 1.252\\nsamples = 6\\nvalue = [1, 0, 4, 0, 0, 1, 0, 0, 0, 0, 0, 0, 0, 0\\n0, 0]'),\n",
       " Text(291.1304347826087, 115.515, 'entropy = 0.0\\nsamples = 4\\nvalue = [0, 0, 4, 0, 0, 0, 0, 0, 0, 0, 0, 0, 0, 0\\n0, 0]'),\n",
       " Text(294.0417391304348, 115.515, 'X[9] <= 0.5\\nentropy = 1.0\\nsamples = 2\\nvalue = [1, 0, 0, 0, 0, 1, 0, 0, 0, 0, 0, 0, 0, 0\\n0, 0]'),\n",
       " Text(292.58608695652174, 101.925, 'entropy = 0.0\\nsamples = 1\\nvalue = [0, 0, 0, 0, 0, 1, 0, 0, 0, 0, 0, 0, 0, 0\\n0, 0]'),\n",
       " Text(295.49739130434784, 101.925, 'entropy = 0.0\\nsamples = 1\\nvalue = [1, 0, 0, 0, 0, 0, 0, 0, 0, 0, 0, 0, 0, 0\\n0, 0]'),\n",
       " Text(313.875, 142.695, 'X[7] <= 16.5\\nentropy = 2.195\\nsamples = 29\\nvalue = [0, 1, 1, 6, 13, 5, 2, 0, 0, 1, 0, 0, 0, 0\\n0, 0]'),\n",
       " Text(308.9621739130435, 129.10500000000002, 'X[6] <= 54.5\\nentropy = 1.869\\nsamples = 26\\nvalue = [0, 0, 1, 6, 13, 4, 2, 0, 0, 0, 0, 0, 0, 0\\n0, 0]'),\n",
       " Text(303.50347826086954, 115.515, 'X[1] <= 80.0\\nentropy = 2.073\\nsamples = 15\\nvalue = [0, 0, 1, 2, 6, 4, 2, 0, 0, 0, 0, 0, 0, 0\\n0, 0]'),\n",
       " Text(298.4086956521739, 101.925, 'X[1] <= 35.5\\nentropy = 1.447\\nsamples = 9\\nvalue = [0, 0, 0, 1, 6, 1, 1, 0, 0, 0, 0, 0, 0, 0\\n0, 0]'),\n",
       " Text(296.9530434782609, 88.33500000000001, 'entropy = 0.0\\nsamples = 1\\nvalue = [0, 0, 0, 0, 0, 0, 1, 0, 0, 0, 0, 0, 0, 0\\n0, 0]'),\n",
       " Text(299.86434782608694, 88.33500000000001, 'X[3] <= 156.0\\nentropy = 1.061\\nsamples = 8\\nvalue = [0, 0, 0, 1, 6, 1, 0, 0, 0, 0, 0, 0, 0, 0\\n0, 0]'),\n",
       " Text(298.4086956521739, 74.745, 'entropy = 0.0\\nsamples = 1\\nvalue = [0, 0, 0, 1, 0, 0, 0, 0, 0, 0, 0, 0, 0, 0\\n0, 0]'),\n",
       " Text(301.32, 74.745, 'X[0] <= 119.0\\nentropy = 0.592\\nsamples = 7\\nvalue = [0, 0, 0, 0, 6, 1, 0, 0, 0, 0, 0, 0, 0, 0\\n0, 0]'),\n",
       " Text(299.86434782608694, 61.155, 'entropy = 0.0\\nsamples = 1\\nvalue = [0, 0, 0, 0, 0, 1, 0, 0, 0, 0, 0, 0, 0, 0\\n0, 0]'),\n",
       " Text(302.77565217391304, 61.155, 'entropy = 0.0\\nsamples = 6\\nvalue = [0, 0, 0, 0, 6, 0, 0, 0, 0, 0, 0, 0, 0, 0\\n0, 0]'),\n",
       " Text(308.5982608695652, 101.925, 'X[0] <= 122.0\\nentropy = 1.792\\nsamples = 6\\nvalue = [0, 0, 1, 1, 0, 3, 1, 0, 0, 0, 0, 0, 0, 0\\n0, 0]'),\n",
       " Text(305.68695652173915, 88.33500000000001, 'X[7] <= 12.0\\nentropy = 1.0\\nsamples = 2\\nvalue = [0, 0, 1, 1, 0, 0, 0, 0, 0, 0, 0, 0, 0, 0\\n0, 0]'),\n",
       " Text(304.2313043478261, 74.745, 'entropy = 0.0\\nsamples = 1\\nvalue = [0, 0, 1, 0, 0, 0, 0, 0, 0, 0, 0, 0, 0, 0\\n0, 0]'),\n",
       " Text(307.1426086956522, 74.745, 'entropy = 0.0\\nsamples = 1\\nvalue = [0, 0, 0, 1, 0, 0, 0, 0, 0, 0, 0, 0, 0, 0\\n0, 0]'),\n",
       " Text(311.5095652173913, 88.33500000000001, 'X[0] <= 135.5\\nentropy = 0.811\\nsamples = 4\\nvalue = [0, 0, 0, 0, 0, 3, 1, 0, 0, 0, 0, 0, 0, 0\\n0, 0]'),\n",
       " Text(310.05391304347825, 74.745, 'entropy = 0.0\\nsamples = 3\\nvalue = [0, 0, 0, 0, 0, 3, 0, 0, 0, 0, 0, 0, 0, 0\\n0, 0]'),\n",
       " Text(312.96521739130435, 74.745, 'entropy = 0.0\\nsamples = 1\\nvalue = [0, 0, 0, 0, 0, 0, 1, 0, 0, 0, 0, 0, 0, 0\\n0, 0]'),\n",
       " Text(314.4208695652174, 115.515, 'X[4] <= 115.0\\nentropy = 0.946\\nsamples = 11\\nvalue = [0, 0, 0, 4, 7, 0, 0, 0, 0, 0, 0, 0, 0, 0\\n0, 0]'),\n",
       " Text(312.96521739130435, 101.925, 'entropy = 0.0\\nsamples = 4\\nvalue = [0, 0, 0, 0, 4, 0, 0, 0, 0, 0, 0, 0, 0, 0\\n0, 0]'),\n",
       " Text(315.87652173913045, 101.925, 'X[3] <= 330.0\\nentropy = 0.985\\nsamples = 7\\nvalue = [0, 0, 0, 4, 3, 0, 0, 0, 0, 0, 0, 0, 0, 0\\n0, 0]'),\n",
       " Text(314.4208695652174, 88.33500000000001, 'entropy = 0.0\\nsamples = 2\\nvalue = [0, 0, 0, 2, 0, 0, 0, 0, 0, 0, 0, 0, 0, 0\\n0, 0]'),\n",
       " Text(317.33217391304345, 88.33500000000001, 'X[2] <= 8.5\\nentropy = 0.971\\nsamples = 5\\nvalue = [0, 0, 0, 2, 3, 0, 0, 0, 0, 0, 0, 0, 0, 0\\n0, 0]'),\n",
       " Text(315.87652173913045, 74.745, 'entropy = 0.0\\nsamples = 2\\nvalue = [0, 0, 0, 0, 2, 0, 0, 0, 0, 0, 0, 0, 0, 0\\n0, 0]'),\n",
       " Text(318.7878260869565, 74.745, 'X[0] <= 133.5\\nentropy = 0.918\\nsamples = 3\\nvalue = [0, 0, 0, 2, 1, 0, 0, 0, 0, 0, 0, 0, 0, 0\\n0, 0]'),\n",
       " Text(317.33217391304345, 61.155, 'entropy = 0.0\\nsamples = 2\\nvalue = [0, 0, 0, 2, 0, 0, 0, 0, 0, 0, 0, 0, 0, 0\\n0, 0]'),\n",
       " Text(320.24347826086955, 61.155, 'entropy = 0.0\\nsamples = 1\\nvalue = [0, 0, 0, 0, 1, 0, 0, 0, 0, 0, 0, 0, 0, 0\\n0, 0]'),\n",
       " Text(318.7878260869565, 129.10500000000002, 'X[0] <= 134.0\\nentropy = 1.585\\nsamples = 3\\nvalue = [0, 1, 0, 0, 0, 1, 0, 0, 0, 1, 0, 0, 0, 0\\n0, 0]'),\n",
       " Text(317.33217391304345, 115.515, 'entropy = 0.0\\nsamples = 1\\nvalue = [0, 0, 0, 0, 0, 1, 0, 0, 0, 0, 0, 0, 0, 0\\n0, 0]'),\n",
       " Text(320.24347826086955, 115.515, 'X[0] <= 138.5\\nentropy = 1.0\\nsamples = 2\\nvalue = [0, 1, 0, 0, 0, 0, 0, 0, 0, 1, 0, 0, 0, 0\\n0, 0]'),\n",
       " Text(318.7878260869565, 101.925, 'entropy = 0.0\\nsamples = 1\\nvalue = [0, 0, 0, 0, 0, 0, 0, 0, 0, 1, 0, 0, 0, 0\\n0, 0]'),\n",
       " Text(321.6991304347826, 101.925, 'entropy = 0.0\\nsamples = 1\\nvalue = [0, 1, 0, 0, 0, 0, 0, 0, 0, 0, 0, 0, 0, 0\\n0, 0]'),\n",
       " Text(328.9773913043478, 156.285, 'X[4] <= 147.5\\nentropy = 2.156\\nsamples = 8\\nvalue = [1, 0, 0, 0, 0, 1, 2, 3, 0, 0, 1, 0, 0, 0\\n0, 0]'),\n",
       " Text(326.06608695652176, 142.695, 'X[7] <= 13.0\\nentropy = 1.459\\nsamples = 6\\nvalue = [0, 0, 0, 0, 0, 0, 2, 3, 0, 0, 1, 0, 0, 0\\n0, 0]'),\n",
       " Text(324.6104347826087, 129.10500000000002, 'entropy = 0.0\\nsamples = 1\\nvalue = [0, 0, 0, 0, 0, 0, 0, 0, 0, 0, 1, 0, 0, 0\\n0, 0]'),\n",
       " Text(327.52173913043475, 129.10500000000002, 'X[0] <= 155.0\\nentropy = 0.971\\nsamples = 5\\nvalue = [0, 0, 0, 0, 0, 0, 2, 3, 0, 0, 0, 0, 0, 0\\n0, 0]'),\n",
       " Text(326.06608695652176, 115.515, 'X[1] <= 51.5\\nentropy = 0.918\\nsamples = 3\\nvalue = [0, 0, 0, 0, 0, 0, 2, 1, 0, 0, 0, 0, 0, 0\\n0, 0]'),\n",
       " Text(324.6104347826087, 101.925, 'entropy = 0.0\\nsamples = 1\\nvalue = [0, 0, 0, 0, 0, 0, 0, 1, 0, 0, 0, 0, 0, 0\\n0, 0]'),\n",
       " Text(327.52173913043475, 101.925, 'entropy = 0.0\\nsamples = 2\\nvalue = [0, 0, 0, 0, 0, 0, 2, 0, 0, 0, 0, 0, 0, 0\\n0, 0]'),\n",
       " Text(328.9773913043478, 115.515, 'entropy = 0.0\\nsamples = 2\\nvalue = [0, 0, 0, 0, 0, 0, 0, 2, 0, 0, 0, 0, 0, 0\\n0, 0]'),\n",
       " Text(331.8886956521739, 142.695, 'X[2] <= 10.0\\nentropy = 1.0\\nsamples = 2\\nvalue = [1, 0, 0, 0, 0, 1, 0, 0, 0, 0, 0, 0, 0, 0\\n0, 0]'),\n",
       " Text(330.43304347826086, 129.10500000000002, 'entropy = 0.0\\nsamples = 1\\nvalue = [1, 0, 0, 0, 0, 0, 0, 0, 0, 0, 0, 0, 0, 0\\n0, 0]'),\n",
       " Text(333.34434782608696, 129.10500000000002, 'entropy = 0.0\\nsamples = 1\\nvalue = [0, 0, 0, 0, 0, 1, 0, 0, 0, 0, 0, 0, 0, 0\\n0, 0]')]"
      ]
     },
     "execution_count": 80,
     "metadata": {},
     "output_type": "execute_result"
    },
    {
     "data": {
      "image/png": "[encoded data removed]",
      "text/plain": [
       "<Figure size 432x288 with 1 Axes>"
      ]
     },
     "metadata": {
      "needs_background": "light"
     },
     "output_type": "display_data"
    }
   ],
   "source": [
    "tree.plot_tree(fitted_model)"
   ]
  },
  {
   "cell_type": "code",
   "execution_count": 81,
   "id": "81a01bbb",
   "metadata": {},
   "outputs": [
    {
     "data": {
      "text/plain": [
       "pandas.core.series.Series"
      ]
     },
     "execution_count": 81,
     "metadata": {},
     "output_type": "execute_result"
    }
   ],
   "source": [
    "type(pred)"
   ]
  },
  {
   "cell_type": "code",
   "execution_count": 82,
   "id": "47f7be1b",
   "metadata": {},
   "outputs": [
    {
     "name": "stdout",
     "output_type": "stream",
     "text": [
      "0      3\n",
      "1      3\n",
      "2      4\n",
      "3      6\n",
      "4      9\n",
      "      ..\n",
      "75     7\n",
      "76    11\n",
      "77     4\n",
      "78    10\n",
      "79     2\n",
      "Length: 80, dtype: int32\n"
     ]
    }
   ],
   "source": [
    "print(pred)"
   ]
  },
  {
   "cell_type": "code",
   "execution_count": 83,
   "id": "081d7375",
   "metadata": {},
   "outputs": [
    {
     "data": {
      "text/plain": [
       "5     11\n",
       "6     11\n",
       "8     11\n",
       "4     10\n",
       "7      8\n",
       "11     8\n",
       "9      7\n",
       "10     5\n",
       "3      4\n",
       "2      2\n",
       "12     1\n",
       "13     1\n",
       "14     1\n",
       "dtype: int64"
      ]
     },
     "execution_count": 83,
     "metadata": {},
     "output_type": "execute_result"
    }
   ],
   "source": [
    "pd.Series(pred).value_counts()"
   ]
  },
  {
   "cell_type": "code",
   "execution_count": 84,
   "id": "c6ddad9d",
   "metadata": {},
   "outputs": [
    {
     "data": {
      "text/html": [
       "<div>\n",
       "<style scoped>\n",
       "    .dataframe tbody tr th:only-of-type {\n",
       "        vertical-align: middle;\n",
       "    }\n",
       "\n",
       "    .dataframe tbody tr th {\n",
       "        vertical-align: top;\n",
       "    }\n",
       "\n",
       "    .dataframe thead th {\n",
       "        text-align: right;\n",
       "    }\n",
       "</style>\n",
       "<table border=\"1\" class=\"dataframe\">\n",
       "  <thead>\n",
       "    <tr style=\"text-align: right;\">\n",
       "      <th>col_0</th>\n",
       "      <th>2</th>\n",
       "      <th>4</th>\n",
       "      <th>5</th>\n",
       "      <th>6</th>\n",
       "      <th>8</th>\n",
       "      <th>10</th>\n",
       "      <th>11</th>\n",
       "      <th>12</th>\n",
       "    </tr>\n",
       "    <tr>\n",
       "      <th>Sales</th>\n",
       "      <th></th>\n",
       "      <th></th>\n",
       "      <th></th>\n",
       "      <th></th>\n",
       "      <th></th>\n",
       "      <th></th>\n",
       "      <th></th>\n",
       "      <th></th>\n",
       "    </tr>\n",
       "  </thead>\n",
       "  <tbody>\n",
       "    <tr>\n",
       "      <th>1.42</th>\n",
       "      <td>0</td>\n",
       "      <td>0</td>\n",
       "      <td>0</td>\n",
       "      <td>0</td>\n",
       "      <td>0</td>\n",
       "      <td>0</td>\n",
       "      <td>0</td>\n",
       "      <td>1</td>\n",
       "    </tr>\n",
       "    <tr>\n",
       "      <th>5.08</th>\n",
       "      <td>0</td>\n",
       "      <td>0</td>\n",
       "      <td>0</td>\n",
       "      <td>0</td>\n",
       "      <td>1</td>\n",
       "      <td>0</td>\n",
       "      <td>0</td>\n",
       "      <td>0</td>\n",
       "    </tr>\n",
       "    <tr>\n",
       "      <th>6.41</th>\n",
       "      <td>0</td>\n",
       "      <td>0</td>\n",
       "      <td>0</td>\n",
       "      <td>0</td>\n",
       "      <td>0</td>\n",
       "      <td>1</td>\n",
       "      <td>0</td>\n",
       "      <td>0</td>\n",
       "    </tr>\n",
       "    <tr>\n",
       "      <th>6.50</th>\n",
       "      <td>0</td>\n",
       "      <td>0</td>\n",
       "      <td>0</td>\n",
       "      <td>1</td>\n",
       "      <td>0</td>\n",
       "      <td>0</td>\n",
       "      <td>0</td>\n",
       "      <td>0</td>\n",
       "    </tr>\n",
       "    <tr>\n",
       "      <th>7.81</th>\n",
       "      <td>0</td>\n",
       "      <td>0</td>\n",
       "      <td>1</td>\n",
       "      <td>0</td>\n",
       "      <td>0</td>\n",
       "      <td>0</td>\n",
       "      <td>0</td>\n",
       "      <td>0</td>\n",
       "    </tr>\n",
       "    <tr>\n",
       "      <th>8.32</th>\n",
       "      <td>0</td>\n",
       "      <td>0</td>\n",
       "      <td>1</td>\n",
       "      <td>0</td>\n",
       "      <td>0</td>\n",
       "      <td>0</td>\n",
       "      <td>0</td>\n",
       "      <td>0</td>\n",
       "    </tr>\n",
       "    <tr>\n",
       "      <th>9.14</th>\n",
       "      <td>1</td>\n",
       "      <td>0</td>\n",
       "      <td>0</td>\n",
       "      <td>0</td>\n",
       "      <td>0</td>\n",
       "      <td>0</td>\n",
       "      <td>0</td>\n",
       "      <td>0</td>\n",
       "    </tr>\n",
       "    <tr>\n",
       "      <th>10.06</th>\n",
       "      <td>0</td>\n",
       "      <td>1</td>\n",
       "      <td>0</td>\n",
       "      <td>0</td>\n",
       "      <td>0</td>\n",
       "      <td>0</td>\n",
       "      <td>0</td>\n",
       "      <td>0</td>\n",
       "    </tr>\n",
       "    <tr>\n",
       "      <th>11.17</th>\n",
       "      <td>0</td>\n",
       "      <td>0</td>\n",
       "      <td>0</td>\n",
       "      <td>0</td>\n",
       "      <td>0</td>\n",
       "      <td>0</td>\n",
       "      <td>1</td>\n",
       "      <td>0</td>\n",
       "    </tr>\n",
       "    <tr>\n",
       "      <th>11.91</th>\n",
       "      <td>0</td>\n",
       "      <td>1</td>\n",
       "      <td>0</td>\n",
       "      <td>0</td>\n",
       "      <td>0</td>\n",
       "      <td>0</td>\n",
       "      <td>0</td>\n",
       "      <td>0</td>\n",
       "    </tr>\n",
       "    <tr>\n",
       "      <th>11.96</th>\n",
       "      <td>0</td>\n",
       "      <td>0</td>\n",
       "      <td>0</td>\n",
       "      <td>0</td>\n",
       "      <td>0</td>\n",
       "      <td>0</td>\n",
       "      <td>1</td>\n",
       "      <td>0</td>\n",
       "    </tr>\n",
       "    <tr>\n",
       "      <th>12.13</th>\n",
       "      <td>0</td>\n",
       "      <td>0</td>\n",
       "      <td>1</td>\n",
       "      <td>0</td>\n",
       "      <td>0</td>\n",
       "      <td>0</td>\n",
       "      <td>0</td>\n",
       "      <td>0</td>\n",
       "    </tr>\n",
       "    <tr>\n",
       "      <th>12.29</th>\n",
       "      <td>0</td>\n",
       "      <td>0</td>\n",
       "      <td>0</td>\n",
       "      <td>0</td>\n",
       "      <td>1</td>\n",
       "      <td>0</td>\n",
       "      <td>0</td>\n",
       "      <td>0</td>\n",
       "    </tr>\n",
       "    <tr>\n",
       "      <th>12.61</th>\n",
       "      <td>0</td>\n",
       "      <td>0</td>\n",
       "      <td>0</td>\n",
       "      <td>0</td>\n",
       "      <td>0</td>\n",
       "      <td>0</td>\n",
       "      <td>1</td>\n",
       "      <td>0</td>\n",
       "    </tr>\n",
       "    <tr>\n",
       "      <th>13.39</th>\n",
       "      <td>0</td>\n",
       "      <td>0</td>\n",
       "      <td>1</td>\n",
       "      <td>0</td>\n",
       "      <td>0</td>\n",
       "      <td>0</td>\n",
       "      <td>0</td>\n",
       "      <td>0</td>\n",
       "    </tr>\n",
       "    <tr>\n",
       "      <th>13.55</th>\n",
       "      <td>0</td>\n",
       "      <td>0</td>\n",
       "      <td>0</td>\n",
       "      <td>0</td>\n",
       "      <td>0</td>\n",
       "      <td>1</td>\n",
       "      <td>0</td>\n",
       "      <td>0</td>\n",
       "    </tr>\n",
       "    <tr>\n",
       "      <th>13.91</th>\n",
       "      <td>0</td>\n",
       "      <td>0</td>\n",
       "      <td>0</td>\n",
       "      <td>0</td>\n",
       "      <td>1</td>\n",
       "      <td>0</td>\n",
       "      <td>0</td>\n",
       "      <td>0</td>\n",
       "    </tr>\n",
       "    <tr>\n",
       "      <th>14.90</th>\n",
       "      <td>0</td>\n",
       "      <td>0</td>\n",
       "      <td>1</td>\n",
       "      <td>0</td>\n",
       "      <td>0</td>\n",
       "      <td>0</td>\n",
       "      <td>0</td>\n",
       "      <td>0</td>\n",
       "    </tr>\n",
       "  </tbody>\n",
       "</table>\n",
       "</div>"
      ],
      "text/plain": [
       "col_0  2   4   5   6   8   10  11  12\n",
       "Sales                                \n",
       "1.42    0   0   0   0   0   0   0   1\n",
       "5.08    0   0   0   0   1   0   0   0\n",
       "6.41    0   0   0   0   0   1   0   0\n",
       "6.50    0   0   0   1   0   0   0   0\n",
       "7.81    0   0   1   0   0   0   0   0\n",
       "8.32    0   0   1   0   0   0   0   0\n",
       "9.14    1   0   0   0   0   0   0   0\n",
       "10.06   0   1   0   0   0   0   0   0\n",
       "11.17   0   0   0   0   0   0   1   0\n",
       "11.91   0   1   0   0   0   0   0   0\n",
       "11.96   0   0   0   0   0   0   1   0\n",
       "12.13   0   0   1   0   0   0   0   0\n",
       "12.29   0   0   0   0   1   0   0   0\n",
       "12.61   0   0   0   0   0   0   1   0\n",
       "13.39   0   0   1   0   0   0   0   0\n",
       "13.55   0   0   0   0   0   1   0   0\n",
       "13.91   0   0   0   0   1   0   0   0\n",
       "14.90   0   0   1   0   0   0   0   0"
      ]
     },
     "execution_count": 84,
     "metadata": {},
     "output_type": "execute_result"
    }
   ],
   "source": [
    "pd.crosstab(test[target],pred)"
   ]
  },
  {
   "cell_type": "code",
   "execution_count": 85,
   "id": "e33171d9",
   "metadata": {},
   "outputs": [
    {
     "name": "stdout",
     "output_type": "stream",
     "text": [
      "215     2.34\n",
      "174     0.00\n",
      "394     5.35\n",
      "20      6.41\n",
      "11     11.96\n",
      "       ...  \n",
      "380     9.64\n",
      "232    13.14\n",
      "105     5.55\n",
      "25     14.90\n",
      "225     6.68\n",
      "Name: Sales, Length: 80, dtype: float64\n"
     ]
    }
   ],
   "source": [
    "print(test[target])"
   ]
  },
  {
   "cell_type": "code",
   "execution_count": 86,
   "id": "52e58141",
   "metadata": {},
   "outputs": [],
   "source": [
    "##accuracy for the train and test"
   ]
  },
  {
   "cell_type": "code",
   "execution_count": 87,
   "id": "36b6317e",
   "metadata": {},
   "outputs": [],
   "source": [
    "acc = np.mean(model.predict(train[predictors]) == train[target])"
   ]
  },
  {
   "cell_type": "code",
   "execution_count": 88,
   "id": "54191093",
   "metadata": {},
   "outputs": [
    {
     "data": {
      "text/plain": [
       "0.00625"
      ]
     },
     "execution_count": 88,
     "metadata": {},
     "output_type": "execute_result"
    }
   ],
   "source": [
    "acc"
   ]
  },
  {
   "cell_type": "code",
   "execution_count": 89,
   "id": "78d482cc",
   "metadata": {},
   "outputs": [],
   "source": [
    "accuracy = np.mean(pd.Series(train[target]).reset_index(drop = True) == pd.Series(model.predict(train[predictors])))"
   ]
  },
  {
   "cell_type": "code",
   "execution_count": 90,
   "id": "1c105b2f",
   "metadata": {},
   "outputs": [
    {
     "data": {
      "text/plain": [
       "0.00625"
      ]
     },
     "execution_count": 90,
     "metadata": {},
     "output_type": "execute_result"
    }
   ],
   "source": [
    "accuracy"
   ]
  },
  {
   "cell_type": "code",
   "execution_count": 91,
   "id": "0848f01a",
   "metadata": {},
   "outputs": [
    {
     "data": {
      "text/plain": [
       "0.0"
      ]
     },
     "execution_count": 91,
     "metadata": {},
     "output_type": "execute_result"
    }
   ],
   "source": [
    "np.mean(test[target].reset_index(drop =True, inplace =True) == model.predict(test[predictors]))"
   ]
  },
  {
   "cell_type": "code",
   "execution_count": 92,
   "id": "6ee067fe",
   "metadata": {},
   "outputs": [],
   "source": [
    "original = (test[target])"
   ]
  },
  {
   "cell_type": "code",
   "execution_count": 93,
   "id": "e8cfc286",
   "metadata": {},
   "outputs": [],
   "source": [
    "predicted = pd.Series(model.predict(test[predictors]))"
   ]
  },
  {
   "cell_type": "code",
   "execution_count": 94,
   "id": "e377208c",
   "metadata": {},
   "outputs": [],
   "source": [
    "##both the programs related to the decision tree my accuracy is not getting Properly"
   ]
  },
  {
   "cell_type": "code",
   "execution_count": null,
   "id": "ede38133",
   "metadata": {},
   "outputs": [],
   "source": []
  }
 ],
 "metadata": {
  "_draft": {
   "nbviewer_url": "https://gist.github.com/b736ed85da492889d54521f4ef741e73"
  },
  "gist": {
   "data": {
    "description": "Company_Data.ipynb",
    "public": false
   },
   "id": "b736ed85da492889d54521f4ef741e73"
  },
  "kernelspec": {
   "display_name": "Python 3",
   "language": "python",
   "name": "python3"
  },
  "language_info": {
   "codemirror_mode": {
    "name": "ipython",
    "version": 3
   },
   "file_extension": ".py",
   "mimetype": "text/x-python",
   "name": "python",
   "nbconvert_exporter": "python",
   "pygments_lexer": "ipython3",
   "version": "3.8.8"
  }
 },
 "nbformat": 4,
 "nbformat_minor": 5
}
