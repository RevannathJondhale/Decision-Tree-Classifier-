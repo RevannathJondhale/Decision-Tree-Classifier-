{
 "cells": [
  {
   "cell_type": "code",
   "execution_count": 1,
   "id": "3c298b06",
   "metadata": {},
   "outputs": [],
   "source": [
    "## Revannath Assignment for the Fraud_check data"
   ]
  },
  {
   "cell_type": "code",
   "execution_count": 2,
   "id": "2527faa9",
   "metadata": {},
   "outputs": [],
   "source": [
    "## Now Import all required libraries as per the company data example"
   ]
  },
  {
   "cell_type": "code",
   "execution_count": 3,
   "id": "690007ec",
   "metadata": {},
   "outputs": [],
   "source": [
    "import pandas as pd"
   ]
  },
  {
   "cell_type": "code",
   "execution_count": 4,
   "id": "77fab33a",
   "metadata": {},
   "outputs": [],
   "source": [
    "import numpy as np"
   ]
  },
  {
   "cell_type": "code",
   "execution_count": 5,
   "id": "d3d19611",
   "metadata": {},
   "outputs": [],
   "source": [
    "import seaborn as sb"
   ]
  },
  {
   "cell_type": "code",
   "execution_count": 7,
   "id": "a141d50d",
   "metadata": {},
   "outputs": [],
   "source": [
    "import matplotlib.pyplot as plt"
   ]
  },
  {
   "cell_type": "code",
   "execution_count": 9,
   "id": "b2ee7957",
   "metadata": {},
   "outputs": [],
   "source": [
    "from sklearn import tree"
   ]
  },
  {
   "cell_type": "code",
   "execution_count": 10,
   "id": "3219fcaf",
   "metadata": {},
   "outputs": [],
   "source": [
    "from sklearn.model_selection import train_test_split"
   ]
  },
  {
   "cell_type": "code",
   "execution_count": 11,
   "id": "78b9efc6",
   "metadata": {},
   "outputs": [],
   "source": [
    "from sklearn.tree import DecisionTreeClassifier"
   ]
  },
  {
   "cell_type": "code",
   "execution_count": 12,
   "id": "a8fdfa07",
   "metadata": {},
   "outputs": [],
   "source": [
    "fraud_data= pd.read_csv('Fraud_check.csv')"
   ]
  },
  {
   "cell_type": "code",
   "execution_count": 13,
   "id": "db75442b",
   "metadata": {},
   "outputs": [
    {
     "data": {
      "text/html": [
       "<div>\n",
       "<style scoped>\n",
       "    .dataframe tbody tr th:only-of-type {\n",
       "        vertical-align: middle;\n",
       "    }\n",
       "\n",
       "    .dataframe tbody tr th {\n",
       "        vertical-align: top;\n",
       "    }\n",
       "\n",
       "    .dataframe thead th {\n",
       "        text-align: right;\n",
       "    }\n",
       "</style>\n",
       "<table border=\"1\" class=\"dataframe\">\n",
       "  <thead>\n",
       "    <tr style=\"text-align: right;\">\n",
       "      <th></th>\n",
       "      <th>Undergrad</th>\n",
       "      <th>Marital.Status</th>\n",
       "      <th>Taxable.Income</th>\n",
       "      <th>City.Population</th>\n",
       "      <th>Work.Experience</th>\n",
       "      <th>Urban</th>\n",
       "    </tr>\n",
       "  </thead>\n",
       "  <tbody>\n",
       "    <tr>\n",
       "      <th>0</th>\n",
       "      <td>NO</td>\n",
       "      <td>Single</td>\n",
       "      <td>68833</td>\n",
       "      <td>50047</td>\n",
       "      <td>10</td>\n",
       "      <td>YES</td>\n",
       "    </tr>\n",
       "    <tr>\n",
       "      <th>1</th>\n",
       "      <td>YES</td>\n",
       "      <td>Divorced</td>\n",
       "      <td>33700</td>\n",
       "      <td>134075</td>\n",
       "      <td>18</td>\n",
       "      <td>YES</td>\n",
       "    </tr>\n",
       "    <tr>\n",
       "      <th>2</th>\n",
       "      <td>NO</td>\n",
       "      <td>Married</td>\n",
       "      <td>36925</td>\n",
       "      <td>160205</td>\n",
       "      <td>30</td>\n",
       "      <td>YES</td>\n",
       "    </tr>\n",
       "    <tr>\n",
       "      <th>3</th>\n",
       "      <td>YES</td>\n",
       "      <td>Single</td>\n",
       "      <td>50190</td>\n",
       "      <td>193264</td>\n",
       "      <td>15</td>\n",
       "      <td>YES</td>\n",
       "    </tr>\n",
       "    <tr>\n",
       "      <th>4</th>\n",
       "      <td>NO</td>\n",
       "      <td>Married</td>\n",
       "      <td>81002</td>\n",
       "      <td>27533</td>\n",
       "      <td>28</td>\n",
       "      <td>NO</td>\n",
       "    </tr>\n",
       "    <tr>\n",
       "      <th>...</th>\n",
       "      <td>...</td>\n",
       "      <td>...</td>\n",
       "      <td>...</td>\n",
       "      <td>...</td>\n",
       "      <td>...</td>\n",
       "      <td>...</td>\n",
       "    </tr>\n",
       "    <tr>\n",
       "      <th>595</th>\n",
       "      <td>YES</td>\n",
       "      <td>Divorced</td>\n",
       "      <td>76340</td>\n",
       "      <td>39492</td>\n",
       "      <td>7</td>\n",
       "      <td>YES</td>\n",
       "    </tr>\n",
       "    <tr>\n",
       "      <th>596</th>\n",
       "      <td>YES</td>\n",
       "      <td>Divorced</td>\n",
       "      <td>69967</td>\n",
       "      <td>55369</td>\n",
       "      <td>2</td>\n",
       "      <td>YES</td>\n",
       "    </tr>\n",
       "    <tr>\n",
       "      <th>597</th>\n",
       "      <td>NO</td>\n",
       "      <td>Divorced</td>\n",
       "      <td>47334</td>\n",
       "      <td>154058</td>\n",
       "      <td>0</td>\n",
       "      <td>YES</td>\n",
       "    </tr>\n",
       "    <tr>\n",
       "      <th>598</th>\n",
       "      <td>YES</td>\n",
       "      <td>Married</td>\n",
       "      <td>98592</td>\n",
       "      <td>180083</td>\n",
       "      <td>17</td>\n",
       "      <td>NO</td>\n",
       "    </tr>\n",
       "    <tr>\n",
       "      <th>599</th>\n",
       "      <td>NO</td>\n",
       "      <td>Divorced</td>\n",
       "      <td>96519</td>\n",
       "      <td>158137</td>\n",
       "      <td>16</td>\n",
       "      <td>NO</td>\n",
       "    </tr>\n",
       "  </tbody>\n",
       "</table>\n",
       "<p>600 rows × 6 columns</p>\n",
       "</div>"
      ],
      "text/plain": [
       "    Undergrad Marital.Status  Taxable.Income  City.Population  \\\n",
       "0          NO         Single           68833            50047   \n",
       "1         YES       Divorced           33700           134075   \n",
       "2          NO        Married           36925           160205   \n",
       "3         YES         Single           50190           193264   \n",
       "4          NO        Married           81002            27533   \n",
       "..        ...            ...             ...              ...   \n",
       "595       YES       Divorced           76340            39492   \n",
       "596       YES       Divorced           69967            55369   \n",
       "597        NO       Divorced           47334           154058   \n",
       "598       YES        Married           98592           180083   \n",
       "599        NO       Divorced           96519           158137   \n",
       "\n",
       "     Work.Experience Urban  \n",
       "0                 10   YES  \n",
       "1                 18   YES  \n",
       "2                 30   YES  \n",
       "3                 15   YES  \n",
       "4                 28    NO  \n",
       "..               ...   ...  \n",
       "595                7   YES  \n",
       "596                2   YES  \n",
       "597                0   YES  \n",
       "598               17    NO  \n",
       "599               16    NO  \n",
       "\n",
       "[600 rows x 6 columns]"
      ]
     },
     "execution_count": 13,
     "metadata": {},
     "output_type": "execute_result"
    }
   ],
   "source": [
    "fraud_data"
   ]
  },
  {
   "cell_type": "code",
   "execution_count": 14,
   "id": "94710658",
   "metadata": {},
   "outputs": [
    {
     "data": {
      "text/html": [
       "<div>\n",
       "<style scoped>\n",
       "    .dataframe tbody tr th:only-of-type {\n",
       "        vertical-align: middle;\n",
       "    }\n",
       "\n",
       "    .dataframe tbody tr th {\n",
       "        vertical-align: top;\n",
       "    }\n",
       "\n",
       "    .dataframe thead th {\n",
       "        text-align: right;\n",
       "    }\n",
       "</style>\n",
       "<table border=\"1\" class=\"dataframe\">\n",
       "  <thead>\n",
       "    <tr style=\"text-align: right;\">\n",
       "      <th></th>\n",
       "      <th>Undergrad</th>\n",
       "      <th>Marital.Status</th>\n",
       "      <th>Taxable.Income</th>\n",
       "      <th>City.Population</th>\n",
       "      <th>Work.Experience</th>\n",
       "      <th>Urban</th>\n",
       "    </tr>\n",
       "  </thead>\n",
       "  <tbody>\n",
       "    <tr>\n",
       "      <th>0</th>\n",
       "      <td>NO</td>\n",
       "      <td>Single</td>\n",
       "      <td>68833</td>\n",
       "      <td>50047</td>\n",
       "      <td>10</td>\n",
       "      <td>YES</td>\n",
       "    </tr>\n",
       "    <tr>\n",
       "      <th>1</th>\n",
       "      <td>YES</td>\n",
       "      <td>Divorced</td>\n",
       "      <td>33700</td>\n",
       "      <td>134075</td>\n",
       "      <td>18</td>\n",
       "      <td>YES</td>\n",
       "    </tr>\n",
       "    <tr>\n",
       "      <th>2</th>\n",
       "      <td>NO</td>\n",
       "      <td>Married</td>\n",
       "      <td>36925</td>\n",
       "      <td>160205</td>\n",
       "      <td>30</td>\n",
       "      <td>YES</td>\n",
       "    </tr>\n",
       "    <tr>\n",
       "      <th>3</th>\n",
       "      <td>YES</td>\n",
       "      <td>Single</td>\n",
       "      <td>50190</td>\n",
       "      <td>193264</td>\n",
       "      <td>15</td>\n",
       "      <td>YES</td>\n",
       "    </tr>\n",
       "    <tr>\n",
       "      <th>4</th>\n",
       "      <td>NO</td>\n",
       "      <td>Married</td>\n",
       "      <td>81002</td>\n",
       "      <td>27533</td>\n",
       "      <td>28</td>\n",
       "      <td>NO</td>\n",
       "    </tr>\n",
       "  </tbody>\n",
       "</table>\n",
       "</div>"
      ],
      "text/plain": [
       "  Undergrad Marital.Status  Taxable.Income  City.Population  Work.Experience  \\\n",
       "0        NO         Single           68833            50047               10   \n",
       "1       YES       Divorced           33700           134075               18   \n",
       "2        NO        Married           36925           160205               30   \n",
       "3       YES         Single           50190           193264               15   \n",
       "4        NO        Married           81002            27533               28   \n",
       "\n",
       "  Urban  \n",
       "0   YES  \n",
       "1   YES  \n",
       "2   YES  \n",
       "3   YES  \n",
       "4    NO  "
      ]
     },
     "execution_count": 14,
     "metadata": {},
     "output_type": "execute_result"
    }
   ],
   "source": [
    "fraud_data.head()"
   ]
  },
  {
   "cell_type": "code",
   "execution_count": 15,
   "id": "768ee400",
   "metadata": {},
   "outputs": [
    {
     "name": "stdout",
     "output_type": "stream",
     "text": [
      "<class 'pandas.core.frame.DataFrame'>\n",
      "RangeIndex: 600 entries, 0 to 599\n",
      "Data columns (total 6 columns):\n",
      " #   Column           Non-Null Count  Dtype \n",
      "---  ------           --------------  ----- \n",
      " 0   Undergrad        600 non-null    object\n",
      " 1   Marital.Status   600 non-null    object\n",
      " 2   Taxable.Income   600 non-null    int64 \n",
      " 3   City.Population  600 non-null    int64 \n",
      " 4   Work.Experience  600 non-null    int64 \n",
      " 5   Urban            600 non-null    object\n",
      "dtypes: int64(3), object(3)\n",
      "memory usage: 28.2+ KB\n"
     ]
    }
   ],
   "source": [
    "fraud_data.info()"
   ]
  },
  {
   "cell_type": "code",
   "execution_count": 16,
   "id": "6b47e7c3",
   "metadata": {},
   "outputs": [],
   "source": [
    "## cheking all null values##"
   ]
  },
  {
   "cell_type": "code",
   "execution_count": 17,
   "id": "6dec57dd",
   "metadata": {},
   "outputs": [],
   "source": [
    "null = fraud_data.isnull().any(axis = 1)"
   ]
  },
  {
   "cell_type": "code",
   "execution_count": 18,
   "id": "84c66b2d",
   "metadata": {},
   "outputs": [
    {
     "data": {
      "text/plain": [
       "count       600\n",
       "unique        1\n",
       "top       False\n",
       "freq        600\n",
       "dtype: object"
      ]
     },
     "execution_count": 18,
     "metadata": {},
     "output_type": "execute_result"
    }
   ],
   "source": [
    "null.describe()"
   ]
  },
  {
   "cell_type": "code",
   "execution_count": 19,
   "id": "b08b18db",
   "metadata": {},
   "outputs": [],
   "source": [
    "#Showing there are no null values present in the dataframe"
   ]
  },
  {
   "cell_type": "code",
   "execution_count": 20,
   "id": "73eb8a74",
   "metadata": {},
   "outputs": [
    {
     "data": {
      "text/plain": [
       "Index(['Undergrad', 'Marital.Status', 'Taxable.Income', 'City.Population',\n",
       "       'Work.Experience', 'Urban'],\n",
       "      dtype='object')"
      ]
     },
     "execution_count": 20,
     "metadata": {},
     "output_type": "execute_result"
    }
   ],
   "source": [
    "fraud_data.columns"
   ]
  },
  {
   "cell_type": "code",
   "execution_count": 21,
   "id": "cebe43e1",
   "metadata": {},
   "outputs": [],
   "source": [
    "## now we going to change the vale for DOT because of code weill not runn properly"
   ]
  },
  {
   "cell_type": "code",
   "execution_count": 22,
   "id": "0d5257f1",
   "metadata": {},
   "outputs": [],
   "source": [
    "fraud_data.rename(columns={'Marital.Status':'Marital_Status', 'Taxable.Income':'Taxable_Income', 'City.Population':'City_Population', 'Work.Experience':'Work_Experience'},inplace= True)"
   ]
  },
  {
   "cell_type": "code",
   "execution_count": 23,
   "id": "03177297",
   "metadata": {},
   "outputs": [],
   "source": [
    "##will insert a column at the 0th position"
   ]
  },
  {
   "cell_type": "code",
   "execution_count": 24,
   "id": "c569df6c",
   "metadata": {},
   "outputs": [],
   "source": [
    "fraud_data.insert(0,\"output\",str)"
   ]
  },
  {
   "cell_type": "code",
   "execution_count": 25,
   "id": "693b054f",
   "metadata": {},
   "outputs": [],
   "source": [
    "#y = fraud_data.iloc[:,2]\n",
    "#type(y)"
   ]
  },
  {
   "cell_type": "code",
   "execution_count": 26,
   "id": "3c97224f",
   "metadata": {},
   "outputs": [],
   "source": [
    "fraud_data.loc[fraud_data.Taxable_Income<=30000,\"output\"] = \"Risky\""
   ]
  },
  {
   "cell_type": "code",
   "execution_count": 27,
   "id": "f3af7e6c",
   "metadata": {},
   "outputs": [],
   "source": [
    "fraud_data.loc[fraud_data.Taxable_Income>30000,\"output\"] = \"Good\""
   ]
  },
  {
   "cell_type": "code",
   "execution_count": 28,
   "id": "20d7b28e",
   "metadata": {},
   "outputs": [
    {
     "data": {
      "text/plain": [
       "count      600\n",
       "unique       2\n",
       "top       Good\n",
       "freq       476\n",
       "Name: output, dtype: object"
      ]
     },
     "execution_count": 28,
     "metadata": {},
     "output_type": "execute_result"
    }
   ],
   "source": [
    "fraud_data['output'].describe()"
   ]
  },
  {
   "cell_type": "code",
   "execution_count": 29,
   "id": "b956c689",
   "metadata": {},
   "outputs": [
    {
     "data": {
      "text/plain": [
       "pandas.core.series.Series"
      ]
     },
     "execution_count": 29,
     "metadata": {},
     "output_type": "execute_result"
    }
   ],
   "source": [
    "type(fraud_data.output)"
   ]
  },
  {
   "cell_type": "code",
   "execution_count": 31,
   "id": "a9638c5f",
   "metadata": {},
   "outputs": [],
   "source": [
    "##then cheking all null value repeataly "
   ]
  },
  {
   "cell_type": "code",
   "execution_count": 32,
   "id": "94ec82d3",
   "metadata": {},
   "outputs": [
    {
     "data": {
      "text/html": [
       "<div>\n",
       "<style scoped>\n",
       "    .dataframe tbody tr th:only-of-type {\n",
       "        vertical-align: middle;\n",
       "    }\n",
       "\n",
       "    .dataframe tbody tr th {\n",
       "        vertical-align: top;\n",
       "    }\n",
       "\n",
       "    .dataframe thead th {\n",
       "        text-align: right;\n",
       "    }\n",
       "</style>\n",
       "<table border=\"1\" class=\"dataframe\">\n",
       "  <thead>\n",
       "    <tr style=\"text-align: right;\">\n",
       "      <th></th>\n",
       "      <th>output</th>\n",
       "      <th>Undergrad</th>\n",
       "      <th>Marital_Status</th>\n",
       "      <th>Taxable_Income</th>\n",
       "      <th>City_Population</th>\n",
       "      <th>Work_Experience</th>\n",
       "      <th>Urban</th>\n",
       "    </tr>\n",
       "  </thead>\n",
       "  <tbody>\n",
       "  </tbody>\n",
       "</table>\n",
       "</div>"
      ],
      "text/plain": [
       "Empty DataFrame\n",
       "Columns: [output, Undergrad, Marital_Status, Taxable_Income, City_Population, Work_Experience, Urban]\n",
       "Index: []"
      ]
     },
     "execution_count": 32,
     "metadata": {},
     "output_type": "execute_result"
    }
   ],
   "source": [
    "fraud_data[fraud_data.isnull().any(axis = 1)]"
   ]
  },
  {
   "cell_type": "code",
   "execution_count": 33,
   "id": "42035d0d",
   "metadata": {},
   "outputs": [],
   "source": [
    "# There are no null values in the data."
   ]
  },
  {
   "cell_type": "code",
   "execution_count": 35,
   "id": "2d313444",
   "metadata": {},
   "outputs": [
    {
     "name": "stdout",
     "output_type": "stream",
     "text": [
      "<class 'pandas.core.frame.DataFrame'>\n",
      "RangeIndex: 600 entries, 0 to 599\n",
      "Data columns (total 7 columns):\n",
      " #   Column           Non-Null Count  Dtype \n",
      "---  ------           --------------  ----- \n",
      " 0   output           600 non-null    object\n",
      " 1   Undergrad        600 non-null    object\n",
      " 2   Marital_Status   600 non-null    object\n",
      " 3   Taxable_Income   600 non-null    int64 \n",
      " 4   City_Population  600 non-null    int64 \n",
      " 5   Work_Experience  600 non-null    int64 \n",
      " 6   Urban            600 non-null    object\n",
      "dtypes: int64(3), object(4)\n",
      "memory usage: 32.9+ KB\n",
      "None\n"
     ]
    }
   ],
   "source": [
    "print(fraud_data.info())"
   ]
  },
  {
   "cell_type": "code",
   "execution_count": 36,
   "id": "10062617",
   "metadata": {},
   "outputs": [
    {
     "name": "stdout",
     "output_type": "stream",
     "text": [
      "<class 'pandas.core.frame.DataFrame'>\n",
      "RangeIndex: 600 entries, 0 to 599\n",
      "Data columns (total 7 columns):\n",
      " #   Column           Non-Null Count  Dtype \n",
      "---  ------           --------------  ----- \n",
      " 0   output           600 non-null    object\n",
      " 1   Undergrad        600 non-null    object\n",
      " 2   Marital_Status   600 non-null    object\n",
      " 3   Taxable_Income   600 non-null    int64 \n",
      " 4   City_Population  600 non-null    int64 \n",
      " 5   Work_Experience  600 non-null    int64 \n",
      " 6   Urban            600 non-null    object\n",
      "dtypes: int64(3), object(4)\n",
      "memory usage: 32.9+ KB\n",
      "None\n"
     ]
    }
   ],
   "source": [
    "print(fraud_data.info())"
   ]
  },
  {
   "cell_type": "code",
   "execution_count": 37,
   "id": "4ece127d",
   "metadata": {},
   "outputs": [
    {
     "name": "stderr",
     "output_type": "stream",
     "text": [
      "C:\\Users\\hp\\anaconda3\\lib\\site-packages\\seaborn\\_decorators.py:36: FutureWarning: Pass the following variable as a keyword arg: x. From version 0.12, the only valid positional argument will be `data`, and passing other arguments without an explicit keyword will result in an error or misinterpretation.\n",
      "  warnings.warn(\n"
     ]
    },
    {
     "data": {
      "text/plain": [
       "<AxesSubplot:xlabel='City_Population'>"
      ]
     },
     "execution_count": 37,
     "metadata": {},
     "output_type": "execute_result"
    },
    {
     "data": {
      "image/png": "[encoded data removed]",
      "text/plain": [
       "<Figure size 432x288 with 1 Axes>"
      ]
     },
     "metadata": {
      "needs_background": "light"
     },
     "output_type": "display_data"
    }
   ],
   "source": [
    "sb.boxplot(fraud_data.City_Population)##cheking for model building "
   ]
  },
  {
   "cell_type": "code",
   "execution_count": 38,
   "id": "0f326d41",
   "metadata": {},
   "outputs": [
    {
     "name": "stderr",
     "output_type": "stream",
     "text": [
      "C:\\Users\\hp\\anaconda3\\lib\\site-packages\\seaborn\\_decorators.py:36: FutureWarning: Pass the following variable as a keyword arg: x. From version 0.12, the only valid positional argument will be `data`, and passing other arguments without an explicit keyword will result in an error or misinterpretation.\n",
      "  warnings.warn(\n"
     ]
    },
    {
     "data": {
      "text/plain": [
       "<AxesSubplot:xlabel='Work_Experience'>"
      ]
     },
     "execution_count": 38,
     "metadata": {},
     "output_type": "execute_result"
    },
    {
     "data": {
      "image/png": "[encoded data removed]",
      "text/plain": [
       "<Figure size 432x288 with 1 Axes>"
      ]
     },
     "metadata": {
      "needs_background": "light"
     },
     "output_type": "display_data"
    }
   ],
   "source": [
    "sb.boxplot(fraud_data.Work_Experience)"
   ]
  },
  {
   "cell_type": "code",
   "execution_count": 39,
   "id": "2ab6a520",
   "metadata": {},
   "outputs": [],
   "source": [
    "## there are no outliers in the numerical data "
   ]
  },
  {
   "cell_type": "code",
   "execution_count": 40,
   "id": "08f80560",
   "metadata": {},
   "outputs": [],
   "source": [
    "##will plot some graphs for the remaining data"
   ]
  },
  {
   "cell_type": "code",
   "execution_count": 41,
   "id": "6c4a775d",
   "metadata": {},
   "outputs": [
    {
     "data": {
      "text/plain": [
       "Index(['output', 'Undergrad', 'Marital_Status', 'Taxable_Income',\n",
       "       'City_Population', 'Work_Experience', 'Urban'],\n",
       "      dtype='object')"
      ]
     },
     "execution_count": 41,
     "metadata": {},
     "output_type": "execute_result"
    }
   ],
   "source": [
    "fraud_data.columns"
   ]
  },
  {
   "cell_type": "code",
   "execution_count": 42,
   "id": "2b708ada",
   "metadata": {},
   "outputs": [
    {
     "data": {
      "image/png": "[encoded data removed]",
      "text/plain": [
       "<Figure size 432x288 with 1 Axes>"
      ]
     },
     "metadata": {
      "needs_background": "light"
     },
     "output_type": "display_data"
    }
   ],
   "source": [
    "graph1 = sb.countplot(x = 'Undergrad', data = fraud_data,palette = 'hls')"
   ]
  },
  {
   "cell_type": "code",
   "execution_count": 43,
   "id": "a71e5a7a",
   "metadata": {},
   "outputs": [
    {
     "data": {
      "image/png": "[encoded data removed]",
      "text/plain": [
       "<Figure size 432x288 with 1 Axes>"
      ]
     },
     "metadata": {
      "needs_background": "light"
     },
     "output_type": "display_data"
    }
   ],
   "source": [
    "graph2 = sb.countplot(x = 'Marital_Status', data = fraud_data, palette = 'hls')"
   ]
  },
  {
   "cell_type": "code",
   "execution_count": 44,
   "id": "9815f061",
   "metadata": {},
   "outputs": [
    {
     "data": {
      "image/png": "[encoded data removed]",
      "text/plain": [
       "<Figure size 432x288 with 1 Axes>"
      ]
     },
     "metadata": {
      "needs_background": "light"
     },
     "output_type": "display_data"
    }
   ],
   "source": [
    "graph2 = sb.countplot(x = 'Urban', data = fraud_data, palette = 'hls')"
   ]
  },
  {
   "cell_type": "code",
   "execution_count": 45,
   "id": "e8c22c54",
   "metadata": {},
   "outputs": [],
   "source": [
    "## now we can also plot the bar against the output"
   ]
  },
  {
   "cell_type": "code",
   "execution_count": 46,
   "id": "da17fe23",
   "metadata": {},
   "outputs": [
    {
     "data": {
      "text/plain": [
       "<AxesSubplot:xlabel='Marital_Status'>"
      ]
     },
     "execution_count": 46,
     "metadata": {},
     "output_type": "execute_result"
    },
    {
     "data": {
      "image/png": "[encoded data removed]",
      "text/plain": [
       "<Figure size 432x288 with 1 Axes>"
      ]
     },
     "metadata": {
      "needs_background": "light"
     },
     "output_type": "display_data"
    }
   ],
   "source": [
    "pd.crosstab(fraud_data.Marital_Status,fraud_data.output).plot(kind = 'bar')"
   ]
  },
  {
   "cell_type": "code",
   "execution_count": 47,
   "id": "862dfdbf",
   "metadata": {},
   "outputs": [
    {
     "data": {
      "text/plain": [
       "<AxesSubplot:xlabel='output'>"
      ]
     },
     "execution_count": 47,
     "metadata": {},
     "output_type": "execute_result"
    },
    {
     "data": {
      "image/png": "[encoded data removed]",
      "text/plain": [
       "<Figure size 432x288 with 1 Axes>"
      ]
     },
     "metadata": {
      "needs_background": "light"
     },
     "output_type": "display_data"
    }
   ],
   "source": [
    "pd.crosstab(fraud_data.output,fraud_data.Undergrad).plot(kind = 'bar')"
   ]
  },
  {
   "cell_type": "code",
   "execution_count": 48,
   "id": "14613c2c",
   "metadata": {},
   "outputs": [
    {
     "data": {
      "text/plain": [
       "<AxesSubplot:xlabel='Urban'>"
      ]
     },
     "execution_count": 48,
     "metadata": {},
     "output_type": "execute_result"
    },
    {
     "data": {
      "image/png": "[encoded data removed]",
      "text/plain": [
       "<Figure size 432x288 with 1 Axes>"
      ]
     },
     "metadata": {
      "needs_background": "light"
     },
     "output_type": "display_data"
    }
   ],
   "source": [
    "pd.crosstab(fraud_data.Urban,fraud_data.output).plot(kind = 'bar')"
   ]
  },
  {
   "cell_type": "code",
   "execution_count": 49,
   "id": "f0683898",
   "metadata": {},
   "outputs": [],
   "source": [
    "## Now the above visual looking good and we are going to fine with data and now manage the data in proper way"
   ]
  },
  {
   "cell_type": "code",
   "execution_count": 50,
   "id": "13a9ab23",
   "metadata": {},
   "outputs": [
    {
     "data": {
      "text/plain": [
       "YES    312\n",
       "NO     288\n",
       "Name: Undergrad, dtype: int64"
      ]
     },
     "execution_count": 50,
     "metadata": {},
     "output_type": "execute_result"
    }
   ],
   "source": [
    "fraud_data[\"Undergrad\"].value_counts()"
   ]
  },
  {
   "cell_type": "code",
   "execution_count": 51,
   "id": "b39159dd",
   "metadata": {},
   "outputs": [
    {
     "data": {
      "text/plain": [
       "Single      217\n",
       "Married     194\n",
       "Divorced    189\n",
       "Name: Marital_Status, dtype: int64"
      ]
     },
     "execution_count": 51,
     "metadata": {},
     "output_type": "execute_result"
    }
   ],
   "source": [
    "fraud_data[\"Marital_Status\"].value_counts()"
   ]
  },
  {
   "cell_type": "code",
   "execution_count": 52,
   "id": "39a11b8f",
   "metadata": {},
   "outputs": [
    {
     "data": {
      "text/plain": [
       "YES    302\n",
       "NO     298\n",
       "Name: Urban, dtype: int64"
      ]
     },
     "execution_count": 52,
     "metadata": {},
     "output_type": "execute_result"
    }
   ],
   "source": [
    "fraud_data[\"Urban\"].value_counts()"
   ]
  },
  {
   "cell_type": "code",
   "execution_count": 53,
   "id": "30ef75c2",
   "metadata": {},
   "outputs": [
    {
     "data": {
      "text/plain": [
       "Good     476\n",
       "Risky    124\n",
       "Name: output, dtype: int64"
      ]
     },
     "execution_count": 53,
     "metadata": {},
     "output_type": "execute_result"
    }
   ],
   "source": [
    "fraud_data[\"output\"].value_counts()"
   ]
  },
  {
   "cell_type": "code",
   "execution_count": 54,
   "id": "e60b27f6",
   "metadata": {},
   "outputs": [],
   "source": [
    "val_replace = {\"Undergrad\" : {\"YES\":1,\"NO\":0}, \"Marital_Status\" : {\"Single\":1, \"Married\":2, \"Divorced\":3},\n",
    "               \"Urban\" : {\"YES\":1,\"NO\":0}, \"output\" : {\"Good\": 1, \"Risky\": 0}}"
   ]
  },
  {
   "cell_type": "code",
   "execution_count": 55,
   "id": "b8bc11c4",
   "metadata": {},
   "outputs": [],
   "source": [
    "x = fraud_data.replace(val_replace).copy()"
   ]
  },
  {
   "cell_type": "code",
   "execution_count": 56,
   "id": "cb8d6af5",
   "metadata": {},
   "outputs": [],
   "source": [
    "x.drop(\"Taxable_Income\",axis = 1, inplace = True)"
   ]
  },
  {
   "cell_type": "code",
   "execution_count": 57,
   "id": "cefec46d",
   "metadata": {},
   "outputs": [],
   "source": [
    "## we going to remove the tax columns which not much useful for our assignment"
   ]
  },
  {
   "cell_type": "code",
   "execution_count": 58,
   "id": "c6f812cf",
   "metadata": {},
   "outputs": [],
   "source": [
    "colnames = list(x.columns)"
   ]
  },
  {
   "cell_type": "code",
   "execution_count": 59,
   "id": "f31b9c50",
   "metadata": {},
   "outputs": [],
   "source": [
    "predictors = colnames[1:]"
   ]
  },
  {
   "cell_type": "code",
   "execution_count": 60,
   "id": "7f67d1a4",
   "metadata": {},
   "outputs": [],
   "source": [
    "target = colnames[0]"
   ]
  },
  {
   "cell_type": "code",
   "execution_count": 63,
   "id": "2124f4aa",
   "metadata": {},
   "outputs": [],
   "source": [
    "## now for train and test"
   ]
  },
  {
   "cell_type": "code",
   "execution_count": 64,
   "id": "e14da180",
   "metadata": {},
   "outputs": [],
   "source": [
    "train,test = train_test_split(x,test_size = 0.2)"
   ]
  },
  {
   "cell_type": "code",
   "execution_count": 66,
   "id": "44030dd0",
   "metadata": {},
   "outputs": [],
   "source": [
    "model = DecisionTreeClassifier(criterion = 'entropy')## Entropy"
   ]
  },
  {
   "cell_type": "code",
   "execution_count": 67,
   "id": "e460b97e",
   "metadata": {},
   "outputs": [],
   "source": [
    "##fitting data to our model"
   ]
  },
  {
   "cell_type": "code",
   "execution_count": 68,
   "id": "4a3dd364",
   "metadata": {},
   "outputs": [
    {
     "data": {
      "text/plain": [
       "DecisionTreeClassifier(criterion='entropy')"
      ]
     },
     "execution_count": 68,
     "metadata": {},
     "output_type": "execute_result"
    }
   ],
   "source": [
    "model.fit(train[predictors],train[target].astype(int))"
   ]
  },
  {
   "cell_type": "code",
   "execution_count": 69,
   "id": "8808a10b",
   "metadata": {},
   "outputs": [],
   "source": [
    "fitted_model = model.fit(train[predictors],train[target].astype(int))"
   ]
  },
  {
   "cell_type": "code",
   "execution_count": 70,
   "id": "c7b72662",
   "metadata": {},
   "outputs": [],
   "source": [
    "## will predict the data on the base of above "
   ]
  },
  {
   "cell_type": "code",
   "execution_count": 71,
   "id": "c82cba56",
   "metadata": {},
   "outputs": [
    {
     "data": {
      "text/plain": [
       "array([1, 0, 1, 1, 0, 1, 0, 0, 1, 1, 1, 1, 1, 1, 1, 1, 1, 1, 1, 1, 1, 0,\n",
       "       0, 0, 1, 1, 1, 1, 0, 1, 1, 1, 1, 1, 1, 1, 1, 1, 1, 1, 1, 1, 1, 0,\n",
       "       0, 1, 1, 1, 1, 1, 1, 0, 1, 1, 0, 1, 1, 1, 1, 0, 0, 1, 1, 1, 1, 1,\n",
       "       1, 1, 0, 1, 1, 1, 0, 1, 1, 1, 1, 1, 1, 1, 0, 1, 1, 1, 1, 1, 1, 1,\n",
       "       1, 0, 0, 0, 1, 1, 1, 1, 0, 1, 1, 1, 1, 0, 1, 1, 1, 1, 1, 1, 1, 1,\n",
       "       1, 1, 0, 1, 1, 1, 0, 0, 1, 1])"
      ]
     },
     "execution_count": 71,
     "metadata": {},
     "output_type": "execute_result"
    }
   ],
   "source": [
    "model.predict(test[predictors])"
   ]
  },
  {
   "cell_type": "code",
   "execution_count": 72,
   "id": "b0b2e0b9",
   "metadata": {},
   "outputs": [],
   "source": [
    "pred = pd.Series(model.predict(test[predictors]))"
   ]
  },
  {
   "cell_type": "code",
   "execution_count": 73,
   "id": "bc8aae9e",
   "metadata": {},
   "outputs": [],
   "source": [
    "##lets try to polt the decision tree"
   ]
  },
  {
   "cell_type": "code",
   "execution_count": 74,
   "id": "81175610",
   "metadata": {},
   "outputs": [
    {
     "data": {
      "text/plain": [
       "[Text(158.33778409090908, 212.71304347826086, 'X[3] <= 6.5\\nentropy = 0.73\\nsamples = 480\\nvalue = [98, 382]'),\n",
       " Text(34.663636363636364, 203.2591304347826, 'X[3] <= 5.5\\nentropy = 0.595\\nsamples = 97\\nvalue = [14, 83]'),\n",
       " Text(31.28181818181818, 193.80521739130435, 'X[1] <= 1.5\\nentropy = 0.664\\nsamples = 81\\nvalue = [14, 67]'),\n",
       " Text(10.145454545454545, 184.3513043478261, 'X[2] <= 135447.5\\nentropy = 0.371\\nsamples = 28\\nvalue = [2, 26]'),\n",
       " Text(6.763636363636364, 174.89739130434782, 'entropy = 0.0\\nsamples = 21\\nvalue = [0, 21]'),\n",
       " Text(13.527272727272727, 174.89739130434782, 'X[0] <= 0.5\\nentropy = 0.863\\nsamples = 7\\nvalue = [2, 5]'),\n",
       " Text(10.145454545454545, 165.44347826086957, 'X[3] <= 2.0\\nentropy = 0.918\\nsamples = 3\\nvalue = [2, 1]'),\n",
       " Text(6.763636363636364, 155.98956521739132, 'entropy = 0.0\\nsamples = 1\\nvalue = [0, 1]'),\n",
       " Text(13.527272727272727, 155.98956521739132, 'entropy = 0.0\\nsamples = 2\\nvalue = [2, 0]'),\n",
       " Text(16.90909090909091, 165.44347826086957, 'entropy = 0.0\\nsamples = 4\\nvalue = [0, 4]'),\n",
       " Text(52.41818181818182, 184.3513043478261, 'X[3] <= 4.5\\nentropy = 0.772\\nsamples = 53\\nvalue = [12, 41]'),\n",
       " Text(40.58181818181818, 174.89739130434782, 'X[3] <= 2.5\\nentropy = 0.839\\nsamples = 41\\nvalue = [11, 30]'),\n",
       " Text(27.054545454545455, 165.44347826086957, 'X[3] <= 1.5\\nentropy = 0.722\\nsamples = 25\\nvalue = [5, 20]'),\n",
       " Text(20.29090909090909, 155.98956521739132, 'X[2] <= 168912.5\\nentropy = 0.837\\nsamples = 15\\nvalue = [4, 11]'),\n",
       " Text(16.90909090909091, 146.53565217391304, 'X[2] <= 113016.5\\nentropy = 0.75\\nsamples = 14\\nvalue = [3, 11]'),\n",
       " Text(13.527272727272727, 137.08173913043478, 'X[2] <= 101222.0\\nentropy = 0.918\\nsamples = 9\\nvalue = [3, 6]'),\n",
       " Text(10.145454545454545, 127.62782608695652, 'X[0] <= 0.5\\nentropy = 0.811\\nsamples = 8\\nvalue = [2, 6]'),\n",
       " Text(6.763636363636364, 118.17391304347825, 'X[2] <= 31559.0\\nentropy = 0.971\\nsamples = 5\\nvalue = [2, 3]'),\n",
       " Text(3.381818181818182, 108.72, 'entropy = 0.0\\nsamples = 2\\nvalue = [0, 2]'),\n",
       " Text(10.145454545454545, 108.72, 'X[2] <= 43212.0\\nentropy = 0.918\\nsamples = 3\\nvalue = [2, 1]'),\n",
       " Text(6.763636363636364, 99.26608695652173, 'entropy = 0.0\\nsamples = 1\\nvalue = [1, 0]'),\n",
       " Text(13.527272727272727, 99.26608695652173, 'X[2] <= 67115.5\\nentropy = 1.0\\nsamples = 2\\nvalue = [1, 1]'),\n",
       " Text(10.145454545454545, 89.81217391304348, 'entropy = 0.0\\nsamples = 1\\nvalue = [0, 1]'),\n",
       " Text(16.90909090909091, 89.81217391304348, 'entropy = 0.0\\nsamples = 1\\nvalue = [1, 0]'),\n",
       " Text(13.527272727272727, 118.17391304347825, 'entropy = 0.0\\nsamples = 3\\nvalue = [0, 3]'),\n",
       " Text(16.90909090909091, 127.62782608695652, 'entropy = 0.0\\nsamples = 1\\nvalue = [1, 0]'),\n",
       " Text(20.29090909090909, 137.08173913043478, 'entropy = 0.0\\nsamples = 5\\nvalue = [0, 5]'),\n",
       " Text(23.672727272727272, 146.53565217391304, 'entropy = 0.0\\nsamples = 1\\nvalue = [1, 0]'),\n",
       " Text(33.81818181818182, 155.98956521739132, 'X[2] <= 66115.0\\nentropy = 0.469\\nsamples = 10\\nvalue = [1, 9]'),\n",
       " Text(30.436363636363637, 146.53565217391304, 'X[2] <= 59719.5\\nentropy = 1.0\\nsamples = 2\\nvalue = [1, 1]'),\n",
       " Text(27.054545454545455, 137.08173913043478, 'entropy = 0.0\\nsamples = 1\\nvalue = [0, 1]'),\n",
       " Text(33.81818181818182, 137.08173913043478, 'entropy = 0.0\\nsamples = 1\\nvalue = [1, 0]'),\n",
       " Text(37.2, 146.53565217391304, 'entropy = 0.0\\nsamples = 8\\nvalue = [0, 8]'),\n",
       " Text(54.10909090909091, 165.44347826086957, 'X[1] <= 2.5\\nentropy = 0.954\\nsamples = 16\\nvalue = [6, 10]'),\n",
       " Text(47.345454545454544, 155.98956521739132, 'X[2] <= 163763.5\\nentropy = 0.918\\nsamples = 6\\nvalue = [4, 2]'),\n",
       " Text(43.96363636363636, 146.53565217391304, 'entropy = 0.0\\nsamples = 4\\nvalue = [4, 0]'),\n",
       " Text(50.72727272727273, 146.53565217391304, 'entropy = 0.0\\nsamples = 2\\nvalue = [0, 2]'),\n",
       " Text(60.872727272727275, 155.98956521739132, 'X[2] <= 176539.5\\nentropy = 0.722\\nsamples = 10\\nvalue = [2, 8]'),\n",
       " Text(57.49090909090909, 146.53565217391304, 'X[2] <= 100703.0\\nentropy = 0.503\\nsamples = 9\\nvalue = [1, 8]'),\n",
       " Text(54.10909090909091, 137.08173913043478, 'X[2] <= 85268.0\\nentropy = 0.918\\nsamples = 3\\nvalue = [1, 2]'),\n",
       " Text(50.72727272727273, 127.62782608695652, 'entropy = 0.0\\nsamples = 2\\nvalue = [0, 2]'),\n",
       " Text(57.49090909090909, 127.62782608695652, 'entropy = 0.0\\nsamples = 1\\nvalue = [1, 0]'),\n",
       " Text(60.872727272727275, 137.08173913043478, 'entropy = 0.0\\nsamples = 6\\nvalue = [0, 6]'),\n",
       " Text(64.25454545454545, 146.53565217391304, 'entropy = 0.0\\nsamples = 1\\nvalue = [1, 0]'),\n",
       " Text(64.25454545454545, 174.89739130434782, 'X[2] <= 193154.0\\nentropy = 0.414\\nsamples = 12\\nvalue = [1, 11]'),\n",
       " Text(60.872727272727275, 165.44347826086957, 'entropy = 0.0\\nsamples = 11\\nvalue = [0, 11]'),\n",
       " Text(67.63636363636364, 165.44347826086957, 'entropy = 0.0\\nsamples = 1\\nvalue = [1, 0]'),\n",
       " Text(38.04545454545455, 193.80521739130435, 'entropy = 0.0\\nsamples = 16\\nvalue = [0, 16]'),\n",
       " Text(282.01193181818184, 203.2591304347826, 'X[3] <= 24.5\\nentropy = 0.759\\nsamples = 383\\nvalue = [84, 299]'),\n",
       " Text(252.89659090909092, 193.80521739130435, 'X[2] <= 197631.0\\nentropy = 0.8\\nsamples = 284\\nvalue = [69, 215]'),\n",
       " Text(213.2659090909091, 184.3513043478261, 'X[2] <= 149592.0\\nentropy = 0.789\\nsamples = 279\\nvalue = [66, 213]'),\n",
       " Text(150.91363636363636, 174.89739130434782, 'X[2] <= 149214.0\\nentropy = 0.831\\nsamples = 213\\nvalue = [56, 157]'),\n",
       " Text(147.53181818181818, 165.44347826086957, 'X[3] <= 13.5\\nentropy = 0.826\\nsamples = 212\\nvalue = [55, 157]'),\n",
       " Text(91.30909090909091, 155.98956521739132, 'X[3] <= 9.5\\nentropy = 0.75\\nsamples = 98\\nvalue = [21, 77]'),\n",
       " Text(74.4, 146.53565217391304, 'X[2] <= 30101.5\\nentropy = 0.931\\nsamples = 26\\nvalue = [9, 17]'),\n",
       " Text(71.01818181818182, 137.08173913043478, 'entropy = 0.0\\nsamples = 1\\nvalue = [1, 0]'),\n",
       " Text(77.78181818181818, 137.08173913043478, 'X[1] <= 2.5\\nentropy = 0.904\\nsamples = 25\\nvalue = [8, 17]'),\n",
       " Text(64.25454545454545, 127.62782608695652, 'X[2] <= 99111.0\\nentropy = 0.989\\nsamples = 16\\nvalue = [7, 9]'),\n",
       " Text(54.10909090909091, 118.17391304347825, 'X[4] <= 0.5\\nentropy = 0.881\\nsamples = 10\\nvalue = [3, 7]'),\n",
       " Text(50.72727272727273, 108.72, 'entropy = 0.0\\nsamples = 2\\nvalue = [2, 0]'),\n",
       " Text(57.49090909090909, 108.72, 'X[2] <= 54889.0\\nentropy = 0.544\\nsamples = 8\\nvalue = [1, 7]'),\n",
       " Text(54.10909090909091, 99.26608695652173, 'X[2] <= 41840.5\\nentropy = 1.0\\nsamples = 2\\nvalue = [1, 1]'),\n",
       " Text(50.72727272727273, 89.81217391304348, 'entropy = 0.0\\nsamples = 1\\nvalue = [0, 1]'),\n",
       " Text(57.49090909090909, 89.81217391304348, 'entropy = 0.0\\nsamples = 1\\nvalue = [1, 0]'),\n",
       " Text(60.872727272727275, 99.26608695652173, 'entropy = 0.0\\nsamples = 6\\nvalue = [0, 6]'),\n",
       " Text(74.4, 118.17391304347825, 'X[3] <= 7.5\\nentropy = 0.918\\nsamples = 6\\nvalue = [4, 2]'),\n",
       " Text(71.01818181818182, 108.72, 'X[4] <= 0.5\\nentropy = 0.918\\nsamples = 3\\nvalue = [1, 2]'),\n",
       " Text(67.63636363636364, 99.26608695652173, 'entropy = 0.0\\nsamples = 1\\nvalue = [0, 1]'),\n",
       " Text(74.4, 99.26608695652173, 'X[2] <= 132127.5\\nentropy = 1.0\\nsamples = 2\\nvalue = [1, 1]'),\n",
       " Text(71.01818181818182, 89.81217391304348, 'entropy = 0.0\\nsamples = 1\\nvalue = [0, 1]'),\n",
       " Text(77.78181818181818, 89.81217391304348, 'entropy = 0.0\\nsamples = 1\\nvalue = [1, 0]'),\n",
       " Text(77.78181818181818, 108.72, 'entropy = 0.0\\nsamples = 3\\nvalue = [3, 0]'),\n",
       " Text(91.30909090909091, 127.62782608695652, 'X[2] <= 51234.5\\nentropy = 0.503\\nsamples = 9\\nvalue = [1, 8]'),\n",
       " Text(87.92727272727272, 118.17391304347825, 'X[4] <= 0.5\\nentropy = 1.0\\nsamples = 2\\nvalue = [1, 1]'),\n",
       " Text(84.54545454545455, 108.72, 'entropy = 0.0\\nsamples = 1\\nvalue = [1, 0]'),\n",
       " Text(91.30909090909091, 108.72, 'entropy = 0.0\\nsamples = 1\\nvalue = [0, 1]'),\n",
       " Text(94.69090909090909, 118.17391304347825, 'entropy = 0.0\\nsamples = 7\\nvalue = [0, 7]'),\n",
       " Text(108.21818181818182, 146.53565217391304, 'X[2] <= 34861.0\\nentropy = 0.65\\nsamples = 72\\nvalue = [12, 60]'),\n",
       " Text(104.83636363636364, 137.08173913043478, 'entropy = 0.0\\nsamples = 8\\nvalue = [0, 8]'),\n",
       " Text(111.6, 137.08173913043478, 'X[2] <= 47397.5\\nentropy = 0.696\\nsamples = 64\\nvalue = [12, 52]'),\n",
       " Text(104.83636363636364, 127.62782608695652, 'X[3] <= 12.5\\nentropy = 1.0\\nsamples = 8\\nvalue = [4, 4]'),\n",
       " Text(101.45454545454545, 118.17391304347825, 'X[4] <= 0.5\\nentropy = 0.985\\nsamples = 7\\nvalue = [3, 4]'),\n",
       " Text(98.07272727272728, 108.72, 'X[2] <= 40997.5\\nentropy = 0.971\\nsamples = 5\\nvalue = [3, 2]'),\n",
       " Text(94.69090909090909, 99.26608695652173, 'entropy = 0.0\\nsamples = 3\\nvalue = [3, 0]'),\n",
       " Text(101.45454545454545, 99.26608695652173, 'entropy = 0.0\\nsamples = 2\\nvalue = [0, 2]'),\n",
       " Text(104.83636363636364, 108.72, 'entropy = 0.0\\nsamples = 2\\nvalue = [0, 2]'),\n",
       " Text(108.21818181818182, 118.17391304347825, 'entropy = 0.0\\nsamples = 1\\nvalue = [1, 0]'),\n",
       " Text(118.36363636363636, 127.62782608695652, 'X[2] <= 80463.0\\nentropy = 0.592\\nsamples = 56\\nvalue = [8, 48]'),\n",
       " Text(114.98181818181818, 118.17391304347825, 'entropy = 0.0\\nsamples = 17\\nvalue = [0, 17]'),\n",
       " Text(121.74545454545455, 118.17391304347825, 'X[2] <= 82983.5\\nentropy = 0.732\\nsamples = 39\\nvalue = [8, 31]'),\n",
       " Text(118.36363636363636, 108.72, 'entropy = 0.0\\nsamples = 2\\nvalue = [2, 0]'),\n",
       " Text(125.12727272727273, 108.72, 'X[0] <= 0.5\\nentropy = 0.639\\nsamples = 37\\nvalue = [6, 31]'),\n",
       " Text(116.67272727272727, 99.26608695652173, 'X[2] <= 116093.5\\nentropy = 0.792\\nsamples = 21\\nvalue = [5, 16]'),\n",
       " Text(109.9090909090909, 89.81217391304348, 'X[3] <= 12.5\\nentropy = 0.946\\nsamples = 11\\nvalue = [4, 7]'),\n",
       " Text(106.52727272727273, 80.35826086956521, 'X[2] <= 114586.5\\nentropy = 0.764\\nsamples = 9\\nvalue = [2, 7]'),\n",
       " Text(103.14545454545454, 70.90434782608696, 'X[2] <= 101594.5\\nentropy = 0.544\\nsamples = 8\\nvalue = [1, 7]'),\n",
       " Text(99.76363636363637, 61.45043478260868, 'X[1] <= 2.0\\nentropy = 0.918\\nsamples = 3\\nvalue = [1, 2]'),\n",
       " Text(96.38181818181818, 51.99652173913043, 'entropy = 0.0\\nsamples = 1\\nvalue = [1, 0]'),\n",
       " Text(103.14545454545454, 51.99652173913043, 'entropy = 0.0\\nsamples = 2\\nvalue = [0, 2]'),\n",
       " Text(106.52727272727273, 61.45043478260868, 'entropy = 0.0\\nsamples = 5\\nvalue = [0, 5]'),\n",
       " Text(109.9090909090909, 70.90434782608696, 'entropy = 0.0\\nsamples = 1\\nvalue = [1, 0]'),\n",
       " Text(113.2909090909091, 80.35826086956521, 'entropy = 0.0\\nsamples = 2\\nvalue = [2, 0]'),\n",
       " Text(123.43636363636364, 89.81217391304348, 'X[3] <= 10.5\\nentropy = 0.469\\nsamples = 10\\nvalue = [1, 9]'),\n",
       " Text(120.05454545454546, 80.35826086956521, 'X[2] <= 134766.0\\nentropy = 0.918\\nsamples = 3\\nvalue = [1, 2]'),\n",
       " Text(116.67272727272727, 70.90434782608696, 'entropy = 0.0\\nsamples = 1\\nvalue = [0, 1]'),\n",
       " Text(123.43636363636364, 70.90434782608696, 'X[2] <= 140485.5\\nentropy = 1.0\\nsamples = 2\\nvalue = [1, 1]'),\n",
       " Text(120.05454545454546, 61.45043478260868, 'entropy = 0.0\\nsamples = 1\\nvalue = [1, 0]'),\n",
       " Text(126.81818181818181, 61.45043478260868, 'entropy = 0.0\\nsamples = 1\\nvalue = [0, 1]'),\n",
       " Text(126.81818181818181, 80.35826086956521, 'entropy = 0.0\\nsamples = 7\\nvalue = [0, 7]'),\n",
       " Text(133.5818181818182, 99.26608695652173, 'X[1] <= 2.5\\nentropy = 0.337\\nsamples = 16\\nvalue = [1, 15]'),\n",
       " Text(130.2, 89.81217391304348, 'entropy = 0.0\\nsamples = 11\\nvalue = [0, 11]'),\n",
       " Text(136.96363636363637, 89.81217391304348, 'X[4] <= 0.5\\nentropy = 0.722\\nsamples = 5\\nvalue = [1, 4]'),\n",
       " Text(133.5818181818182, 80.35826086956521, 'entropy = 0.0\\nsamples = 3\\nvalue = [0, 3]'),\n",
       " Text(140.34545454545454, 80.35826086956521, 'X[2] <= 116708.5\\nentropy = 1.0\\nsamples = 2\\nvalue = [1, 1]'),\n",
       " Text(136.96363636363637, 70.90434782608696, 'entropy = 0.0\\nsamples = 1\\nvalue = [0, 1]'),\n",
       " Text(143.72727272727272, 70.90434782608696, 'entropy = 0.0\\nsamples = 1\\nvalue = [1, 0]'),\n",
       " Text(203.75454545454545, 155.98956521739132, 'X[4] <= 0.5\\nentropy = 0.879\\nsamples = 114\\nvalue = [34, 80]'),\n",
       " Text(174.16363636363636, 146.53565217391304, 'X[2] <= 28493.0\\nentropy = 0.722\\nsamples = 55\\nvalue = [11, 44]'),\n",
       " Text(170.78181818181818, 137.08173913043478, 'entropy = 0.0\\nsamples = 1\\nvalue = [1, 0]'),\n",
       " Text(177.54545454545453, 137.08173913043478, 'X[1] <= 1.5\\nentropy = 0.691\\nsamples = 54\\nvalue = [10, 44]'),\n",
       " Text(167.4, 127.62782608695652, 'X[2] <= 114284.5\\nentropy = 0.918\\nsamples = 18\\nvalue = [6, 12]'),\n",
       " Text(164.01818181818183, 118.17391304347825, 'X[2] <= 106403.0\\nentropy = 0.971\\nsamples = 15\\nvalue = [6, 9]'),\n",
       " Text(160.63636363636363, 108.72, 'X[2] <= 74920.0\\nentropy = 0.94\\nsamples = 14\\nvalue = [5, 9]'),\n",
       " Text(153.87272727272727, 99.26608695652173, 'X[2] <= 60473.0\\nentropy = 1.0\\nsamples = 8\\nvalue = [4, 4]'),\n",
       " Text(150.4909090909091, 89.81217391304348, 'X[3] <= 14.5\\nentropy = 0.722\\nsamples = 5\\nvalue = [1, 4]'),\n",
       " Text(147.10909090909092, 80.35826086956521, 'entropy = 0.0\\nsamples = 1\\nvalue = [1, 0]'),\n",
       " Text(153.87272727272727, 80.35826086956521, 'entropy = 0.0\\nsamples = 4\\nvalue = [0, 4]'),\n",
       " Text(157.25454545454545, 89.81217391304348, 'entropy = 0.0\\nsamples = 3\\nvalue = [3, 0]'),\n",
       " Text(167.4, 99.26608695652173, 'X[2] <= 91858.5\\nentropy = 0.65\\nsamples = 6\\nvalue = [1, 5]'),\n",
       " Text(164.01818181818183, 89.81217391304348, 'entropy = 0.0\\nsamples = 4\\nvalue = [0, 4]'),\n",
       " Text(170.78181818181818, 89.81217391304348, 'X[2] <= 97193.5\\nentropy = 1.0\\nsamples = 2\\nvalue = [1, 1]'),\n",
       " Text(167.4, 80.35826086956521, 'entropy = 0.0\\nsamples = 1\\nvalue = [1, 0]'),\n",
       " Text(174.16363636363636, 80.35826086956521, 'entropy = 0.0\\nsamples = 1\\nvalue = [0, 1]'),\n",
       " Text(167.4, 108.72, 'entropy = 0.0\\nsamples = 1\\nvalue = [1, 0]'),\n",
       " Text(170.78181818181818, 118.17391304347825, 'entropy = 0.0\\nsamples = 3\\nvalue = [0, 3]'),\n",
       " Text(187.6909090909091, 127.62782608695652, 'X[2] <= 101247.0\\nentropy = 0.503\\nsamples = 36\\nvalue = [4, 32]'),\n",
       " Text(180.92727272727274, 118.17391304347825, 'X[3] <= 15.5\\nentropy = 0.267\\nsamples = 22\\nvalue = [1, 21]'),\n",
       " Text(177.54545454545453, 108.72, 'X[0] <= 0.5\\nentropy = 0.811\\nsamples = 4\\nvalue = [1, 3]'),\n",
       " Text(174.16363636363636, 99.26608695652173, 'entropy = 0.0\\nsamples = 3\\nvalue = [0, 3]'),\n",
       " Text(180.92727272727274, 99.26608695652173, 'entropy = 0.0\\nsamples = 1\\nvalue = [1, 0]'),\n",
       " Text(184.3090909090909, 108.72, 'entropy = 0.0\\nsamples = 18\\nvalue = [0, 18]'),\n",
       " Text(194.45454545454547, 118.17391304347825, 'X[3] <= 20.5\\nentropy = 0.75\\nsamples = 14\\nvalue = [3, 11]'),\n",
       " Text(191.07272727272726, 108.72, 'entropy = 0.0\\nsamples = 6\\nvalue = [0, 6]'),\n",
       " Text(197.83636363636364, 108.72, 'X[2] <= 116513.5\\nentropy = 0.954\\nsamples = 8\\nvalue = [3, 5]'),\n",
       " Text(194.45454545454547, 99.26608695652173, 'entropy = 0.0\\nsamples = 2\\nvalue = [2, 0]'),\n",
       " Text(201.21818181818182, 99.26608695652173, 'X[2] <= 123507.5\\nentropy = 0.65\\nsamples = 6\\nvalue = [1, 5]'),\n",
       " Text(197.83636363636364, 89.81217391304348, 'entropy = 0.0\\nsamples = 4\\nvalue = [0, 4]'),\n",
       " Text(204.6, 89.81217391304348, 'X[2] <= 127341.5\\nentropy = 1.0\\nsamples = 2\\nvalue = [1, 1]'),\n",
       " Text(201.21818181818182, 80.35826086956521, 'entropy = 0.0\\nsamples = 1\\nvalue = [1, 0]'),\n",
       " Text(207.98181818181817, 80.35826086956521, 'entropy = 0.0\\nsamples = 1\\nvalue = [0, 1]'),\n",
       " Text(233.34545454545454, 146.53565217391304, 'X[2] <= 126353.0\\nentropy = 0.965\\nsamples = 59\\nvalue = [23, 36]'),\n",
       " Text(226.5818181818182, 137.08173913043478, 'X[2] <= 119287.0\\nentropy = 0.937\\nsamples = 51\\nvalue = [18, 33]'),\n",
       " Text(223.2, 127.62782608695652, 'X[2] <= 112098.0\\nentropy = 0.954\\nsamples = 48\\nvalue = [18, 30]'),\n",
       " Text(219.8181818181818, 118.17391304347825, 'X[2] <= 30489.5\\nentropy = 0.944\\nsamples = 47\\nvalue = [17, 30]'),\n",
       " Text(216.43636363636364, 108.72, 'entropy = 0.0\\nsamples = 2\\nvalue = [0, 2]'),\n",
       " Text(223.2, 108.72, 'X[2] <= 33392.0\\nentropy = 0.956\\nsamples = 45\\nvalue = [17, 28]'),\n",
       " Text(219.8181818181818, 99.26608695652173, 'entropy = 0.0\\nsamples = 2\\nvalue = [2, 0]'),\n",
       " Text(226.5818181818182, 99.26608695652173, 'X[2] <= 52523.0\\nentropy = 0.933\\nsamples = 43\\nvalue = [15, 28]'),\n",
       " Text(218.12727272727273, 89.81217391304348, 'X[3] <= 22.5\\nentropy = 0.544\\nsamples = 8\\nvalue = [1, 7]'),\n",
       " Text(214.74545454545455, 80.35826086956521, 'entropy = 0.0\\nsamples = 7\\nvalue = [0, 7]'),\n",
       " Text(221.5090909090909, 80.35826086956521, 'entropy = 0.0\\nsamples = 1\\nvalue = [1, 0]'),\n",
       " Text(235.03636363636363, 89.81217391304348, 'X[3] <= 19.5\\nentropy = 0.971\\nsamples = 35\\nvalue = [14, 21]'),\n",
       " Text(228.27272727272728, 80.35826086956521, 'X[3] <= 18.5\\nentropy = 0.999\\nsamples = 25\\nvalue = [12, 13]'),\n",
       " Text(224.8909090909091, 70.90434782608696, 'X[2] <= 94987.0\\nentropy = 0.959\\nsamples = 21\\nvalue = [8, 13]'),\n",
       " Text(221.5090909090909, 61.45043478260868, 'X[2] <= 88307.0\\nentropy = 0.982\\nsamples = 19\\nvalue = [8, 11]'),\n",
       " Text(218.12727272727273, 51.99652173913043, 'X[1] <= 1.5\\nentropy = 0.937\\nsamples = 17\\nvalue = [6, 11]'),\n",
       " Text(214.74545454545455, 42.54260869565218, 'entropy = 0.0\\nsamples = 3\\nvalue = [0, 3]'),\n",
       " Text(221.5090909090909, 42.54260869565218, 'X[0] <= 0.5\\nentropy = 0.985\\nsamples = 14\\nvalue = [6, 8]'),\n",
       " Text(214.74545454545455, 33.0886956521739, 'X[2] <= 71126.5\\nentropy = 0.863\\nsamples = 7\\nvalue = [2, 5]'),\n",
       " Text(211.36363636363637, 23.634782608695645, 'entropy = 0.0\\nsamples = 2\\nvalue = [0, 2]'),\n",
       " Text(218.12727272727273, 23.634782608695645, 'X[2] <= 83394.0\\nentropy = 0.971\\nsamples = 5\\nvalue = [2, 3]'),\n",
       " Text(214.74545454545455, 14.180869565217392, 'X[3] <= 17.0\\nentropy = 0.918\\nsamples = 3\\nvalue = [2, 1]'),\n",
       " Text(211.36363636363637, 4.726956521739112, 'entropy = 0.0\\nsamples = 2\\nvalue = [2, 0]'),\n",
       " Text(218.12727272727273, 4.726956521739112, 'entropy = 0.0\\nsamples = 1\\nvalue = [0, 1]'),\n",
       " Text(221.5090909090909, 14.180869565217392, 'entropy = 0.0\\nsamples = 2\\nvalue = [0, 2]'),\n",
       " Text(228.27272727272728, 33.0886956521739, 'X[3] <= 14.5\\nentropy = 0.985\\nsamples = 7\\nvalue = [4, 3]'),\n",
       " Text(224.8909090909091, 23.634782608695645, 'entropy = 0.0\\nsamples = 1\\nvalue = [0, 1]'),\n",
       " Text(231.65454545454546, 23.634782608695645, 'X[2] <= 78353.0\\nentropy = 0.918\\nsamples = 6\\nvalue = [4, 2]'),\n",
       " Text(228.27272727272728, 14.180869565217392, 'entropy = 0.0\\nsamples = 3\\nvalue = [3, 0]'),\n",
       " Text(235.03636363636363, 14.180869565217392, 'X[2] <= 84099.0\\nentropy = 0.918\\nsamples = 3\\nvalue = [1, 2]'),\n",
       " Text(231.65454545454546, 4.726956521739112, 'entropy = 0.0\\nsamples = 2\\nvalue = [0, 2]'),\n",
       " Text(238.4181818181818, 4.726956521739112, 'entropy = 0.0\\nsamples = 1\\nvalue = [1, 0]'),\n",
       " Text(224.8909090909091, 51.99652173913043, 'entropy = 0.0\\nsamples = 2\\nvalue = [2, 0]'),\n",
       " Text(228.27272727272728, 61.45043478260868, 'entropy = 0.0\\nsamples = 2\\nvalue = [0, 2]'),\n",
       " Text(231.65454545454546, 70.90434782608696, 'entropy = 0.0\\nsamples = 4\\nvalue = [4, 0]'),\n",
       " Text(241.8, 80.35826086956521, 'X[2] <= 53303.5\\nentropy = 0.722\\nsamples = 10\\nvalue = [2, 8]'),\n",
       " Text(238.4181818181818, 70.90434782608696, 'entropy = 0.0\\nsamples = 1\\nvalue = [1, 0]'),\n",
       " Text(245.1818181818182, 70.90434782608696, 'X[3] <= 23.5\\nentropy = 0.503\\nsamples = 9\\nvalue = [1, 8]'),\n",
       " Text(241.8, 61.45043478260868, 'entropy = 0.0\\nsamples = 5\\nvalue = [0, 5]'),\n",
       " Text(248.56363636363636, 61.45043478260868, 'X[1] <= 1.5\\nentropy = 0.811\\nsamples = 4\\nvalue = [1, 3]'),\n",
       " Text(245.1818181818182, 51.99652173913043, 'entropy = 0.0\\nsamples = 2\\nvalue = [0, 2]'),\n",
       " Text(251.94545454545454, 51.99652173913043, 'X[0] <= 0.5\\nentropy = 1.0\\nsamples = 2\\nvalue = [1, 1]'),\n",
       " Text(248.56363636363636, 42.54260869565218, 'entropy = 0.0\\nsamples = 1\\nvalue = [0, 1]'),\n",
       " Text(255.32727272727274, 42.54260869565218, 'entropy = 0.0\\nsamples = 1\\nvalue = [1, 0]'),\n",
       " Text(226.5818181818182, 118.17391304347825, 'entropy = 0.0\\nsamples = 1\\nvalue = [1, 0]'),\n",
       " Text(229.96363636363637, 127.62782608695652, 'entropy = 0.0\\nsamples = 3\\nvalue = [0, 3]'),\n",
       " Text(240.10909090909092, 137.08173913043478, 'X[0] <= 0.5\\nentropy = 0.954\\nsamples = 8\\nvalue = [5, 3]'),\n",
       " Text(236.72727272727272, 127.62782608695652, 'entropy = 0.0\\nsamples = 4\\nvalue = [4, 0]'),\n",
       " Text(243.4909090909091, 127.62782608695652, 'X[3] <= 23.0\\nentropy = 0.811\\nsamples = 4\\nvalue = [1, 3]'),\n",
       " Text(240.10909090909092, 118.17391304347825, 'entropy = 0.0\\nsamples = 3\\nvalue = [0, 3]'),\n",
       " Text(246.87272727272727, 118.17391304347825, 'entropy = 0.0\\nsamples = 1\\nvalue = [1, 0]'),\n",
       " Text(154.29545454545453, 165.44347826086957, 'entropy = 0.0\\nsamples = 1\\nvalue = [1, 0]'),\n",
       " Text(275.6181818181818, 174.89739130434782, 'X[3] <= 8.5\\nentropy = 0.614\\nsamples = 66\\nvalue = [10, 56]'),\n",
       " Text(272.23636363636365, 165.44347826086957, 'entropy = 0.0\\nsamples = 7\\nvalue = [0, 7]'),\n",
       " Text(279.0, 165.44347826086957, 'X[2] <= 193387.0\\nentropy = 0.657\\nsamples = 59\\nvalue = [10, 49]'),\n",
       " Text(275.6181818181818, 155.98956521739132, 'X[2] <= 192353.5\\nentropy = 0.699\\nsamples = 53\\nvalue = [10, 43]'),\n",
       " Text(272.23636363636365, 146.53565217391304, 'X[4] <= 0.5\\nentropy = 0.665\\nsamples = 52\\nvalue = [9, 43]'),\n",
       " Text(263.7818181818182, 137.08173913043478, 'X[3] <= 11.5\\nentropy = 0.84\\nsamples = 26\\nvalue = [7, 19]'),\n",
       " Text(257.0181818181818, 127.62782608695652, 'X[2] <= 178279.0\\nentropy = 1.0\\nsamples = 8\\nvalue = [4, 4]'),\n",
       " Text(253.63636363636363, 118.17391304347825, 'X[2] <= 154841.0\\nentropy = 0.918\\nsamples = 6\\nvalue = [2, 4]'),\n",
       " Text(250.25454545454545, 108.72, 'entropy = 0.0\\nsamples = 1\\nvalue = [1, 0]'),\n",
       " Text(257.0181818181818, 108.72, 'X[0] <= 0.5\\nentropy = 0.722\\nsamples = 5\\nvalue = [1, 4]'),\n",
       " Text(253.63636363636363, 99.26608695652173, 'X[1] <= 2.5\\nentropy = 1.0\\nsamples = 2\\nvalue = [1, 1]'),\n",
       " Text(250.25454545454545, 89.81217391304348, 'entropy = 0.0\\nsamples = 1\\nvalue = [0, 1]'),\n",
       " Text(257.0181818181818, 89.81217391304348, 'entropy = 0.0\\nsamples = 1\\nvalue = [1, 0]'),\n",
       " Text(260.4, 99.26608695652173, 'entropy = 0.0\\nsamples = 3\\nvalue = [0, 3]'),\n",
       " Text(260.4, 118.17391304347825, 'entropy = 0.0\\nsamples = 2\\nvalue = [2, 0]'),\n",
       " Text(270.54545454545456, 127.62782608695652, 'X[2] <= 157649.0\\nentropy = 0.65\\nsamples = 18\\nvalue = [3, 15]'),\n",
       " Text(267.1636363636364, 118.17391304347825, 'entropy = 0.0\\nsamples = 4\\nvalue = [0, 4]'),\n",
       " Text(273.92727272727274, 118.17391304347825, 'X[2] <= 158092.0\\nentropy = 0.75\\nsamples = 14\\nvalue = [3, 11]'),\n",
       " Text(270.54545454545456, 108.72, 'entropy = 0.0\\nsamples = 1\\nvalue = [1, 0]'),\n",
       " Text(277.3090909090909, 108.72, 'X[2] <= 172189.5\\nentropy = 0.619\\nsamples = 13\\nvalue = [2, 11]'),\n",
       " Text(273.92727272727274, 99.26608695652173, 'entropy = 0.0\\nsamples = 6\\nvalue = [0, 6]'),\n",
       " Text(280.6909090909091, 99.26608695652173, 'X[2] <= 179749.5\\nentropy = 0.863\\nsamples = 7\\nvalue = [2, 5]'),\n",
       " Text(277.3090909090909, 89.81217391304348, 'X[3] <= 21.5\\nentropy = 0.918\\nsamples = 3\\nvalue = [2, 1]'),\n",
       " Text(273.92727272727274, 80.35826086956521, 'entropy = 0.0\\nsamples = 2\\nvalue = [2, 0]'),\n",
       " Text(280.6909090909091, 80.35826086956521, 'entropy = 0.0\\nsamples = 1\\nvalue = [0, 1]'),\n",
       " Text(284.07272727272726, 89.81217391304348, 'entropy = 0.0\\nsamples = 4\\nvalue = [0, 4]'),\n",
       " Text(280.6909090909091, 137.08173913043478, 'X[3] <= 20.0\\nentropy = 0.391\\nsamples = 26\\nvalue = [2, 24]'),\n",
       " Text(277.3090909090909, 127.62782608695652, 'entropy = 0.0\\nsamples = 18\\nvalue = [0, 18]'),\n",
       " Text(284.07272727272726, 127.62782608695652, 'X[2] <= 169560.0\\nentropy = 0.811\\nsamples = 8\\nvalue = [2, 6]'),\n",
       " Text(280.6909090909091, 118.17391304347825, 'entropy = 0.0\\nsamples = 3\\nvalue = [0, 3]'),\n",
       " Text(287.45454545454544, 118.17391304347825, 'X[2] <= 174957.5\\nentropy = 0.971\\nsamples = 5\\nvalue = [2, 3]'),\n",
       " Text(284.07272727272726, 108.72, 'entropy = 0.0\\nsamples = 1\\nvalue = [1, 0]'),\n",
       " Text(290.8363636363636, 108.72, 'X[3] <= 21.5\\nentropy = 0.811\\nsamples = 4\\nvalue = [1, 3]'),\n",
       " Text(287.45454545454544, 99.26608695652173, 'entropy = 0.0\\nsamples = 2\\nvalue = [0, 2]'),\n",
       " Text(294.21818181818185, 99.26608695652173, 'X[0] <= 0.5\\nentropy = 1.0\\nsamples = 2\\nvalue = [1, 1]'),\n",
       " Text(290.8363636363636, 89.81217391304348, 'entropy = 0.0\\nsamples = 1\\nvalue = [1, 0]'),\n",
       " Text(297.6, 89.81217391304348, 'entropy = 0.0\\nsamples = 1\\nvalue = [0, 1]'),\n",
       " Text(279.0, 146.53565217391304, 'entropy = 0.0\\nsamples = 1\\nvalue = [1, 0]'),\n",
       " Text(282.3818181818182, 155.98956521739132, 'entropy = 0.0\\nsamples = 6\\nvalue = [0, 6]'),\n",
       " Text(292.5272727272727, 184.3513043478261, 'X[4] <= 0.5\\nentropy = 0.971\\nsamples = 5\\nvalue = [3, 2]'),\n",
       " Text(289.1454545454545, 174.89739130434782, 'X[0] <= 0.5\\nentropy = 0.811\\nsamples = 4\\nvalue = [3, 1]'),\n",
       " Text(285.76363636363635, 165.44347826086957, 'entropy = 0.0\\nsamples = 3\\nvalue = [3, 0]'),\n",
       " Text(292.5272727272727, 165.44347826086957, 'entropy = 0.0\\nsamples = 1\\nvalue = [0, 1]'),\n",
       " Text(295.90909090909093, 174.89739130434782, 'entropy = 0.0\\nsamples = 1\\nvalue = [0, 1]'),\n",
       " Text(311.1272727272727, 193.80521739130435, 'X[2] <= 46462.0\\nentropy = 0.614\\nsamples = 99\\nvalue = [15, 84]'),\n",
       " Text(307.74545454545455, 184.3513043478261, 'entropy = 0.0\\nsamples = 13\\nvalue = [0, 13]'),\n",
       " Text(314.5090909090909, 184.3513043478261, 'X[2] <= 46841.0\\nentropy = 0.668\\nsamples = 86\\nvalue = [15, 71]'),\n",
       " Text(311.1272727272727, 174.89739130434782, 'entropy = 0.0\\nsamples = 1\\nvalue = [1, 0]'),\n",
       " Text(317.8909090909091, 174.89739130434782, 'X[3] <= 25.5\\nentropy = 0.645\\nsamples = 85\\nvalue = [14, 71]'),\n",
       " Text(314.5090909090909, 165.44347826086957, 'entropy = 0.0\\nsamples = 8\\nvalue = [0, 8]'),\n",
       " Text(321.27272727272725, 165.44347826086957, 'X[2] <= 65588.5\\nentropy = 0.684\\nsamples = 77\\nvalue = [14, 63]'),\n",
       " Text(317.8909090909091, 155.98956521739132, 'entropy = 0.0\\nsamples = 6\\nvalue = [0, 6]'),\n",
       " Text(324.6545454545454, 155.98956521739132, 'X[2] <= 67197.5\\nentropy = 0.716\\nsamples = 71\\nvalue = [14, 57]'),\n",
       " Text(321.27272727272725, 146.53565217391304, 'entropy = 0.0\\nsamples = 1\\nvalue = [1, 0]'),\n",
       " Text(328.03636363636366, 146.53565217391304, 'X[2] <= 192438.5\\nentropy = 0.692\\nsamples = 70\\nvalue = [13, 57]'),\n",
       " Text(324.6545454545454, 137.08173913043478, 'X[2] <= 191119.5\\nentropy = 0.728\\nsamples = 64\\nvalue = [13, 51]'),\n",
       " Text(321.27272727272725, 127.62782608695652, 'X[2] <= 178582.5\\nentropy = 0.702\\nsamples = 63\\nvalue = [12, 51]'),\n",
       " Text(317.8909090909091, 118.17391304347825, 'X[2] <= 167614.5\\nentropy = 0.736\\nsamples = 58\\nvalue = [12, 46]'),\n",
       " Text(314.5090909090909, 108.72, 'X[2] <= 130412.0\\nentropy = 0.677\\nsamples = 56\\nvalue = [10, 46]'),\n",
       " Text(307.74545454545455, 99.26608695652173, 'X[2] <= 125779.5\\nentropy = 0.776\\nsamples = 35\\nvalue = [8, 27]'),\n",
       " Text(304.3636363636364, 89.81217391304348, 'X[2] <= 115004.5\\nentropy = 0.684\\nsamples = 33\\nvalue = [6, 27]'),\n",
       " Text(300.9818181818182, 80.35826086956521, 'X[2] <= 114743.5\\nentropy = 0.75\\nsamples = 28\\nvalue = [6, 22]'),\n",
       " Text(297.6, 70.90434782608696, 'X[2] <= 105105.5\\nentropy = 0.691\\nsamples = 27\\nvalue = [5, 22]'),\n",
       " Text(294.21818181818185, 61.45043478260868, 'X[2] <= 103735.5\\nentropy = 0.811\\nsamples = 20\\nvalue = [5, 15]'),\n",
       " Text(290.8363636363636, 51.99652173913043, 'X[2] <= 84708.0\\nentropy = 0.742\\nsamples = 19\\nvalue = [4, 15]'),\n",
       " Text(284.07272727272726, 42.54260869565218, 'X[2] <= 78701.0\\nentropy = 0.918\\nsamples = 9\\nvalue = [3, 6]'),\n",
       " Text(280.6909090909091, 33.0886956521739, 'X[0] <= 0.5\\nentropy = 0.592\\nsamples = 7\\nvalue = [1, 6]'),\n",
       " Text(277.3090909090909, 23.634782608695645, 'entropy = 0.0\\nsamples = 5\\nvalue = [0, 5]'),\n",
       " Text(284.07272727272726, 23.634782608695645, 'X[2] <= 74755.5\\nentropy = 1.0\\nsamples = 2\\nvalue = [1, 1]'),\n",
       " Text(280.6909090909091, 14.180869565217392, 'entropy = 0.0\\nsamples = 1\\nvalue = [1, 0]'),\n",
       " Text(287.45454545454544, 14.180869565217392, 'entropy = 0.0\\nsamples = 1\\nvalue = [0, 1]'),\n",
       " Text(287.45454545454544, 33.0886956521739, 'entropy = 0.0\\nsamples = 2\\nvalue = [2, 0]'),\n",
       " Text(297.6, 42.54260869565218, 'X[2] <= 102229.0\\nentropy = 0.469\\nsamples = 10\\nvalue = [1, 9]'),\n",
       " Text(294.21818181818185, 33.0886956521739, 'entropy = 0.0\\nsamples = 8\\nvalue = [0, 8]'),\n",
       " Text(300.9818181818182, 33.0886956521739, 'X[0] <= 0.5\\nentropy = 1.0\\nsamples = 2\\nvalue = [1, 1]'),\n",
       " Text(297.6, 23.634782608695645, 'entropy = 0.0\\nsamples = 1\\nvalue = [1, 0]'),\n",
       " Text(304.3636363636364, 23.634782608695645, 'entropy = 0.0\\nsamples = 1\\nvalue = [0, 1]'),\n",
       " Text(297.6, 51.99652173913043, 'entropy = 0.0\\nsamples = 1\\nvalue = [1, 0]'),\n",
       " Text(300.9818181818182, 61.45043478260868, 'entropy = 0.0\\nsamples = 7\\nvalue = [0, 7]'),\n",
       " Text(304.3636363636364, 70.90434782608696, 'entropy = 0.0\\nsamples = 1\\nvalue = [1, 0]'),\n",
       " Text(307.74545454545455, 80.35826086956521, 'entropy = 0.0\\nsamples = 5\\nvalue = [0, 5]'),\n",
       " Text(311.1272727272727, 89.81217391304348, 'entropy = 0.0\\nsamples = 2\\nvalue = [2, 0]'),\n",
       " Text(321.27272727272725, 99.26608695652173, 'X[3] <= 27.5\\nentropy = 0.454\\nsamples = 21\\nvalue = [2, 19]'),\n",
       " Text(317.8909090909091, 89.81217391304348, 'X[0] <= 0.5\\nentropy = 0.684\\nsamples = 11\\nvalue = [2, 9]'),\n",
       " Text(314.5090909090909, 80.35826086956521, 'entropy = 0.0\\nsamples = 4\\nvalue = [0, 4]'),\n",
       " Text(321.27272727272725, 80.35826086956521, 'X[1] <= 1.5\\nentropy = 0.863\\nsamples = 7\\nvalue = [2, 5]'),\n",
       " Text(317.8909090909091, 70.90434782608696, 'entropy = 0.0\\nsamples = 2\\nvalue = [0, 2]'),\n",
       " Text(324.6545454545454, 70.90434782608696, 'X[1] <= 2.5\\nentropy = 0.971\\nsamples = 5\\nvalue = [2, 3]'),\n",
       " Text(321.27272727272725, 61.45043478260868, 'X[4] <= 0.5\\nentropy = 1.0\\nsamples = 4\\nvalue = [2, 2]'),\n",
       " Text(317.8909090909091, 51.99652173913043, 'X[3] <= 26.5\\nentropy = 0.918\\nsamples = 3\\nvalue = [2, 1]'),\n",
       " Text(314.5090909090909, 42.54260869565218, 'X[2] <= 144724.0\\nentropy = 1.0\\nsamples = 2\\nvalue = [1, 1]'),\n",
       " Text(311.1272727272727, 33.0886956521739, 'entropy = 0.0\\nsamples = 1\\nvalue = [1, 0]'),\n",
       " Text(317.8909090909091, 33.0886956521739, 'entropy = 0.0\\nsamples = 1\\nvalue = [0, 1]'),\n",
       " Text(321.27272727272725, 42.54260869565218, 'entropy = 0.0\\nsamples = 1\\nvalue = [1, 0]'),\n",
       " Text(324.6545454545454, 51.99652173913043, 'entropy = 0.0\\nsamples = 1\\nvalue = [0, 1]'),\n",
       " Text(328.03636363636366, 61.45043478260868, 'entropy = 0.0\\nsamples = 1\\nvalue = [0, 1]'),\n",
       " Text(324.6545454545454, 89.81217391304348, 'entropy = 0.0\\nsamples = 10\\nvalue = [0, 10]'),\n",
       " Text(321.27272727272725, 108.72, 'entropy = 0.0\\nsamples = 2\\nvalue = [2, 0]'),\n",
       " Text(324.6545454545454, 118.17391304347825, 'entropy = 0.0\\nsamples = 5\\nvalue = [0, 5]'),\n",
       " Text(328.03636363636366, 127.62782608695652, 'entropy = 0.0\\nsamples = 1\\nvalue = [1, 0]'),\n",
       " Text(331.41818181818184, 137.08173913043478, 'entropy = 0.0\\nsamples = 6\\nvalue = [0, 6]')]"
      ]
     },
     "execution_count": 74,
     "metadata": {},
     "output_type": "execute_result"
    },
    {
     "data": {
      "image/png": "[encoded data removed]",
      "text/plain": [
       "<Figure size 432x288 with 1 Axes>"
      ]
     },
     "metadata": {
      "needs_background": "light"
     },
     "output_type": "display_data"
    }
   ],
   "source": [
    "tree.plot_tree(fitted_model)"
   ]
  },
  {
   "cell_type": "code",
   "execution_count": 75,
   "id": "be397250",
   "metadata": {},
   "outputs": [
    {
     "data": {
      "text/plain": [
       "pandas.core.series.Series"
      ]
     },
     "execution_count": 75,
     "metadata": {},
     "output_type": "execute_result"
    }
   ],
   "source": [
    "type(pred)"
   ]
  },
  {
   "cell_type": "code",
   "execution_count": 76,
   "id": "e7ce8b97",
   "metadata": {},
   "outputs": [
    {
     "data": {
      "text/plain": [
       "1    95\n",
       "0    25\n",
       "dtype: int64"
      ]
     },
     "execution_count": 76,
     "metadata": {},
     "output_type": "execute_result"
    }
   ],
   "source": [
    "pred.value_counts()"
   ]
  },
  {
   "cell_type": "code",
   "execution_count": 77,
   "id": "847080cc",
   "metadata": {},
   "outputs": [
    {
     "data": {
      "text/html": [
       "<div>\n",
       "<style scoped>\n",
       "    .dataframe tbody tr th:only-of-type {\n",
       "        vertical-align: middle;\n",
       "    }\n",
       "\n",
       "    .dataframe tbody tr th {\n",
       "        vertical-align: top;\n",
       "    }\n",
       "\n",
       "    .dataframe thead th {\n",
       "        text-align: right;\n",
       "    }\n",
       "</style>\n",
       "<table border=\"1\" class=\"dataframe\">\n",
       "  <thead>\n",
       "    <tr style=\"text-align: right;\">\n",
       "      <th>col_0</th>\n",
       "      <th>0</th>\n",
       "      <th>1</th>\n",
       "    </tr>\n",
       "    <tr>\n",
       "      <th>output</th>\n",
       "      <th></th>\n",
       "      <th></th>\n",
       "    </tr>\n",
       "  </thead>\n",
       "  <tbody>\n",
       "    <tr>\n",
       "      <th>0</th>\n",
       "      <td>2</td>\n",
       "      <td>4</td>\n",
       "    </tr>\n",
       "    <tr>\n",
       "      <th>1</th>\n",
       "      <td>2</td>\n",
       "      <td>19</td>\n",
       "    </tr>\n",
       "  </tbody>\n",
       "</table>\n",
       "</div>"
      ],
      "text/plain": [
       "col_0   0   1\n",
       "output       \n",
       "0       2   4\n",
       "1       2  19"
      ]
     },
     "execution_count": 77,
     "metadata": {},
     "output_type": "execute_result"
    }
   ],
   "source": [
    "pd.crosstab(test[target],pred)"
   ]
  },
  {
   "cell_type": "code",
   "execution_count": 78,
   "id": "dee085d0",
   "metadata": {},
   "outputs": [],
   "source": [
    "##'1' belong for 'Good' and '0' belong for 'Risky'"
   ]
  },
  {
   "cell_type": "code",
   "execution_count": 79,
   "id": "c8bc08a2",
   "metadata": {},
   "outputs": [
    {
     "name": "stdout",
     "output_type": "stream",
     "text": [
      "Accuracy 75.0\n"
     ]
    }
   ],
   "source": [
    "print('Accuracy', (14+1)/(1+3+2+14)*100)"
   ]
  },
  {
   "cell_type": "code",
   "execution_count": 80,
   "id": "4262d8de",
   "metadata": {},
   "outputs": [],
   "source": [
    "## accuracy for train and test ## "
   ]
  },
  {
   "cell_type": "code",
   "execution_count": 81,
   "id": "7412b3b1",
   "metadata": {},
   "outputs": [
    {
     "data": {
      "text/plain": [
       "dtype('int64')"
      ]
     },
     "execution_count": 81,
     "metadata": {},
     "output_type": "execute_result"
    }
   ],
   "source": [
    "train[target].dtype"
   ]
  },
  {
   "cell_type": "code",
   "execution_count": 82,
   "id": "f296d557",
   "metadata": {},
   "outputs": [
    {
     "data": {
      "text/plain": [
       "pandas.core.series.Series"
      ]
     },
     "execution_count": 82,
     "metadata": {},
     "output_type": "execute_result"
    }
   ],
   "source": [
    "type(train[target])"
   ]
  },
  {
   "cell_type": "code",
   "execution_count": 83,
   "id": "3675e0f8",
   "metadata": {},
   "outputs": [],
   "source": [
    "acc = np.mean(pred == train[target].reset_index(drop = True, inplace = True))"
   ]
  },
  {
   "cell_type": "code",
   "execution_count": 84,
   "id": "1ea83539",
   "metadata": {},
   "outputs": [
    {
     "data": {
      "text/plain": [
       "0.0"
      ]
     },
     "execution_count": 84,
     "metadata": {},
     "output_type": "execute_result"
    }
   ],
   "source": [
    "acc"
   ]
  },
  {
   "cell_type": "code",
   "execution_count": null,
   "id": "aef75219",
   "metadata": {},
   "outputs": [],
   "source": [
    "## same type proble with Campany data , only visual are getting different on basis of provided data"
   ]
  }
 ],
 "metadata": {
  "kernelspec": {
   "display_name": "Python 3",
   "language": "python",
   "name": "python3"
  },
  "language_info": {
   "codemirror_mode": {
    "name": "ipython",
    "version": 3
   },
   "file_extension": ".py",
   "mimetype": "text/x-python",
   "name": "python",
   "nbconvert_exporter": "python",
   "pygments_lexer": "ipython3",
   "version": "3.8.8"
  }
 },
 "nbformat": 4,
 "nbformat_minor": 5
}
